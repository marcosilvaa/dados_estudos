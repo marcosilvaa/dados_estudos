{
  "nbformat": 4,
  "nbformat_minor": 0,
  "metadata": {
    "colab": {
      "name": "Orçamento 2.0.ipynb",
      "provenance": [],
      "collapsed_sections": [],
      "authorship_tag": "ABX9TyPYcpDXPlRAvL+r3LVEVp+D",
      "include_colab_link": true
    },
    "kernelspec": {
      "name": "python3",
      "display_name": "Python 3"
    },
    "language_info": {
      "name": "python"
    }
  },
  "cells": [
    {
      "cell_type": "markdown",
      "metadata": {
        "id": "view-in-github",
        "colab_type": "text"
      },
      "source": [
        "<a href=\"https://colab.research.google.com/github/marcosilvaa/dados_estudos/blob/main/Or%C3%A7amento_2_0.ipynb\" target=\"_parent\"><img src=\"https://colab.research.google.com/assets/colab-badge.svg\" alt=\"Open In Colab\"/></a>"
      ]
    },
    {
      "cell_type": "markdown",
      "source": [
        "# Otimizando Orçamento de Lajes\n",
        "A idéia desse script é agilizar o processo de confecção de orçamento, uma vez que temos duas entradas necessárias sendo:\n",
        "* Lado Maior da Laje\n",
        "* Lado Menor da Laje\n",
        "\n",
        "O Python fica encarregado de transformar estes dados em um dataframe assim como realizar os calculos necessários. "
      ],
      "metadata": {
        "id": "W5gI_LKeekTR"
      }
    },
    {
      "cell_type": "code",
      "execution_count": null,
      "metadata": {
        "id": "sYnmyJ6dyR3x"
      },
      "outputs": [],
      "source": [
        "# importando pacotes\n",
        "import pandas as pd"
      ]
    },
    {
      "cell_type": "code",
      "source": [
        "# criando dataset vazio\n",
        "df = pd.DataFrame(columns=['Lado Maior', 'Lado Menor'])\n",
        "\n",
        "# contador do loop\n",
        "a = 1\n",
        "\n",
        "# Primeira interação\n",
        "print('Digite 1 para adcionar uma nova laje: ')\n",
        "print('Digite 0 para finalizar: ')\n",
        "decisao = float(input())\n",
        "\n",
        "# Estrutura de repetição de coleta e armazena os dados necessários\n",
        "while decisao != 0:\n",
        "\n",
        "  # input dos dados\n",
        "  LadoMaior = float(input('Digite o Lado Maior: '))\n",
        "  LadoMenor = float(input('Digite o Lado Menor: '))\n",
        "\n",
        "  # criando dicionário para armazenar os dados coletados\n",
        "  d = {'Lado Maior': LadoMaior, 'Lado Menor': LadoMenor}\n",
        "\n",
        "  # transformando dicionário em dataframe\n",
        "  linha = pd.DataFrame(data=d, index=[a])\n",
        "\n",
        "  # atualizando contador/índice\n",
        "  a += 1\n",
        "\n",
        "  # atribuindo dados ao dataset criando antes do while\n",
        "  df = pd.concat([df,linha])\n",
        "\n",
        "  # continuando/finalizando o loop \n",
        "  decisao = float(input(\"Digite 1 para adcionar um novo elemento ou 0 para finalizar: \"))\n",
        "\n",
        "else:\n",
        "  # Utilizando os dados armazenados para criar novas colunas com as informações adcionais\n",
        "  df['Area'] = round((df['Lado Maior'] * df['Lado Menor']),2)\n",
        "  df['EPS'] = round(df['Area'] / 0.5)\n",
        "  df['Qtd.Trilho'] = round(df['Lado Maior'] / 0.5)"
      ],
      "metadata": {
        "id": "M-0BPBYCRxyD",
        "colab": {
          "base_uri": "https://localhost:8080/"
        },
        "outputId": "2a057b0c-d06e-4f4e-ed3b-a0563251b618"
      },
      "execution_count": 78,
      "outputs": [
        {
          "name": "stdout",
          "output_type": "stream",
          "text": [
            "Digite 1 para adcionar uma nova laje: \n",
            "Digite 0 para finalizar: \n",
            "1\n",
            "Digite o Lado Maior: 5.2\n",
            "Digite o Lado Menor: 3\n",
            "Digite 1 para adcionar um novo elemento ou 0 para finalizar: 1\n",
            "Digite o Lado Maior: 4.7\n",
            "Digite o Lado Menor: 3.5\n",
            "Digite 1 para adcionar um novo elemento ou 0 para finalizar: 1\n",
            "Digite o Lado Maior: 3.5\n",
            "Digite o Lado Menor: 2.85\n",
            "Digite 1 para adcionar um novo elemento ou 0 para finalizar: 1\n",
            "Digite o Lado Maior: 4.2\n",
            "Digite o Lado Menor: 3.75\n",
            "Digite 1 para adcionar um novo elemento ou 0 para finalizar: 1\n",
            "Digite o Lado Maior: 4.25\n",
            "Digite o Lado Menor: 4\n",
            "Digite 1 para adcionar um novo elemento ou 0 para finalizar: 0\n"
          ]
        }
      ]
    },
    {
      "cell_type": "code",
      "source": [
        "df.head()"
      ],
      "metadata": {
        "colab": {
          "base_uri": "https://localhost:8080/",
          "height": 206
        },
        "id": "tOK8x65gYt_I",
        "outputId": "ac62ac06-167b-4cc2-8292-7ab462910ae5"
      },
      "execution_count": 80,
      "outputs": [
        {
          "output_type": "execute_result",
          "data": {
            "text/plain": [
              "   Lado Maior  Lado Menor   Area   EPS  Qtd.Trilho\n",
              "1        5.20        3.00  15.60  31.0        10.0\n",
              "2        4.70        3.50  16.45  33.0         9.0\n",
              "3        3.50        2.85   9.98  20.0         7.0\n",
              "4        4.20        3.75  15.75  32.0         8.0\n",
              "5        4.25        4.00  17.00  34.0         8.0"
            ],
            "text/html": [
              "\n",
              "  <div id=\"df-be61b29f-d76d-4547-98b2-abdd0b42b920\">\n",
              "    <div class=\"colab-df-container\">\n",
              "      <div>\n",
              "<style scoped>\n",
              "    .dataframe tbody tr th:only-of-type {\n",
              "        vertical-align: middle;\n",
              "    }\n",
              "\n",
              "    .dataframe tbody tr th {\n",
              "        vertical-align: top;\n",
              "    }\n",
              "\n",
              "    .dataframe thead th {\n",
              "        text-align: right;\n",
              "    }\n",
              "</style>\n",
              "<table border=\"1\" class=\"dataframe\">\n",
              "  <thead>\n",
              "    <tr style=\"text-align: right;\">\n",
              "      <th></th>\n",
              "      <th>Lado Maior</th>\n",
              "      <th>Lado Menor</th>\n",
              "      <th>Area</th>\n",
              "      <th>EPS</th>\n",
              "      <th>Qtd.Trilho</th>\n",
              "    </tr>\n",
              "  </thead>\n",
              "  <tbody>\n",
              "    <tr>\n",
              "      <th>1</th>\n",
              "      <td>5.20</td>\n",
              "      <td>3.00</td>\n",
              "      <td>15.60</td>\n",
              "      <td>31.0</td>\n",
              "      <td>10.0</td>\n",
              "    </tr>\n",
              "    <tr>\n",
              "      <th>2</th>\n",
              "      <td>4.70</td>\n",
              "      <td>3.50</td>\n",
              "      <td>16.45</td>\n",
              "      <td>33.0</td>\n",
              "      <td>9.0</td>\n",
              "    </tr>\n",
              "    <tr>\n",
              "      <th>3</th>\n",
              "      <td>3.50</td>\n",
              "      <td>2.85</td>\n",
              "      <td>9.98</td>\n",
              "      <td>20.0</td>\n",
              "      <td>7.0</td>\n",
              "    </tr>\n",
              "    <tr>\n",
              "      <th>4</th>\n",
              "      <td>4.20</td>\n",
              "      <td>3.75</td>\n",
              "      <td>15.75</td>\n",
              "      <td>32.0</td>\n",
              "      <td>8.0</td>\n",
              "    </tr>\n",
              "    <tr>\n",
              "      <th>5</th>\n",
              "      <td>4.25</td>\n",
              "      <td>4.00</td>\n",
              "      <td>17.00</td>\n",
              "      <td>34.0</td>\n",
              "      <td>8.0</td>\n",
              "    </tr>\n",
              "  </tbody>\n",
              "</table>\n",
              "</div>\n",
              "      <button class=\"colab-df-convert\" onclick=\"convertToInteractive('df-be61b29f-d76d-4547-98b2-abdd0b42b920')\"\n",
              "              title=\"Convert this dataframe to an interactive table.\"\n",
              "              style=\"display:none;\">\n",
              "        \n",
              "  <svg xmlns=\"http://www.w3.org/2000/svg\" height=\"24px\"viewBox=\"0 0 24 24\"\n",
              "       width=\"24px\">\n",
              "    <path d=\"M0 0h24v24H0V0z\" fill=\"none\"/>\n",
              "    <path d=\"M18.56 5.44l.94 2.06.94-2.06 2.06-.94-2.06-.94-.94-2.06-.94 2.06-2.06.94zm-11 1L8.5 8.5l.94-2.06 2.06-.94-2.06-.94L8.5 2.5l-.94 2.06-2.06.94zm10 10l.94 2.06.94-2.06 2.06-.94-2.06-.94-.94-2.06-.94 2.06-2.06.94z\"/><path d=\"M17.41 7.96l-1.37-1.37c-.4-.4-.92-.59-1.43-.59-.52 0-1.04.2-1.43.59L10.3 9.45l-7.72 7.72c-.78.78-.78 2.05 0 2.83L4 21.41c.39.39.9.59 1.41.59.51 0 1.02-.2 1.41-.59l7.78-7.78 2.81-2.81c.8-.78.8-2.07 0-2.86zM5.41 20L4 18.59l7.72-7.72 1.47 1.35L5.41 20z\"/>\n",
              "  </svg>\n",
              "      </button>\n",
              "      \n",
              "  <style>\n",
              "    .colab-df-container {\n",
              "      display:flex;\n",
              "      flex-wrap:wrap;\n",
              "      gap: 12px;\n",
              "    }\n",
              "\n",
              "    .colab-df-convert {\n",
              "      background-color: #E8F0FE;\n",
              "      border: none;\n",
              "      border-radius: 50%;\n",
              "      cursor: pointer;\n",
              "      display: none;\n",
              "      fill: #1967D2;\n",
              "      height: 32px;\n",
              "      padding: 0 0 0 0;\n",
              "      width: 32px;\n",
              "    }\n",
              "\n",
              "    .colab-df-convert:hover {\n",
              "      background-color: #E2EBFA;\n",
              "      box-shadow: 0px 1px 2px rgba(60, 64, 67, 0.3), 0px 1px 3px 1px rgba(60, 64, 67, 0.15);\n",
              "      fill: #174EA6;\n",
              "    }\n",
              "\n",
              "    [theme=dark] .colab-df-convert {\n",
              "      background-color: #3B4455;\n",
              "      fill: #D2E3FC;\n",
              "    }\n",
              "\n",
              "    [theme=dark] .colab-df-convert:hover {\n",
              "      background-color: #434B5C;\n",
              "      box-shadow: 0px 1px 3px 1px rgba(0, 0, 0, 0.15);\n",
              "      filter: drop-shadow(0px 1px 2px rgba(0, 0, 0, 0.3));\n",
              "      fill: #FFFFFF;\n",
              "    }\n",
              "  </style>\n",
              "\n",
              "      <script>\n",
              "        const buttonEl =\n",
              "          document.querySelector('#df-be61b29f-d76d-4547-98b2-abdd0b42b920 button.colab-df-convert');\n",
              "        buttonEl.style.display =\n",
              "          google.colab.kernel.accessAllowed ? 'block' : 'none';\n",
              "\n",
              "        async function convertToInteractive(key) {\n",
              "          const element = document.querySelector('#df-be61b29f-d76d-4547-98b2-abdd0b42b920');\n",
              "          const dataTable =\n",
              "            await google.colab.kernel.invokeFunction('convertToInteractive',\n",
              "                                                     [key], {});\n",
              "          if (!dataTable) return;\n",
              "\n",
              "          const docLinkHtml = 'Like what you see? Visit the ' +\n",
              "            '<a target=\"_blank\" href=https://colab.research.google.com/notebooks/data_table.ipynb>data table notebook</a>'\n",
              "            + ' to learn more about interactive tables.';\n",
              "          element.innerHTML = '';\n",
              "          dataTable['output_type'] = 'display_data';\n",
              "          await google.colab.output.renderOutput(dataTable, element);\n",
              "          const docLink = document.createElement('div');\n",
              "          docLink.innerHTML = docLinkHtml;\n",
              "          element.appendChild(docLink);\n",
              "        }\n",
              "      </script>\n",
              "    </div>\n",
              "  </div>\n",
              "  "
            ]
          },
          "metadata": {},
          "execution_count": 80
        }
      ]
    }
  ]
}