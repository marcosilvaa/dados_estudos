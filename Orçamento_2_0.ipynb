{
  "cells": [
    {
      "cell_type": "markdown",
      "metadata": {
        "id": "view-in-github",
        "colab_type": "text"
      },
      "source": [
        "<a href=\"https://colab.research.google.com/github/marcosilvaa/dados_estudos/blob/main/Or%C3%A7amento_2_0.ipynb\" target=\"_parent\"><img src=\"https://colab.research.google.com/assets/colab-badge.svg\" alt=\"Open In Colab\"/></a>"
      ]
    },
    {
      "cell_type": "markdown",
      "metadata": {
        "id": "W5gI_LKeekTR"
      },
      "source": [
        "# Otimizando Orçamento de Lajes\n",
        "A idéia desse script é agilizar o processo de confecção de orçamento, uma vez que temos duas entradas necessárias sendo:\n",
        "* Lado Maior da Laje\n",
        "* Lado Menor da Laje\n",
        "\n",
        "O Python fica encarregado de transformar estes dados em um dataframe assim como realizar os calculos necessários. "
      ]
    },
    {
      "cell_type": "code",
      "execution_count": 2,
      "metadata": {
        "id": "sYnmyJ6dyR3x"
      },
      "outputs": [],
      "source": [
        "# importando pacotes\n",
        "import pandas as pd"
      ]
    },
    {
      "cell_type": "code",
      "execution_count": 3,
      "metadata": {
        "id": "M-0BPBYCRxyD"
      },
      "outputs": [],
      "source": [
        "# criando dataset vazio\n",
        "df = pd.DataFrame(columns=['Lado Maior', 'Lado Menor'])\n",
        "\n",
        "# contador do loop\n",
        "a = 1"
      ]
    },
    {
      "cell_type": "code",
      "source": [
        "# Primeira interação\n",
        "print('Digite [1] para adcionar uma nova laje ou [0] para finalizar: ')\n",
        "decisao = int(input())\n",
        "\n",
        "# Estrutura de repetição de coleta e armazenagem dos dados necessários\n",
        "while decisao != 0:\n",
        "\n",
        "  # input dos dados\n",
        "  LadoMaior = float(input('Digite o Lado Maior: '))\n",
        "  LadoMenor = float(input('Digite o Lado Menor: '))\n",
        "\n",
        "  # criando dicionário para armazenar os dados coletados\n",
        "  d = {'Lado Maior': LadoMaior, 'Lado Menor': LadoMenor}\n",
        "\n",
        "  # transformando dicionário em dataframe\n",
        "  linha = pd.DataFrame(data=d, index=[a])\n",
        "\n",
        "  # atualizando contador/índice\n",
        "  a += 1\n",
        "\n",
        "  # atribuindo dados ao dataset criando antes do while\n",
        "  df = pd.concat([df,linha])\n",
        "\n",
        "  # continuando/finalizando o loop \n",
        "  decisao = float(input(\"Digite 1 para adcionar um novo elemento ou 0 para finalizar: \"))\n",
        "\n",
        "else:\n",
        "  # Utilizando os dados armazenados para criar novas colunas com as informações adcionais\n",
        "  df['Area'] = round((df['Lado Maior'] * df['Lado Menor']),2)\n",
        "  df['EPS'] = round(df['Area'] / 0.5)\n",
        "  df['Qtd.Trilho'] = round(df['Lado Maior'] / 0.5)\n",
        "\n",
        "df.head()"
      ],
      "metadata": {
        "colab": {
          "base_uri": "https://localhost:8080/",
          "height": 397
        },
        "id": "0XMzUGnOszga",
        "outputId": "65dc2498-a75f-4015-899a-18709fd9041c"
      },
      "execution_count": 7,
      "outputs": [
        {
          "name": "stdout",
          "output_type": "stream",
          "text": [
            "Digite [1] para adcionar uma nova laje ou [0] para finalizar: \n",
            "1\n",
            "Digite o Lado Maior: 2.35\n",
            "Digite o Lado Menor: 2\n",
            "Digite 1 para adcionar um novo elemento ou 0 para finalizar: 1.75\n",
            "Digite o Lado Maior: 1\n",
            "Digite o Lado Menor: 1\n",
            "Digite 1 para adcionar um novo elemento ou 0 para finalizar: 1\n",
            "Digite o Lado Maior: 1.9\n",
            "Digite o Lado Menor: 1.5\n",
            "Digite 1 para adcionar um novo elemento ou 0 para finalizar: 0\n"
          ]
        },
        {
          "output_type": "execute_result",
          "data": {
            "text/plain": [
              "   Lado Maior  Lado Menor   Area   EPS  Qtd.Trilho\n",
              "1        5.00        4.30  21.50  43.0        10.0\n",
              "2        2.35        1.05   2.47   5.0         5.0\n",
              "3        2.75        2.10   5.78  12.0         6.0\n",
              "4        3.15        2.85   8.98  18.0         6.0\n",
              "5        4.90        4.00  19.60  39.0        10.0"
            ],
            "text/html": [
              "\n",
              "  <div id=\"df-64b1f48f-b9f1-4852-ab89-0426eaca4b2d\">\n",
              "    <div class=\"colab-df-container\">\n",
              "      <div>\n",
              "<style scoped>\n",
              "    .dataframe tbody tr th:only-of-type {\n",
              "        vertical-align: middle;\n",
              "    }\n",
              "\n",
              "    .dataframe tbody tr th {\n",
              "        vertical-align: top;\n",
              "    }\n",
              "\n",
              "    .dataframe thead th {\n",
              "        text-align: right;\n",
              "    }\n",
              "</style>\n",
              "<table border=\"1\" class=\"dataframe\">\n",
              "  <thead>\n",
              "    <tr style=\"text-align: right;\">\n",
              "      <th></th>\n",
              "      <th>Lado Maior</th>\n",
              "      <th>Lado Menor</th>\n",
              "      <th>Area</th>\n",
              "      <th>EPS</th>\n",
              "      <th>Qtd.Trilho</th>\n",
              "    </tr>\n",
              "  </thead>\n",
              "  <tbody>\n",
              "    <tr>\n",
              "      <th>1</th>\n",
              "      <td>5.00</td>\n",
              "      <td>4.30</td>\n",
              "      <td>21.50</td>\n",
              "      <td>43.0</td>\n",
              "      <td>10.0</td>\n",
              "    </tr>\n",
              "    <tr>\n",
              "      <th>2</th>\n",
              "      <td>2.35</td>\n",
              "      <td>1.05</td>\n",
              "      <td>2.47</td>\n",
              "      <td>5.0</td>\n",
              "      <td>5.0</td>\n",
              "    </tr>\n",
              "    <tr>\n",
              "      <th>3</th>\n",
              "      <td>2.75</td>\n",
              "      <td>2.10</td>\n",
              "      <td>5.78</td>\n",
              "      <td>12.0</td>\n",
              "      <td>6.0</td>\n",
              "    </tr>\n",
              "    <tr>\n",
              "      <th>4</th>\n",
              "      <td>3.15</td>\n",
              "      <td>2.85</td>\n",
              "      <td>8.98</td>\n",
              "      <td>18.0</td>\n",
              "      <td>6.0</td>\n",
              "    </tr>\n",
              "    <tr>\n",
              "      <th>5</th>\n",
              "      <td>4.90</td>\n",
              "      <td>4.00</td>\n",
              "      <td>19.60</td>\n",
              "      <td>39.0</td>\n",
              "      <td>10.0</td>\n",
              "    </tr>\n",
              "  </tbody>\n",
              "</table>\n",
              "</div>\n",
              "      <button class=\"colab-df-convert\" onclick=\"convertToInteractive('df-64b1f48f-b9f1-4852-ab89-0426eaca4b2d')\"\n",
              "              title=\"Convert this dataframe to an interactive table.\"\n",
              "              style=\"display:none;\">\n",
              "        \n",
              "  <svg xmlns=\"http://www.w3.org/2000/svg\" height=\"24px\"viewBox=\"0 0 24 24\"\n",
              "       width=\"24px\">\n",
              "    <path d=\"M0 0h24v24H0V0z\" fill=\"none\"/>\n",
              "    <path d=\"M18.56 5.44l.94 2.06.94-2.06 2.06-.94-2.06-.94-.94-2.06-.94 2.06-2.06.94zm-11 1L8.5 8.5l.94-2.06 2.06-.94-2.06-.94L8.5 2.5l-.94 2.06-2.06.94zm10 10l.94 2.06.94-2.06 2.06-.94-2.06-.94-.94-2.06-.94 2.06-2.06.94z\"/><path d=\"M17.41 7.96l-1.37-1.37c-.4-.4-.92-.59-1.43-.59-.52 0-1.04.2-1.43.59L10.3 9.45l-7.72 7.72c-.78.78-.78 2.05 0 2.83L4 21.41c.39.39.9.59 1.41.59.51 0 1.02-.2 1.41-.59l7.78-7.78 2.81-2.81c.8-.78.8-2.07 0-2.86zM5.41 20L4 18.59l7.72-7.72 1.47 1.35L5.41 20z\"/>\n",
              "  </svg>\n",
              "      </button>\n",
              "      \n",
              "  <style>\n",
              "    .colab-df-container {\n",
              "      display:flex;\n",
              "      flex-wrap:wrap;\n",
              "      gap: 12px;\n",
              "    }\n",
              "\n",
              "    .colab-df-convert {\n",
              "      background-color: #E8F0FE;\n",
              "      border: none;\n",
              "      border-radius: 50%;\n",
              "      cursor: pointer;\n",
              "      display: none;\n",
              "      fill: #1967D2;\n",
              "      height: 32px;\n",
              "      padding: 0 0 0 0;\n",
              "      width: 32px;\n",
              "    }\n",
              "\n",
              "    .colab-df-convert:hover {\n",
              "      background-color: #E2EBFA;\n",
              "      box-shadow: 0px 1px 2px rgba(60, 64, 67, 0.3), 0px 1px 3px 1px rgba(60, 64, 67, 0.15);\n",
              "      fill: #174EA6;\n",
              "    }\n",
              "\n",
              "    [theme=dark] .colab-df-convert {\n",
              "      background-color: #3B4455;\n",
              "      fill: #D2E3FC;\n",
              "    }\n",
              "\n",
              "    [theme=dark] .colab-df-convert:hover {\n",
              "      background-color: #434B5C;\n",
              "      box-shadow: 0px 1px 3px 1px rgba(0, 0, 0, 0.15);\n",
              "      filter: drop-shadow(0px 1px 2px rgba(0, 0, 0, 0.3));\n",
              "      fill: #FFFFFF;\n",
              "    }\n",
              "  </style>\n",
              "\n",
              "      <script>\n",
              "        const buttonEl =\n",
              "          document.querySelector('#df-64b1f48f-b9f1-4852-ab89-0426eaca4b2d button.colab-df-convert');\n",
              "        buttonEl.style.display =\n",
              "          google.colab.kernel.accessAllowed ? 'block' : 'none';\n",
              "\n",
              "        async function convertToInteractive(key) {\n",
              "          const element = document.querySelector('#df-64b1f48f-b9f1-4852-ab89-0426eaca4b2d');\n",
              "          const dataTable =\n",
              "            await google.colab.kernel.invokeFunction('convertToInteractive',\n",
              "                                                     [key], {});\n",
              "          if (!dataTable) return;\n",
              "\n",
              "          const docLinkHtml = 'Like what you see? Visit the ' +\n",
              "            '<a target=\"_blank\" href=https://colab.research.google.com/notebooks/data_table.ipynb>data table notebook</a>'\n",
              "            + ' to learn more about interactive tables.';\n",
              "          element.innerHTML = '';\n",
              "          dataTable['output_type'] = 'display_data';\n",
              "          await google.colab.output.renderOutput(dataTable, element);\n",
              "          const docLink = document.createElement('div');\n",
              "          docLink.innerHTML = docLinkHtml;\n",
              "          element.appendChild(docLink);\n",
              "        }\n",
              "      </script>\n",
              "    </div>\n",
              "  </div>\n",
              "  "
            ]
          },
          "metadata": {},
          "execution_count": 7
        }
      ]
    },
    {
      "cell_type": "code",
      "source": [
        ""
      ],
      "metadata": {
        "id": "QYH5T0PMuyWL"
      },
      "execution_count": null,
      "outputs": []
    }
  ],
  "metadata": {
    "colab": {
      "collapsed_sections": [],
      "name": "Orçamento 2.0.ipynb",
      "provenance": [],
      "authorship_tag": "ABX9TyN1Y+gb2K1mxY3c0s+POsXk",
      "include_colab_link": true
    },
    "kernelspec": {
      "display_name": "Python 3",
      "name": "python3"
    },
    "language_info": {
      "name": "python"
    }
  },
  "nbformat": 4,
  "nbformat_minor": 0
}