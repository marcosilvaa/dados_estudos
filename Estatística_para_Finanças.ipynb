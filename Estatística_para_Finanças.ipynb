{
  "nbformat": 4,
  "nbformat_minor": 0,
  "metadata": {
    "colab": {
      "provenance": [],
      "authorship_tag": "ABX9TyNAKQbNeZtMJZqDKGthbZa4",
      "include_colab_link": true
    },
    "kernelspec": {
      "name": "python3",
      "display_name": "Python 3"
    },
    "language_info": {
      "name": "python"
    }
  },
  "cells": [
    {
      "cell_type": "markdown",
      "metadata": {
        "id": "view-in-github",
        "colab_type": "text"
      },
      "source": [
        "<a href=\"https://colab.research.google.com/github/marcosilvaa/dados_estudos/blob/main/Estat%C3%ADstica_para_Finan%C3%A7as.ipynb\" target=\"_parent\"><img src=\"https://colab.research.google.com/assets/colab-badge.svg\" alt=\"Open In Colab\"/></a>"
      ]
    },
    {
      "cell_type": "markdown",
      "source": [
        "#Bibliotecas"
      ],
      "metadata": {
        "id": "2pnEQCLLrq0W"
      }
    },
    {
      "cell_type": "code",
      "execution_count": null,
      "metadata": {
        "id": "cttsV5wbqkye"
      },
      "outputs": [],
      "source": [
        "!pip install yfinance \n",
        "!pip install vectorbt\n",
        "!pip install sweetviz"
      ]
    },
    {
      "cell_type": "code",
      "source": [
        "# importando bibliotecas\n",
        "import pandas as pd\n",
        "import numpy as np\n",
        "\n",
        "from scipy import stats\n",
        "import pylab\n",
        "from sklearn import linear_model\n",
        "from sklearn.linear_model import LinearRegression\n",
        "import statsmodels.api as sm\n",
        "from statsmodels.stats.multicomp import pairwise_tukeyhsd\n",
        "\n",
        "import yfinance as yf\n",
        "import vectorbt as vbt\n",
        "\n",
        "import seaborn as sns\n",
        "import plotly.graph_objects as go\n",
        "import plotly.express as px\n",
        "import sweetviz as sv "
      ],
      "metadata": {
        "id": "_pB72dlvryg8"
      },
      "execution_count": null,
      "outputs": []
    },
    {
      "cell_type": "code",
      "source": [
        "a = np.random.randint(50, size=30)\n",
        "b = np.random.randint(50, size=30)\n",
        "\n",
        "ab = zip(a,b)\n",
        "\n",
        "fig = px.scatter(ab, x=a,y=b, template=\"simple_white\", width=400, height=400)\n",
        "fig.update_layout(paper_bgcolor = \"#f7f8fa\", margin=dict(l=20,r=20,t=20,b=20))"
      ],
      "metadata": {
        "colab": {
          "base_uri": "https://localhost:8080/",
          "height": 417
        },
        "id": "-B5_K-lEstuK",
        "outputId": "d34df040-af5d-43ca-c064-9ab2e8233031"
      },
      "execution_count": null,
      "outputs": [
        {
          "output_type": "display_data",
          "data": {
            "text/html": [
              "<html>\n",
              "<head><meta charset=\"utf-8\" /></head>\n",
              "<body>\n",
              "    <div>            <script src=\"https://cdnjs.cloudflare.com/ajax/libs/mathjax/2.7.5/MathJax.js?config=TeX-AMS-MML_SVG\"></script><script type=\"text/javascript\">if (window.MathJax) {MathJax.Hub.Config({SVG: {font: \"STIX-Web\"}});}</script>                <script type=\"text/javascript\">window.PlotlyConfig = {MathJaxConfig: 'local'};</script>\n",
              "        <script src=\"https://cdn.plot.ly/plotly-2.8.3.min.js\"></script>                <div id=\"0ed418c3-9918-439f-980d-e7aec8b8e2e9\" class=\"plotly-graph-div\" style=\"height:400px; width:400px;\"></div>            <script type=\"text/javascript\">                                    window.PLOTLYENV=window.PLOTLYENV || {};                                    if (document.getElementById(\"0ed418c3-9918-439f-980d-e7aec8b8e2e9\")) {                    Plotly.newPlot(                        \"0ed418c3-9918-439f-980d-e7aec8b8e2e9\",                        [{\"hovertemplate\":\"x=%{x}<br>y=%{y}<extra></extra>\",\"legendgroup\":\"\",\"marker\":{\"color\":\"#1F77B4\",\"symbol\":\"circle\"},\"mode\":\"markers\",\"name\":\"\",\"orientation\":\"v\",\"showlegend\":false,\"x\":[45,17,33,17,41,39,33,30,2,29,0,11,43,42,33,30,21,41,30,26,16,48,0,14,48,11,11,9,30,41],\"xaxis\":\"x\",\"y\":[40,37,33,29,21,8,38,11,10,34,17,37,16,8,47,44,32,15,44,29,14,30,49,16,11,16,40,34,1,32],\"yaxis\":\"y\",\"type\":\"scatter\"}],                        {\"template\":{\"data\":{\"barpolar\":[{\"marker\":{\"line\":{\"color\":\"white\",\"width\":0.5},\"pattern\":{\"fillmode\":\"overlay\",\"size\":10,\"solidity\":0.2}},\"type\":\"barpolar\"}],\"bar\":[{\"error_x\":{\"color\":\"rgb(36,36,36)\"},\"error_y\":{\"color\":\"rgb(36,36,36)\"},\"marker\":{\"line\":{\"color\":\"white\",\"width\":0.5},\"pattern\":{\"fillmode\":\"overlay\",\"size\":10,\"solidity\":0.2}},\"type\":\"bar\"}],\"carpet\":[{\"aaxis\":{\"endlinecolor\":\"rgb(36,36,36)\",\"gridcolor\":\"white\",\"linecolor\":\"white\",\"minorgridcolor\":\"white\",\"startlinecolor\":\"rgb(36,36,36)\"},\"baxis\":{\"endlinecolor\":\"rgb(36,36,36)\",\"gridcolor\":\"white\",\"linecolor\":\"white\",\"minorgridcolor\":\"white\",\"startlinecolor\":\"rgb(36,36,36)\"},\"type\":\"carpet\"}],\"choropleth\":[{\"colorbar\":{\"outlinewidth\":1,\"tickcolor\":\"rgb(36,36,36)\",\"ticks\":\"outside\"},\"type\":\"choropleth\"}],\"contourcarpet\":[{\"colorbar\":{\"outlinewidth\":1,\"tickcolor\":\"rgb(36,36,36)\",\"ticks\":\"outside\"},\"type\":\"contourcarpet\"}],\"contour\":[{\"colorbar\":{\"outlinewidth\":1,\"tickcolor\":\"rgb(36,36,36)\",\"ticks\":\"outside\"},\"colorscale\":[[0.0,\"#440154\"],[0.1111111111111111,\"#482878\"],[0.2222222222222222,\"#3e4989\"],[0.3333333333333333,\"#31688e\"],[0.4444444444444444,\"#26828e\"],[0.5555555555555556,\"#1f9e89\"],[0.6666666666666666,\"#35b779\"],[0.7777777777777778,\"#6ece58\"],[0.8888888888888888,\"#b5de2b\"],[1.0,\"#fde725\"]],\"type\":\"contour\"}],\"heatmapgl\":[{\"colorbar\":{\"outlinewidth\":1,\"tickcolor\":\"rgb(36,36,36)\",\"ticks\":\"outside\"},\"colorscale\":[[0.0,\"#440154\"],[0.1111111111111111,\"#482878\"],[0.2222222222222222,\"#3e4989\"],[0.3333333333333333,\"#31688e\"],[0.4444444444444444,\"#26828e\"],[0.5555555555555556,\"#1f9e89\"],[0.6666666666666666,\"#35b779\"],[0.7777777777777778,\"#6ece58\"],[0.8888888888888888,\"#b5de2b\"],[1.0,\"#fde725\"]],\"type\":\"heatmapgl\"}],\"heatmap\":[{\"colorbar\":{\"outlinewidth\":1,\"tickcolor\":\"rgb(36,36,36)\",\"ticks\":\"outside\"},\"colorscale\":[[0.0,\"#440154\"],[0.1111111111111111,\"#482878\"],[0.2222222222222222,\"#3e4989\"],[0.3333333333333333,\"#31688e\"],[0.4444444444444444,\"#26828e\"],[0.5555555555555556,\"#1f9e89\"],[0.6666666666666666,\"#35b779\"],[0.7777777777777778,\"#6ece58\"],[0.8888888888888888,\"#b5de2b\"],[1.0,\"#fde725\"]],\"type\":\"heatmap\"}],\"histogram2dcontour\":[{\"colorbar\":{\"outlinewidth\":1,\"tickcolor\":\"rgb(36,36,36)\",\"ticks\":\"outside\"},\"colorscale\":[[0.0,\"#440154\"],[0.1111111111111111,\"#482878\"],[0.2222222222222222,\"#3e4989\"],[0.3333333333333333,\"#31688e\"],[0.4444444444444444,\"#26828e\"],[0.5555555555555556,\"#1f9e89\"],[0.6666666666666666,\"#35b779\"],[0.7777777777777778,\"#6ece58\"],[0.8888888888888888,\"#b5de2b\"],[1.0,\"#fde725\"]],\"type\":\"histogram2dcontour\"}],\"histogram2d\":[{\"colorbar\":{\"outlinewidth\":1,\"tickcolor\":\"rgb(36,36,36)\",\"ticks\":\"outside\"},\"colorscale\":[[0.0,\"#440154\"],[0.1111111111111111,\"#482878\"],[0.2222222222222222,\"#3e4989\"],[0.3333333333333333,\"#31688e\"],[0.4444444444444444,\"#26828e\"],[0.5555555555555556,\"#1f9e89\"],[0.6666666666666666,\"#35b779\"],[0.7777777777777778,\"#6ece58\"],[0.8888888888888888,\"#b5de2b\"],[1.0,\"#fde725\"]],\"type\":\"histogram2d\"}],\"histogram\":[{\"marker\":{\"line\":{\"color\":\"white\",\"width\":0.6}},\"type\":\"histogram\"}],\"mesh3d\":[{\"colorbar\":{\"outlinewidth\":1,\"tickcolor\":\"rgb(36,36,36)\",\"ticks\":\"outside\"},\"type\":\"mesh3d\"}],\"parcoords\":[{\"line\":{\"colorbar\":{\"outlinewidth\":1,\"tickcolor\":\"rgb(36,36,36)\",\"ticks\":\"outside\"}},\"type\":\"parcoords\"}],\"pie\":[{\"automargin\":true,\"type\":\"pie\"}],\"scatter3d\":[{\"line\":{\"colorbar\":{\"outlinewidth\":1,\"tickcolor\":\"rgb(36,36,36)\",\"ticks\":\"outside\"}},\"marker\":{\"colorbar\":{\"outlinewidth\":1,\"tickcolor\":\"rgb(36,36,36)\",\"ticks\":\"outside\"}},\"type\":\"scatter3d\"}],\"scattercarpet\":[{\"marker\":{\"colorbar\":{\"outlinewidth\":1,\"tickcolor\":\"rgb(36,36,36)\",\"ticks\":\"outside\"}},\"type\":\"scattercarpet\"}],\"scattergeo\":[{\"marker\":{\"colorbar\":{\"outlinewidth\":1,\"tickcolor\":\"rgb(36,36,36)\",\"ticks\":\"outside\"}},\"type\":\"scattergeo\"}],\"scattergl\":[{\"marker\":{\"colorbar\":{\"outlinewidth\":1,\"tickcolor\":\"rgb(36,36,36)\",\"ticks\":\"outside\"}},\"type\":\"scattergl\"}],\"scattermapbox\":[{\"marker\":{\"colorbar\":{\"outlinewidth\":1,\"tickcolor\":\"rgb(36,36,36)\",\"ticks\":\"outside\"}},\"type\":\"scattermapbox\"}],\"scatterpolargl\":[{\"marker\":{\"colorbar\":{\"outlinewidth\":1,\"tickcolor\":\"rgb(36,36,36)\",\"ticks\":\"outside\"}},\"type\":\"scatterpolargl\"}],\"scatterpolar\":[{\"marker\":{\"colorbar\":{\"outlinewidth\":1,\"tickcolor\":\"rgb(36,36,36)\",\"ticks\":\"outside\"}},\"type\":\"scatterpolar\"}],\"scatter\":[{\"marker\":{\"colorbar\":{\"outlinewidth\":1,\"tickcolor\":\"rgb(36,36,36)\",\"ticks\":\"outside\"}},\"type\":\"scatter\"}],\"scatterternary\":[{\"marker\":{\"colorbar\":{\"outlinewidth\":1,\"tickcolor\":\"rgb(36,36,36)\",\"ticks\":\"outside\"}},\"type\":\"scatterternary\"}],\"surface\":[{\"colorbar\":{\"outlinewidth\":1,\"tickcolor\":\"rgb(36,36,36)\",\"ticks\":\"outside\"},\"colorscale\":[[0.0,\"#440154\"],[0.1111111111111111,\"#482878\"],[0.2222222222222222,\"#3e4989\"],[0.3333333333333333,\"#31688e\"],[0.4444444444444444,\"#26828e\"],[0.5555555555555556,\"#1f9e89\"],[0.6666666666666666,\"#35b779\"],[0.7777777777777778,\"#6ece58\"],[0.8888888888888888,\"#b5de2b\"],[1.0,\"#fde725\"]],\"type\":\"surface\"}],\"table\":[{\"cells\":{\"fill\":{\"color\":\"rgb(237,237,237)\"},\"line\":{\"color\":\"white\"}},\"header\":{\"fill\":{\"color\":\"rgb(217,217,217)\"},\"line\":{\"color\":\"white\"}},\"type\":\"table\"}]},\"layout\":{\"annotationdefaults\":{\"arrowhead\":0,\"arrowwidth\":1},\"autotypenumbers\":\"strict\",\"coloraxis\":{\"colorbar\":{\"outlinewidth\":1,\"tickcolor\":\"rgb(36,36,36)\",\"ticks\":\"outside\"}},\"colorscale\":{\"diverging\":[[0.0,\"rgb(103,0,31)\"],[0.1,\"rgb(178,24,43)\"],[0.2,\"rgb(214,96,77)\"],[0.3,\"rgb(244,165,130)\"],[0.4,\"rgb(253,219,199)\"],[0.5,\"rgb(247,247,247)\"],[0.6,\"rgb(209,229,240)\"],[0.7,\"rgb(146,197,222)\"],[0.8,\"rgb(67,147,195)\"],[0.9,\"rgb(33,102,172)\"],[1.0,\"rgb(5,48,97)\"]],\"sequential\":[[0.0,\"#440154\"],[0.1111111111111111,\"#482878\"],[0.2222222222222222,\"#3e4989\"],[0.3333333333333333,\"#31688e\"],[0.4444444444444444,\"#26828e\"],[0.5555555555555556,\"#1f9e89\"],[0.6666666666666666,\"#35b779\"],[0.7777777777777778,\"#6ece58\"],[0.8888888888888888,\"#b5de2b\"],[1.0,\"#fde725\"]],\"sequentialminus\":[[0.0,\"#440154\"],[0.1111111111111111,\"#482878\"],[0.2222222222222222,\"#3e4989\"],[0.3333333333333333,\"#31688e\"],[0.4444444444444444,\"#26828e\"],[0.5555555555555556,\"#1f9e89\"],[0.6666666666666666,\"#35b779\"],[0.7777777777777778,\"#6ece58\"],[0.8888888888888888,\"#b5de2b\"],[1.0,\"#fde725\"]]},\"colorway\":[\"#1F77B4\",\"#FF7F0E\",\"#2CA02C\",\"#D62728\",\"#9467BD\",\"#8C564B\",\"#E377C2\",\"#7F7F7F\",\"#BCBD22\",\"#17BECF\"],\"font\":{\"color\":\"rgb(36,36,36)\"},\"geo\":{\"bgcolor\":\"white\",\"lakecolor\":\"white\",\"landcolor\":\"white\",\"showlakes\":true,\"showland\":true,\"subunitcolor\":\"white\"},\"hoverlabel\":{\"align\":\"left\"},\"hovermode\":\"closest\",\"mapbox\":{\"style\":\"light\"},\"paper_bgcolor\":\"white\",\"plot_bgcolor\":\"white\",\"polar\":{\"angularaxis\":{\"gridcolor\":\"rgb(232,232,232)\",\"linecolor\":\"rgb(36,36,36)\",\"showgrid\":false,\"showline\":true,\"ticks\":\"outside\"},\"bgcolor\":\"white\",\"radialaxis\":{\"gridcolor\":\"rgb(232,232,232)\",\"linecolor\":\"rgb(36,36,36)\",\"showgrid\":false,\"showline\":true,\"ticks\":\"outside\"}},\"scene\":{\"xaxis\":{\"backgroundcolor\":\"white\",\"gridcolor\":\"rgb(232,232,232)\",\"gridwidth\":2,\"linecolor\":\"rgb(36,36,36)\",\"showbackground\":true,\"showgrid\":false,\"showline\":true,\"ticks\":\"outside\",\"zeroline\":false,\"zerolinecolor\":\"rgb(36,36,36)\"},\"yaxis\":{\"backgroundcolor\":\"white\",\"gridcolor\":\"rgb(232,232,232)\",\"gridwidth\":2,\"linecolor\":\"rgb(36,36,36)\",\"showbackground\":true,\"showgrid\":false,\"showline\":true,\"ticks\":\"outside\",\"zeroline\":false,\"zerolinecolor\":\"rgb(36,36,36)\"},\"zaxis\":{\"backgroundcolor\":\"white\",\"gridcolor\":\"rgb(232,232,232)\",\"gridwidth\":2,\"linecolor\":\"rgb(36,36,36)\",\"showbackground\":true,\"showgrid\":false,\"showline\":true,\"ticks\":\"outside\",\"zeroline\":false,\"zerolinecolor\":\"rgb(36,36,36)\"}},\"shapedefaults\":{\"fillcolor\":\"black\",\"line\":{\"width\":0},\"opacity\":0.3},\"ternary\":{\"aaxis\":{\"gridcolor\":\"rgb(232,232,232)\",\"linecolor\":\"rgb(36,36,36)\",\"showgrid\":false,\"showline\":true,\"ticks\":\"outside\"},\"baxis\":{\"gridcolor\":\"rgb(232,232,232)\",\"linecolor\":\"rgb(36,36,36)\",\"showgrid\":false,\"showline\":true,\"ticks\":\"outside\"},\"bgcolor\":\"white\",\"caxis\":{\"gridcolor\":\"rgb(232,232,232)\",\"linecolor\":\"rgb(36,36,36)\",\"showgrid\":false,\"showline\":true,\"ticks\":\"outside\"}},\"title\":{\"x\":0.05},\"xaxis\":{\"automargin\":true,\"gridcolor\":\"rgb(232,232,232)\",\"linecolor\":\"rgb(36,36,36)\",\"showgrid\":false,\"showline\":true,\"ticks\":\"outside\",\"title\":{\"standoff\":15},\"zeroline\":false,\"zerolinecolor\":\"rgb(36,36,36)\"},\"yaxis\":{\"automargin\":true,\"gridcolor\":\"rgb(232,232,232)\",\"linecolor\":\"rgb(36,36,36)\",\"showgrid\":false,\"showline\":true,\"ticks\":\"outside\",\"title\":{\"standoff\":15},\"zeroline\":false,\"zerolinecolor\":\"rgb(36,36,36)\"}}},\"xaxis\":{\"anchor\":\"y\",\"domain\":[0.0,1.0],\"title\":{\"text\":\"x\"}},\"yaxis\":{\"anchor\":\"x\",\"domain\":[0.0,1.0],\"title\":{\"text\":\"y\"}},\"legend\":{\"tracegroupgap\":0},\"margin\":{\"t\":20,\"l\":20,\"r\":20,\"b\":20},\"height\":400,\"width\":400,\"paper_bgcolor\":\"#f7f8fa\"},                        {\"responsive\": true}                    ).then(function(){\n",
              "                            \n",
              "var gd = document.getElementById('0ed418c3-9918-439f-980d-e7aec8b8e2e9');\n",
              "var x = new MutationObserver(function (mutations, observer) {{\n",
              "        var display = window.getComputedStyle(gd).display;\n",
              "        if (!display || display === 'none') {{\n",
              "            console.log([gd, 'removed!']);\n",
              "            Plotly.purge(gd);\n",
              "            observer.disconnect();\n",
              "        }}\n",
              "}});\n",
              "\n",
              "// Listen for the removal of the full notebook cells\n",
              "var notebookContainer = gd.closest('#notebook-container');\n",
              "if (notebookContainer) {{\n",
              "    x.observe(notebookContainer, {childList: true});\n",
              "}}\n",
              "\n",
              "// Listen for the clearing of the current output cell\n",
              "var outputEl = gd.closest('.output');\n",
              "if (outputEl) {{\n",
              "    x.observe(outputEl, {childList: true});\n",
              "}}\n",
              "\n",
              "                        })                };                            </script>        </div>\n",
              "</body>\n",
              "</html>"
            ]
          },
          "metadata": {}
        }
      ]
    },
    {
      "cell_type": "markdown",
      "source": [
        "**Considerando a complexidade do universo de dados do mercado financeiro...**\n",
        "\n",
        "* Padronizar as interpretações\n",
        "\n",
        "* Magnitude do relação/efeito\n",
        "\n",
        "* Probabilidade de que o padrão se repita"
      ],
      "metadata": {
        "id": "q4JhigNhvM2D"
      }
    },
    {
      "cell_type": "code",
      "source": [
        "corr, p = stats.pearsonr(a, b)\n",
        "print('Correlação de Pearson, r=%.3f' %corr, 'p=%.3f' %p)"
      ],
      "metadata": {
        "colab": {
          "base_uri": "https://localhost:8080/"
        },
        "id": "HN_SNVPyug-3",
        "outputId": "61c6c421-8f0f-4d89-934f-75a56c22b798"
      },
      "execution_count": null,
      "outputs": [
        {
          "output_type": "stream",
          "name": "stdout",
          "text": [
            "Correlação de Pearson, r=-0.137 p=0.470\n"
          ]
        }
      ]
    },
    {
      "cell_type": "markdown",
      "source": [
        "---"
      ],
      "metadata": {
        "id": "-76yriWKvhD7"
      }
    },
    {
      "cell_type": "markdown",
      "source": [
        "# Análise Exploratória de Dados: EDA\n"
      ],
      "metadata": {
        "id": "YVIhf1n2vilL"
      }
    },
    {
      "cell_type": "markdown",
      "source": [
        "###*Estatística Descritiva*\n",
        "\n",
        "O primeiro passo para se analisar um *dataset* é ver como está a sua distribuição, por isso a primeira coisa feita neste notebook foi um gráfico de dispersão -> **Scatter Plot**  \n"
      ],
      "metadata": {
        "id": "75pbqz0vvvHr"
      }
    },
    {
      "cell_type": "markdown",
      "source": [
        "## Distribuição dos dados\n",
        "\n",
        "### Medidas de posição e dispersão \n",
        "\n",
        "A distribução dos dados é o ponto chave para praticamente tudo que entendemos por estatística.\n",
        "\n",
        "Apesar disso, muitas vezes é ignorada nos modelos, que podem não funcionar por causa de poucas observações que distorcem a distribuição dos dados."
      ],
      "metadata": {
        "id": "576qFaiww_x0"
      }
    },
    {
      "cell_type": "markdown",
      "source": [
        "## Distribuição normal"
      ],
      "metadata": {
        "id": "mogefjPgwqJn"
      }
    },
    {
      "cell_type": "markdown",
      "source": [
        "###Entendendo o comportamento\n",
        "\n",
        "Medidas paramétricas (médias, desvios, intervalos de confiança, coeficiente de variação) funcionam bem.\n",
        "\n",
        "A distribuição *Normal*, também chamada de Gaussiana, possui um formato de \"Sino\". A maioria dos eventos observados possuem uma distribuição \"normal\". "
      ],
      "metadata": {
        "id": "ibhsXPrAwxqv"
      }
    },
    {
      "cell_type": "code",
      "source": [
        "normal_dist = np.random.normal(0,1,1000) #---> (Média, Desvio Padrão, Qtd Valores) \n",
        "normal_fig01 = sns.distplot(normal_dist, hist=True, kde=True)"
      ],
      "metadata": {
        "colab": {
          "base_uri": "https://localhost:8080/",
          "height": 354
        },
        "id": "YA3ZCnLkvgln",
        "outputId": "1e82569a-e0e4-4543-ef42-6e9733198ea2"
      },
      "execution_count": null,
      "outputs": [
        {
          "output_type": "stream",
          "name": "stderr",
          "text": [
            "/usr/local/lib/python3.8/dist-packages/seaborn/distributions.py:2619: FutureWarning:\n",
            "\n",
            "`distplot` is a deprecated function and will be removed in a future version. Please adapt your code to use either `displot` (a figure-level function with similar flexibility) or `histplot` (an axes-level function for histograms).\n",
            "\n"
          ]
        },
        {
          "output_type": "display_data",
          "data": {
            "text/plain": [
              "<Figure size 432x288 with 1 Axes>"
            ],
            "image/png": "[encoded data removed]"
          },
          "metadata": {
            "needs_background": "light"
          }
        }
      ]
    },
    {
      "cell_type": "markdown",
      "source": [
        "Uma das caracteristicas da distribuição normal, é que a média, mediana e moda serão iguais. Como uma distribuição dificilmente será \"perfeita\", estes valores vão ser aproximados."
      ],
      "metadata": {
        "id": "ZFHTL14Oy-rj"
      }
    },
    {
      "cell_type": "markdown",
      "source": [
        "####Medidas de posição: Média, Mediana, Moda\n",
        "\n",
        "* Média = média aritmética de um conjunto de números.\n",
        "* Mediana = é o valor central desse conjunto, ou seja, o que separa a metade superior da inferior.\n",
        "* Moda = é o valor que apresenta maior frequência dentro do conjunto."
      ],
      "metadata": {
        "id": "hlQDQ40vzUbR"
      }
    },
    {
      "cell_type": "code",
      "source": [
        "print(np.mean(normal_dist)) # imprime a média\n",
        "print(np.median(normal_dist)) #imprime a mediana \n",
        "print(stats.mode(normal_dist))  #imprime a moda"
      ],
      "metadata": {
        "colab": {
          "base_uri": "https://localhost:8080/"
        },
        "id": "DtrQ67-RveOa",
        "outputId": "80401a95-0061-4ef1-b9c4-e37cb2e78045"
      },
      "execution_count": null,
      "outputs": [
        {
          "output_type": "stream",
          "name": "stdout",
          "text": [
            "-0.03691078536342746\n",
            "-0.04510214576514093\n",
            "ModeResult(mode=array([-3.62289385]), count=array([1]))\n"
          ]
        },
        {
          "output_type": "stream",
          "name": "stderr",
          "text": [
            "<ipython-input-74-7590843b96b3>:3: FutureWarning:\n",
            "\n",
            "Unlike other reduction functions (e.g. `skew`, `kurtosis`), the default behavior of `mode` typically preserves the axis it acts along. In SciPy 1.11.0, this behavior will change: the default value of `keepdims` will become False, the `axis` over which the statistic is taken will be eliminated, and the value None will no longer be accepted. Set `keepdims` to True or False to avoid this warning.\n",
            "\n"
          ]
        }
      ]
    },
    {
      "cell_type": "code",
      "source": [
        "# imprimindo valores arrendondados\n",
        "print(round(np.mean(normal_dist),2)) # imprime a média\n",
        "print(round(np.median(normal_dist),2)) #imprime a mediana "
      ],
      "metadata": {
        "colab": {
          "base_uri": "https://localhost:8080/"
        },
        "id": "b8_MmE2-z-bG",
        "outputId": "945723ac-82f9-4356-975f-f4e6b28f6ba2"
      },
      "execution_count": null,
      "outputs": [
        {
          "output_type": "stream",
          "name": "stdout",
          "text": [
            "-0.04\n",
            "-0.05\n"
          ]
        }
      ]
    },
    {
      "cell_type": "markdown",
      "source": [
        "Plotando agora em um gráfico interativo com a plotly."
      ],
      "metadata": {
        "id": "o2V6Vv_s0vXn"
      }
    },
    {
      "cell_type": "code",
      "source": [
        "fig01 = px.histogram(normal_dist, color_discrete_sequence=[\"lightseagreen\"])\n",
        "fig01.add_vline(x=np.mean(normal_dist), line_width=3, line_color=\"red\")\n",
        "fig01.add_vline(x=np.median(normal_dist), line_width=3, line_dash=\"dash\", line_color=\"blue\")\n",
        "\n",
        "fig01.update_layout(width=400, height=400, template=\"simple_white\",\n",
        "                    paper_bgcolor=\"#f7f8fa\", margin=dict(l=20,r=20,t=20,b=20), showlegend=False)"
      ],
      "metadata": {
        "colab": {
          "base_uri": "https://localhost:8080/",
          "height": 417
        },
        "id": "KeZtx9hB0fD3",
        "outputId": "920f610e-0ea1-4ce5-ec03-8596a1584f8e"
      },
      "execution_count": null,
      "outputs": [
        {
          "output_type": "display_data",
          "data": {
            "text/html": [
              "<html>\n",
              "<head><meta charset=\"utf-8\" /></head>\n",
              "<body>\n",
              "    <div>            <script src=\"https://cdnjs.cloudflare.com/ajax/libs/mathjax/2.7.5/MathJax.js?config=TeX-AMS-MML_SVG\"></script><script type=\"text/javascript\">if (window.MathJax) {MathJax.Hub.Config({SVG: {font: \"STIX-Web\"}});}</script>                <script type=\"text/javascript\">window.PlotlyConfig = {MathJaxConfig: 'local'};</script>\n",
              "        <script src=\"https://cdn.plot.ly/plotly-2.8.3.min.js\"></script>                <div id=\"43b0e5af-9d87-48b1-b3dc-cbaa0f4c75ee\" class=\"plotly-graph-div\" style=\"height:400px; width:400px;\"></div>            <script type=\"text/javascript\">                                    window.PLOTLYENV=window.PLOTLYENV || {};                                    if (document.getElementById(\"43b0e5af-9d87-48b1-b3dc-cbaa0f4c75ee\")) {                    Plotly.newPlot(                        \"43b0e5af-9d87-48b1-b3dc-cbaa0f4c75ee\",                        [{\"alignmentgroup\":\"True\",\"bingroup\":\"x\",\"hovertemplate\":\"variable=0<br>value=%{x}<br>count=%{y}<extra></extra>\",\"legendgroup\":\"0\",\"marker\":{\"color\":\"lightseagreen\",\"pattern\":{\"shape\":\"\"}},\"name\":\"0\",\"offsetgroup\":\"0\",\"orientation\":\"v\",\"showlegend\":true,\"x\":[-0.09962575233979931,1.504858016281309,0.23839922225146662,0.3956376395716408,0.8016292782675086,0.7878882078606267,0.9060889950449936,-0.2579104999192662,-0.3043630917084229,1.4917670033576456,1.332880390361089,0.491168234197412,-0.3564801211903944,-0.5978676549518483,0.34063120611122155,1.5504938926005463,-0.8107093251392147,-0.2508399042370321,1.0317858026669369,1.4284810217098431,-0.30412045011818456,-0.28026289204250776,-0.10080415906835415,-3.0019876284099363,-0.5229155672648768,-0.05614292681436303,-0.636301455461382,0.09082254136108177,0.8142831995705113,-0.8077746314258337,-0.0014007440839304127,1.5464185238736785,-0.018665077661592647,1.3581355667420725,-0.10584003961172393,0.5730297028079838,0.23951734260901944,1.1680896536639613,-0.727213087029528,-0.9311865652396046,1.4061597239943116,-0.7642704331145229,0.4367278336534035,0.4043516114494958,0.5244628281519268,-0.29101215071966646,0.810807065405619,1.009814073652433,1.2843908328360099,2.1862265256421067,1.5404882904272084,-0.8398196806796829,-1.2501944853502853,0.6129268798501888,3.1977328117097015,0.016675517588793917,0.5706429289460387,0.2506486771593222,-0.7011586996789503,-1.295405382307562,0.3944942845046889,-0.4259570099082501,0.021662135677216768,-1.1718456390808178,0.385322840629663,1.4278172052267815,0.9719469430490425,-1.257832062856022,2.3882351649295828,1.2692878192319683,0.47025237310483,0.1121556058758767,-1.0818343011055391,-1.6072912624819773,-0.7353801256518461,-2.316104772023846,0.8864338258811076,-1.2220778889129973,1.2302388720963982,-0.3809655311983322,0.18871687534256237,-2.2810300204803866,-0.8668895415984674,-2.259776828046979,-0.47747746545431446,0.16774863626535874,0.9112259673651543,0.09352063576278341,-0.7181122596099513,-0.4384653883271601,0.5415646441998443,-0.19917723500023732,0.21475863562740544,0.8257890773406072,0.7156786865690997,-0.531139602029496,0.6032911552798239,0.07244545000828961,0.3133941008376104,-0.6235780259087677,-0.75703796312645,-0.34807883775204335,-0.8521574355127103,-0.4756520524340888,-0.718864428630171,1.2839801026838187,-0.06959814539984498,2.0852536592469395,-0.31538074189937565,-0.6714129078698369,0.549049539512429,2.1046557633665337,-0.51705727712547,-1.9884027763979173,1.5392762056835052,0.9011033090006082,0.10325149391975513,0.08895162896849004,0.7696167308324057,-0.5491173508055436,-0.029491415316049922,-0.30330005630991286,-1.09868428450066,0.8962156706280193,-1.0758542151422459,-0.41016229039516977,2.3304930554221257,-0.5192229970905433,-0.009641531191884949,-0.4666495884273318,1.5003265719841865,1.4220124296152092,-0.5675488882839274,0.1402392118260369,0.027346898661486246,-0.7637551475093214,-0.6678411426440356,0.20229289332551065,1.7215024564697043,-0.8004911411536272,-0.0883692075082762,0.34867180013598176,1.1683025433842995,-0.08685148455164417,0.7893031161376679,0.8453519990005913,-1.1756741982345627,-1.9042779533457779,0.8773326754766121,0.02987771103926497,0.2412194100014716,-0.7183291775360082,-1.5956280221717984,0.13802285442434203,0.41021436578853543,0.16698532186798595,-3.622893847956875,-0.34221184383109077,0.09242652623468836,-1.1847689338383507,-0.7640489128279176,0.6054060616353816,-2.1005183410388053,1.8794484660589312,0.46151194519028965,-0.34722974849057714,1.6404450158004213,-0.560886376889484,-0.535956022453453,0.033850199138902894,0.12178751889349243,-1.3447336951278241,-0.20754604978379518,-0.26563797392495175,-0.4812308795136879,-0.6575935337421015,-0.4316059893502835,-0.9043496249427834,-0.09692762216872339,-1.8489907631955862,-0.446667899365014,-0.6141675246456552,0.7488499037436086,-0.5014330342534675,-1.3152386546647417,-0.3357018548030895,0.5204166079447986,-0.9939066831929493,0.07117894339222024,0.40729948908401103,-1.1425673897403161,-0.26043438310433753,0.4512681834855647,-1.0186642751290866,-0.8966438980560194,1.8833102646562274,-0.17777847569141106,-0.44072781610853534,-1.8011594679367937,-0.766480979587238,0.3527974578880069,0.8618190116474005,0.5469992285159789,-0.13547941999422344,0.4871022988309277,-0.6713211948559605,-1.9256518888802454,1.3836787986760444,0.6800841535342497,-0.5145601668208557,-1.3299371337094115,-0.4367866763692569,-0.4255027880523448,-0.8347028302629572,1.8053107897873846,-0.3170182578452374,-1.2859378235387926,0.44150512639361716,0.3752550743735219,0.2289908509617977,-1.3909195244731876,0.8828213889639758,-1.0620217995806458,1.5417477553248018,-0.8096863584398352,0.12710546895578348,0.9974646015067764,0.8865790000013214,-0.5760760145836484,-0.656678048182203,-2.6201682217093514,-1.1762334768928775,1.1468906813637358,-1.056442670946595,1.200238909424999,1.1202733879680067,1.0456301183924415,-0.6751823677724939,-0.0008644084283042936,-0.8775141059575339,1.0691956911870308,0.4503711395269546,0.4863537475970587,-0.2623589554377249,-0.5769887614890818,1.5294377760328701,-0.9720437942375088,-0.6714374436398226,-0.9349066404871335,-0.5781957413323936,-0.2131994989398228,1.3080802291329006,-0.5680404353867288,2.082787707616033,-0.16231834163644623,0.08455799643894589,-0.21062799278134262,0.07298038702936249,0.6043972841328549,-0.5640314812663394,-0.7546792285832051,1.4057280849881615,-0.7810896410373229,-0.10395735056757634,-0.16624238734776103,-0.5196563290907732,-0.9399048253199578,-0.8864053175490473,-0.09129101499037767,0.08020213014285546,-0.30153885546635567,1.1358578705219529,0.01557180399303117,0.13736870063218337,-0.8408401341112466,1.2285748434517907,-0.8252983772073808,0.406016361903729,-1.0315544714637426,-1.0583771248013465,2.176757132864037,0.37110645476437093,-0.055835523775301515,-0.34863267687827376,-1.49544464119735,0.5705874881910219,-0.7381711454538333,0.47020249016123844,1.1666376992372691,0.4339041875686821,-0.1489723257575283,0.8715698095336858,0.08895287699833333,-0.5176466928410377,0.8533459288386892,1.0481941531986576,0.7098933385150077,-0.21157464495811587,0.19945220022973578,0.9495286360136319,-1.3999973505717194,-0.4252721751678754,0.3918947738160955,-1.0966690347956167,0.30483916837091146,-0.20831848167095499,-0.4862235106425436,-1.7225052493087507,-0.08660916709090045,-0.3553030839275868,-0.21091339723711713,0.4825461685684785,-0.2676829252437437,0.9306823637365034,-0.6813626035667656,-2.1106791510929916,-2.097038893174546,0.8040536479013768,0.26643386919283174,-1.336308235983094,0.024536721791521946,0.2081165777996966,-0.5453823327308409,0.07329350727983758,-0.5173199606720447,-0.8914972414157232,-0.245347769033217,0.32019205240495197,0.8096973714359139,-1.690045464369348,-3.192115498461819,-0.560544129131274,0.14815086306543807,-0.625912985513981,-2.23716209631887,0.6494156049602882,0.027813052336349186,-0.6080988847940901,0.0675593804248413,-0.8632809564226653,-1.3009118432673403,0.4748336428544773,-2.4634344312803957,-1.9578560262787919,-1.4555029186228174,0.9625624016410047,-0.3923987402207103,-1.7456232146767041,0.9734721980562897,0.9963494761448481,1.0832501296816255,-1.402167584862825,-1.139552960738195,-2.1006646701742238,-1.4184841393340548,-0.7866693572443426,0.04934645223649476,-1.9666922752403586,0.6080171553070081,-0.9611602761021129,-0.9496143992015026,0.22070776937879172,1.8741356561109614,-1.5860152826806737,-0.664776634338167,0.4498269247693458,-0.6855015499242443,0.5853106543934143,0.4663431682060696,0.687654880605582,-0.7573686369140203,-0.767060008569341,0.3761524311760421,-1.2310076468755171,0.38172559137334733,-0.5000691556159561,-0.9389180140442469,0.5261104850356403,0.34796233874197624,0.2398470578269308,0.7109666751909757,0.7714745787711623,-0.4165683433491187,0.8007258989200343,0.5690523407076482,-0.7156269295653706,-0.5676685627973554,0.08989480310819008,-0.39517707309375344,-2.4793904232029482,-1.1418790496061682,0.9481688675575419,1.2103230861982688,0.49037661087365364,-0.9467451124846425,1.4652646022377351,-0.9966947905746552,0.8646423505119268,-0.5234164522168503,0.5745070723618998,0.37662637766761436,0.8403585615086797,-0.8141834619118143,0.4683182451224356,2.175407493052758,0.8416135507951191,0.2737314541885858,-1.0341030760757435,2.3285132125937933,-1.4526955471556664,-0.7362991086006956,0.5308010277922771,-2.496951711547623,-1.4816693173714053,-0.47514152992830344,-1.067787524132023,-1.849299493595625,0.411798600804226,0.017882484012310858,-1.013606429718986,0.11534686674002335,0.9857076474524862,-1.392950081697627,-0.3356799911436089,-0.6547183295202359,0.18027583391621654,-1.7986798268271602,0.5888788394444834,0.6645313110462417,-0.10297703600366219,-0.3055731585874588,2.461944808787134,0.2531529858435761,-1.4746082305226578,-0.2130088159448042,0.12081323372321831,-1.3611064683199543,-1.4277172578723551,0.1406607830165068,-0.21101075035176922,-1.3225621412111894,-1.3740642570615271,1.1310954549390422,2.040806943855093,-0.23218421027293776,2.0302056467799323,0.8364127991928222,1.1276360176222988,-0.01521520494123884,-2.1163911236163595,-0.13068771641982813,-1.1119350518936335,1.2734665446598235,0.33875914387060263,-0.2284059445729325,2.868676965757158,-0.1419332850825339,0.18883561262311155,0.027930482458906506,-0.7992709462165731,0.4903350290220023,-0.2251999230773703,-0.08245996554811896,-0.010126518898221701,0.8920154043302357,-0.039798984439994634,1.8711534747812053,1.3328623587361217,0.9335304232739029,-0.7105052914494953,0.26907523396682387,-0.5489886276704945,-1.038082548133291,-1.1540142710575134,-0.3015415731908126,0.8919132947815235,0.6401630259316723,-0.9304759690352893,-0.5962798791382355,0.4370208080749726,0.44981922862145246,0.15406287204554492,0.4475919155234391,0.6278700392422734,-0.9716600033116591,-0.6097942953279714,0.9477615930380769,-1.029936562780879,-0.3013048781971476,-1.676376055674741,-0.8596827087060421,-1.5648895213190477,0.7348857201171756,1.2350479860054528,-1.2741209184476239,1.5109431930971504,-0.33289545452333963,0.9109533027934901,1.3645646730288201,0.6426927490471369,0.38321669555978427,0.1265023212896652,-0.4718112852734166,0.265486844183857,1.9698576737518976,1.2963259239326828,-0.5782044751534121,0.7360425499511518,-0.7704557733911448,0.5605167412285549,-0.28239105692972655,-1.7402385598005061,-0.012386056382758642,1.014450000434096,1.0529937782364285,-1.5246441975966225,-0.23297062907388608,-0.0026915582917797867,-1.6162473516773483,-0.3785117652967178,0.9430283691367268,-0.24046859421941938,1.3807267440946829,0.3931609333162483,0.2992578419413955,-0.19898684371000838,1.6193255406694431,-0.5286433613348442,-1.360492545319378,-0.6540715908563491,-0.8417778034190467,0.30451958808071516,0.45791804130985564,-2.104445755956355,1.0676956982347057,-0.29828460814111585,0.9339785108174827,0.6890103319335861,-0.2872446899877203,0.27718524237265646,-0.6724968525298805,0.013880212383749806,-0.3397295931774568,0.2454368737451194,0.10206530456478322,0.171212843426872,-2.328857463571853,-0.6446443550898794,1.6956439972510107,-1.379488704161092,-0.3329610709106606,-0.15932513177067123,1.3983694711476276,1.386993222059151,1.2409458589402889,-1.0597855565859788,-1.8610728688398097,1.3262199434622415,-0.40490400040281116,0.357503266228115,0.1794261399711008,-0.5173796354247269,0.36665145709725766,0.3850364659085,-0.045950714773942254,0.40451586626300373,0.05867148889190861,-0.5291321040829398,-1.175962475411795,-0.09414232346111365,-1.397453972558801,0.34744416458399763,-1.4163095951595082,-0.14111330239215392,0.7223224811715622,1.1956198118529509,-1.605278296758552,1.0637408345376076,-0.3310939039218531,-0.04425357675633962,0.6571967837285411,-0.19504121503032473,-0.8385557922703283,1.5806931475004125,-1.0821224334170092,2.2085735547666054,-0.5080892226261853,1.4710326066859851,-0.38672718320096994,-0.5870893631038071,1.4406371446776751,0.0658289460322932,-1.637577505725748,0.0850857826811838,-0.6017968139044251,-1.189611475591975,0.42600146571048864,-0.14102163962294406,-0.17489878953667448,0.9172879669612751,-1.7504043553553135,-0.14352388677635783,0.42516690922206557,1.359030600914109,2.183986659021184,-0.20498737781953175,-0.25046976556891243,0.21419864815508685,-0.7128874340628437,0.6987542259515119,-0.6278229361256035,-0.7812540613939069,0.1711549600172962,-1.9888866850307458,0.31138137621953926,1.145711460328012,0.11744330634130462,0.3971411856324871,-0.17654030979533786,-1.3841831013560713,-1.1122528373620018,-0.23404392693421908,0.16000908743177095,-0.5115289413257149,1.0308457739969719,0.12372138962213575,0.6542992537121204,-0.7433222013017586,2.174832969331893,-0.2483590921117725,-1.5815142830381306,-1.2371750564403041,0.5037576215655013,-0.6797679372460435,-1.647166974889663,0.6779578537139865,1.221348387691359,-0.3397651445816658,-1.067504575436247,0.8532439358101618,-0.10774214702242577,-0.5682269428590404,-0.8024480048660091,-0.16422389024075473,-1.8644324706166122,-0.805914552312456,0.5331419632858162,1.1660689565762081,1.870397129989982,-1.120486627409109,1.2699013316548133,1.3411865289391243,1.2162330984821066,0.6331673478486424,-0.9016994279949041,-1.314619162956653,-0.4641454167950741,-1.7431441348817698,0.0952815490596562,-1.9575952848924474,-0.4213289331151305,-0.735147895724978,1.829976054698275,-0.272499792989914,0.6280921774732349,0.007223316460987798,0.2723744589741269,1.2359627480647317,0.6062383320511561,0.4646304065107603,0.4681014788775995,2.1375395859460022,-0.8919077819585008,1.618674756906599,1.1217924798755157,1.8594834636035473,-0.5911169839186179,0.3508266146638833,0.4777364115570032,-2.13247281926113,0.16225872928751078,-0.8878794871366018,-0.8807020688250474,-0.8841449047146079,-2.1286207399793553,-0.6615372543347015,1.637061111675578,-1.8547356464264009,-0.21154604642309896,0.10937807835387421,-1.0480975349412636,0.45140629200987314,0.2567246896776385,0.18866671252611608,-0.4724232989314975,1.128206615130747,0.8895633433338338,1.670952658186785,-0.11976649561326744,0.5889721271834093,1.3083485891916418,0.4173878559786859,0.871659008383326,-0.3772246290457121,-0.5596414835221736,-0.4868584971597802,-0.6902121983960299,-0.5754335489469699,0.7779201274553829,1.0997530533010877,1.0875086708215265,0.44696714537856963,-0.20002991743306242,0.030989762580177063,-0.5174393249962942,0.08234640757127853,0.10554015936624493,0.2470751661906635,-1.4693909949372297,0.6682050923258732,-0.10050964776724453,1.2096892481186172,0.6703639547681941,1.8260389198333047,-0.5753509109154326,0.6218922674964259,0.3552719471381613,-0.2666379688466716,1.796264521896484,0.9610471288000828,0.03991058609731353,1.5959921221424958,1.2948017707708104,0.08981719361473088,-1.8692700957216264,0.32256591885347574,0.3053687706295863,0.23003709885422347,-2.0803301056977093,-1.1971958803109681,-0.4056083954208708,1.4083461298411344,0.5626427344323073,0.36976563432859966,-0.6193072880756244,1.5234813020371258,-0.9232923980902441,-0.04140679220994935,-0.5156560797132986,1.7509692557908354,1.1343648005811273,-1.0906342368140276,0.4747695289480105,-0.0552076219688708,-0.2955991590681883,0.11826746924249414,1.0530600434641864,0.7778277722641845,-0.9140082908907131,-1.9019246826175886,0.44229218895467187,0.8653634741454358,-1.5399624383150852,0.4154670745467742,0.1991618513512085,1.542753413862305,0.7610949323247227,1.0113389099136345,1.2647600442877724,0.224021161297338,-0.16548904098378078,-0.09271752281323044,-0.3143513029547818,1.5152938058638425,0.13092419073768574,-0.6167318985138714,0.6127688216161273,-1.8590494973485312,-1.0744581496414154,-0.8413361852173115,-0.24158607131020465,1.2522041063174165,0.672843732924182,-0.15602032810473757,0.8991914670663174,1.3642156123796285,1.0645993911660183,0.4612643687971859,-1.8608527297774888,-0.5652391159295643,-0.38222764974890766,-1.9856602194017996,1.6550236414621948,-1.2662516584501886,-0.6476447332198549,-0.10894253217804607,-0.43091391689421626,1.9305793129453415,0.3312111705215736,0.015004728509092275,-1.3829233230156324,0.3551556054434705,-0.8973510177224426,-0.4574748726976837,-1.5760041022580855,0.6925110110788445,1.8734470738904203,-2.0047761009588823,0.6428323282119056,0.9295010438559339,-2.5369178381059174,-0.7994001022703329,-1.6053704227454049,-0.6899023513707542,1.170174798383149,0.40458705040691784,1.2406402241631156,-1.152893683004565,-0.5233568851188469,1.0471312742795331,-0.4285943534189221,0.376252914463905,-0.7972455441968629,-1.3982504870006813,-0.3023396736234556,1.7230916664594742,-0.709854716172715,0.017322980379500166,0.14095982334713858,0.2710142899643893,-0.006666481245615771,-0.27906302651468257,1.3690274006767613,0.17958885571362745,-0.016018661131131543,-0.15269019633898973,1.9617895697690257,0.4366405158384778,-2.3456100182634487,-0.8925732114440829,-0.04121952383373271,-0.27261416086336226,1.0995419257894552,-1.149500775891029,-0.07078785452492037,1.4828301069623404,0.4465753413397488,0.4696462052234991,-0.36003295775490196,-0.8018628768268282,-0.35918735336277974,-0.6485037669286412,0.47101144345529483,-1.6049783537145657,1.4340007427511166,-0.29201450422383424,0.4708851211346007,-0.2553525590011264,-1.6194158262952192,-0.18709526300045692,0.021495485920529096,-0.1480829890946675,-1.0386035852472586,1.8435833712523106,0.5769767029526771,-1.283755589561572,-0.1530905221965333,-0.9385177334903226,-1.5099857877898466,-0.3952479318650968,1.0924297758271837,-0.385240897966663,1.877120763664921,0.5031117226197567,-0.9883330261703481,-0.3168319126979658,0.47422174009232315,-0.17056333658158823,0.03505840151754062,-1.7059875204346437,-0.7958132297548007,-0.3236344414238726,-0.19686562076963046,-1.496287082449964,-0.6048628826039495,-0.06959305839067581,-1.4335902239257354,-1.2477995639611947,-0.4298539982489593,-0.1124801825995751,0.01461537325364002,-0.44394105649960025,-0.5829531419686005,0.2468662192442922,2.3971963856489373,-1.4344200323891194,-0.31082793110292556,-2.8832192406637835,0.6163871400971045,0.4711385283096374,0.07885427915817954,1.1710727775313696,1.0222691756455922,-0.18015389547545171,0.984431093346948,-1.8022124070945302,-0.8726848137718941,0.21668657007223657,-0.7784252369381166,1.8068826376959362,-0.8005947316684102,1.1750413815219727,-1.1419592217263252,-0.5979055478051476,-0.431928948636888,1.0474637408517937,-0.6892721718238246,0.22526371539396461,-0.37290675608711904,-0.8122592658324824,1.1744280175638988,0.27370133929138163,0.01612188436270478,-0.990951958484222,0.5632896930819339,-0.6029838749752731,-0.24374793285279928,0.30784353997038316,-0.11474409936218796,-0.11785504666059773,-1.2073339526492273,0.8608495600474442,-1.0358017211009463,2.062384152280049,-0.7430948474419952,0.5433181340453869,0.9185750017025114,0.11373664066703523,0.5023412865557405,0.053784759055461207,-1.8639997940078643,0.6498318445672557,1.1488430207146565,0.4623943224871908,-0.2616702147457908,-0.4735023838037675,-0.03787410358457946,-0.11306921234566539,-0.2881644342749361,-0.7837985340933229,0.8769429646801732,-0.17869034162562974,1.1913176746086611,-0.2829450014935516,1.2289608857864234,0.2929135097668999,-0.42015329003405477,-0.40915282923132895,1.4862387171659575,0.4518762539690467,0.4677596448093591,-0.8024107538808626,0.22926851696825926,-0.8318948906546397,0.7761016726242335,-0.8901415076465807,1.5434782211038236,-0.17084331267581263,-1.2347343772138595,0.6125237772518332,1.3450254639348762,0.012617374181762495,-0.1401157836944715,-0.748718050582473,-0.06529743818851395,0.8404347246238385,0.33046455170257366,0.9372786148446496,1.0033048954720243,-0.6429698116480157,1.7148127209147483,-0.740129589191819,-0.9634413166420078,0.18541175632805762,-1.9861687786550637,-1.5369138116318026,0.03878276267114417,-1.6178992485805468,1.097690503544817,-0.09511404377931396,-0.806453565249253,0.09515685536375129,-0.41954749832378124,0.8894475377939094,0.6694254983319637,0.5726138792912664,0.3978002496576517,0.4523953968201165,0.24432355503264663,-0.3772702027051068],\"xaxis\":\"x\",\"yaxis\":\"y\",\"type\":\"histogram\"}],                        {\"template\":{\"data\":{\"barpolar\":[{\"marker\":{\"line\":{\"color\":\"white\",\"width\":0.5},\"pattern\":{\"fillmode\":\"overlay\",\"size\":10,\"solidity\":0.2}},\"type\":\"barpolar\"}],\"bar\":[{\"error_x\":{\"color\":\"rgb(36,36,36)\"},\"error_y\":{\"color\":\"rgb(36,36,36)\"},\"marker\":{\"line\":{\"color\":\"white\",\"width\":0.5},\"pattern\":{\"fillmode\":\"overlay\",\"size\":10,\"solidity\":0.2}},\"type\":\"bar\"}],\"carpet\":[{\"aaxis\":{\"endlinecolor\":\"rgb(36,36,36)\",\"gridcolor\":\"white\",\"linecolor\":\"white\",\"minorgridcolor\":\"white\",\"startlinecolor\":\"rgb(36,36,36)\"},\"baxis\":{\"endlinecolor\":\"rgb(36,36,36)\",\"gridcolor\":\"white\",\"linecolor\":\"white\",\"minorgridcolor\":\"white\",\"startlinecolor\":\"rgb(36,36,36)\"},\"type\":\"carpet\"}],\"choropleth\":[{\"colorbar\":{\"outlinewidth\":1,\"tickcolor\":\"rgb(36,36,36)\",\"ticks\":\"outside\"},\"type\":\"choropleth\"}],\"contourcarpet\":[{\"colorbar\":{\"outlinewidth\":1,\"tickcolor\":\"rgb(36,36,36)\",\"ticks\":\"outside\"},\"type\":\"contourcarpet\"}],\"contour\":[{\"colorbar\":{\"outlinewidth\":1,\"tickcolor\":\"rgb(36,36,36)\",\"ticks\":\"outside\"},\"colorscale\":[[0.0,\"#440154\"],[0.1111111111111111,\"#482878\"],[0.2222222222222222,\"#3e4989\"],[0.3333333333333333,\"#31688e\"],[0.4444444444444444,\"#26828e\"],[0.5555555555555556,\"#1f9e89\"],[0.6666666666666666,\"#35b779\"],[0.7777777777777778,\"#6ece58\"],[0.8888888888888888,\"#b5de2b\"],[1.0,\"#fde725\"]],\"type\":\"contour\"}],\"heatmapgl\":[{\"colorbar\":{\"outlinewidth\":1,\"tickcolor\":\"rgb(36,36,36)\",\"ticks\":\"outside\"},\"colorscale\":[[0.0,\"#440154\"],[0.1111111111111111,\"#482878\"],[0.2222222222222222,\"#3e4989\"],[0.3333333333333333,\"#31688e\"],[0.4444444444444444,\"#26828e\"],[0.5555555555555556,\"#1f9e89\"],[0.6666666666666666,\"#35b779\"],[0.7777777777777778,\"#6ece58\"],[0.8888888888888888,\"#b5de2b\"],[1.0,\"#fde725\"]],\"type\":\"heatmapgl\"}],\"heatmap\":[{\"colorbar\":{\"outlinewidth\":1,\"tickcolor\":\"rgb(36,36,36)\",\"ticks\":\"outside\"},\"colorscale\":[[0.0,\"#440154\"],[0.1111111111111111,\"#482878\"],[0.2222222222222222,\"#3e4989\"],[0.3333333333333333,\"#31688e\"],[0.4444444444444444,\"#26828e\"],[0.5555555555555556,\"#1f9e89\"],[0.6666666666666666,\"#35b779\"],[0.7777777777777778,\"#6ece58\"],[0.8888888888888888,\"#b5de2b\"],[1.0,\"#fde725\"]],\"type\":\"heatmap\"}],\"histogram2dcontour\":[{\"colorbar\":{\"outlinewidth\":1,\"tickcolor\":\"rgb(36,36,36)\",\"ticks\":\"outside\"},\"colorscale\":[[0.0,\"#440154\"],[0.1111111111111111,\"#482878\"],[0.2222222222222222,\"#3e4989\"],[0.3333333333333333,\"#31688e\"],[0.4444444444444444,\"#26828e\"],[0.5555555555555556,\"#1f9e89\"],[0.6666666666666666,\"#35b779\"],[0.7777777777777778,\"#6ece58\"],[0.8888888888888888,\"#b5de2b\"],[1.0,\"#fde725\"]],\"type\":\"histogram2dcontour\"}],\"histogram2d\":[{\"colorbar\":{\"outlinewidth\":1,\"tickcolor\":\"rgb(36,36,36)\",\"ticks\":\"outside\"},\"colorscale\":[[0.0,\"#440154\"],[0.1111111111111111,\"#482878\"],[0.2222222222222222,\"#3e4989\"],[0.3333333333333333,\"#31688e\"],[0.4444444444444444,\"#26828e\"],[0.5555555555555556,\"#1f9e89\"],[0.6666666666666666,\"#35b779\"],[0.7777777777777778,\"#6ece58\"],[0.8888888888888888,\"#b5de2b\"],[1.0,\"#fde725\"]],\"type\":\"histogram2d\"}],\"histogram\":[{\"marker\":{\"line\":{\"color\":\"white\",\"width\":0.6}},\"type\":\"histogram\"}],\"mesh3d\":[{\"colorbar\":{\"outlinewidth\":1,\"tickcolor\":\"rgb(36,36,36)\",\"ticks\":\"outside\"},\"type\":\"mesh3d\"}],\"parcoords\":[{\"line\":{\"colorbar\":{\"outlinewidth\":1,\"tickcolor\":\"rgb(36,36,36)\",\"ticks\":\"outside\"}},\"type\":\"parcoords\"}],\"pie\":[{\"automargin\":true,\"type\":\"pie\"}],\"scatter3d\":[{\"line\":{\"colorbar\":{\"outlinewidth\":1,\"tickcolor\":\"rgb(36,36,36)\",\"ticks\":\"outside\"}},\"marker\":{\"colorbar\":{\"outlinewidth\":1,\"tickcolor\":\"rgb(36,36,36)\",\"ticks\":\"outside\"}},\"type\":\"scatter3d\"}],\"scattercarpet\":[{\"marker\":{\"colorbar\":{\"outlinewidth\":1,\"tickcolor\":\"rgb(36,36,36)\",\"ticks\":\"outside\"}},\"type\":\"scattercarpet\"}],\"scattergeo\":[{\"marker\":{\"colorbar\":{\"outlinewidth\":1,\"tickcolor\":\"rgb(36,36,36)\",\"ticks\":\"outside\"}},\"type\":\"scattergeo\"}],\"scattergl\":[{\"marker\":{\"colorbar\":{\"outlinewidth\":1,\"tickcolor\":\"rgb(36,36,36)\",\"ticks\":\"outside\"}},\"type\":\"scattergl\"}],\"scattermapbox\":[{\"marker\":{\"colorbar\":{\"outlinewidth\":1,\"tickcolor\":\"rgb(36,36,36)\",\"ticks\":\"outside\"}},\"type\":\"scattermapbox\"}],\"scatterpolargl\":[{\"marker\":{\"colorbar\":{\"outlinewidth\":1,\"tickcolor\":\"rgb(36,36,36)\",\"ticks\":\"outside\"}},\"type\":\"scatterpolargl\"}],\"scatterpolar\":[{\"marker\":{\"colorbar\":{\"outlinewidth\":1,\"tickcolor\":\"rgb(36,36,36)\",\"ticks\":\"outside\"}},\"type\":\"scatterpolar\"}],\"scatter\":[{\"marker\":{\"colorbar\":{\"outlinewidth\":1,\"tickcolor\":\"rgb(36,36,36)\",\"ticks\":\"outside\"}},\"type\":\"scatter\"}],\"scatterternary\":[{\"marker\":{\"colorbar\":{\"outlinewidth\":1,\"tickcolor\":\"rgb(36,36,36)\",\"ticks\":\"outside\"}},\"type\":\"scatterternary\"}],\"surface\":[{\"colorbar\":{\"outlinewidth\":1,\"tickcolor\":\"rgb(36,36,36)\",\"ticks\":\"outside\"},\"colorscale\":[[0.0,\"#440154\"],[0.1111111111111111,\"#482878\"],[0.2222222222222222,\"#3e4989\"],[0.3333333333333333,\"#31688e\"],[0.4444444444444444,\"#26828e\"],[0.5555555555555556,\"#1f9e89\"],[0.6666666666666666,\"#35b779\"],[0.7777777777777778,\"#6ece58\"],[0.8888888888888888,\"#b5de2b\"],[1.0,\"#fde725\"]],\"type\":\"surface\"}],\"table\":[{\"cells\":{\"fill\":{\"color\":\"rgb(237,237,237)\"},\"line\":{\"color\":\"white\"}},\"header\":{\"fill\":{\"color\":\"rgb(217,217,217)\"},\"line\":{\"color\":\"white\"}},\"type\":\"table\"}]},\"layout\":{\"annotationdefaults\":{\"arrowhead\":0,\"arrowwidth\":1},\"autotypenumbers\":\"strict\",\"coloraxis\":{\"colorbar\":{\"outlinewidth\":1,\"tickcolor\":\"rgb(36,36,36)\",\"ticks\":\"outside\"}},\"colorscale\":{\"diverging\":[[0.0,\"rgb(103,0,31)\"],[0.1,\"rgb(178,24,43)\"],[0.2,\"rgb(214,96,77)\"],[0.3,\"rgb(244,165,130)\"],[0.4,\"rgb(253,219,199)\"],[0.5,\"rgb(247,247,247)\"],[0.6,\"rgb(209,229,240)\"],[0.7,\"rgb(146,197,222)\"],[0.8,\"rgb(67,147,195)\"],[0.9,\"rgb(33,102,172)\"],[1.0,\"rgb(5,48,97)\"]],\"sequential\":[[0.0,\"#440154\"],[0.1111111111111111,\"#482878\"],[0.2222222222222222,\"#3e4989\"],[0.3333333333333333,\"#31688e\"],[0.4444444444444444,\"#26828e\"],[0.5555555555555556,\"#1f9e89\"],[0.6666666666666666,\"#35b779\"],[0.7777777777777778,\"#6ece58\"],[0.8888888888888888,\"#b5de2b\"],[1.0,\"#fde725\"]],\"sequentialminus\":[[0.0,\"#440154\"],[0.1111111111111111,\"#482878\"],[0.2222222222222222,\"#3e4989\"],[0.3333333333333333,\"#31688e\"],[0.4444444444444444,\"#26828e\"],[0.5555555555555556,\"#1f9e89\"],[0.6666666666666666,\"#35b779\"],[0.7777777777777778,\"#6ece58\"],[0.8888888888888888,\"#b5de2b\"],[1.0,\"#fde725\"]]},\"colorway\":[\"#1F77B4\",\"#FF7F0E\",\"#2CA02C\",\"#D62728\",\"#9467BD\",\"#8C564B\",\"#E377C2\",\"#7F7F7F\",\"#BCBD22\",\"#17BECF\"],\"font\":{\"color\":\"rgb(36,36,36)\"},\"geo\":{\"bgcolor\":\"white\",\"lakecolor\":\"white\",\"landcolor\":\"white\",\"showlakes\":true,\"showland\":true,\"subunitcolor\":\"white\"},\"hoverlabel\":{\"align\":\"left\"},\"hovermode\":\"closest\",\"mapbox\":{\"style\":\"light\"},\"paper_bgcolor\":\"white\",\"plot_bgcolor\":\"white\",\"polar\":{\"angularaxis\":{\"gridcolor\":\"rgb(232,232,232)\",\"linecolor\":\"rgb(36,36,36)\",\"showgrid\":false,\"showline\":true,\"ticks\":\"outside\"},\"bgcolor\":\"white\",\"radialaxis\":{\"gridcolor\":\"rgb(232,232,232)\",\"linecolor\":\"rgb(36,36,36)\",\"showgrid\":false,\"showline\":true,\"ticks\":\"outside\"}},\"scene\":{\"xaxis\":{\"backgroundcolor\":\"white\",\"gridcolor\":\"rgb(232,232,232)\",\"gridwidth\":2,\"linecolor\":\"rgb(36,36,36)\",\"showbackground\":true,\"showgrid\":false,\"showline\":true,\"ticks\":\"outside\",\"zeroline\":false,\"zerolinecolor\":\"rgb(36,36,36)\"},\"yaxis\":{\"backgroundcolor\":\"white\",\"gridcolor\":\"rgb(232,232,232)\",\"gridwidth\":2,\"linecolor\":\"rgb(36,36,36)\",\"showbackground\":true,\"showgrid\":false,\"showline\":true,\"ticks\":\"outside\",\"zeroline\":false,\"zerolinecolor\":\"rgb(36,36,36)\"},\"zaxis\":{\"backgroundcolor\":\"white\",\"gridcolor\":\"rgb(232,232,232)\",\"gridwidth\":2,\"linecolor\":\"rgb(36,36,36)\",\"showbackground\":true,\"showgrid\":false,\"showline\":true,\"ticks\":\"outside\",\"zeroline\":false,\"zerolinecolor\":\"rgb(36,36,36)\"}},\"shapedefaults\":{\"fillcolor\":\"black\",\"line\":{\"width\":0},\"opacity\":0.3},\"ternary\":{\"aaxis\":{\"gridcolor\":\"rgb(232,232,232)\",\"linecolor\":\"rgb(36,36,36)\",\"showgrid\":false,\"showline\":true,\"ticks\":\"outside\"},\"baxis\":{\"gridcolor\":\"rgb(232,232,232)\",\"linecolor\":\"rgb(36,36,36)\",\"showgrid\":false,\"showline\":true,\"ticks\":\"outside\"},\"bgcolor\":\"white\",\"caxis\":{\"gridcolor\":\"rgb(232,232,232)\",\"linecolor\":\"rgb(36,36,36)\",\"showgrid\":false,\"showline\":true,\"ticks\":\"outside\"}},\"title\":{\"x\":0.05},\"xaxis\":{\"automargin\":true,\"gridcolor\":\"rgb(232,232,232)\",\"linecolor\":\"rgb(36,36,36)\",\"showgrid\":false,\"showline\":true,\"ticks\":\"outside\",\"title\":{\"standoff\":15},\"zeroline\":false,\"zerolinecolor\":\"rgb(36,36,36)\"},\"yaxis\":{\"automargin\":true,\"gridcolor\":\"rgb(232,232,232)\",\"linecolor\":\"rgb(36,36,36)\",\"showgrid\":false,\"showline\":true,\"ticks\":\"outside\",\"title\":{\"standoff\":15},\"zeroline\":false,\"zerolinecolor\":\"rgb(36,36,36)\"}}},\"xaxis\":{\"anchor\":\"y\",\"domain\":[0.0,1.0],\"title\":{\"text\":\"value\"}},\"yaxis\":{\"anchor\":\"x\",\"domain\":[0.0,1.0],\"title\":{\"text\":\"count\"}},\"legend\":{\"title\":{\"text\":\"variable\"},\"tracegroupgap\":0},\"margin\":{\"t\":20,\"l\":20,\"r\":20,\"b\":20},\"barmode\":\"relative\",\"shapes\":[{\"line\":{\"color\":\"red\",\"width\":3},\"type\":\"line\",\"x0\":-0.03691078536342746,\"x1\":-0.03691078536342746,\"xref\":\"x\",\"y0\":0,\"y1\":1,\"yref\":\"y domain\"},{\"line\":{\"color\":\"blue\",\"dash\":\"dash\",\"width\":3},\"type\":\"line\",\"x0\":-0.04510214576514093,\"x1\":-0.04510214576514093,\"xref\":\"x\",\"y0\":0,\"y1\":1,\"yref\":\"y domain\"}],\"width\":400,\"height\":400,\"paper_bgcolor\":\"#f7f8fa\",\"showlegend\":false},                        {\"responsive\": true}                    ).then(function(){\n",
              "                            \n",
              "var gd = document.getElementById('43b0e5af-9d87-48b1-b3dc-cbaa0f4c75ee');\n",
              "var x = new MutationObserver(function (mutations, observer) {{\n",
              "        var display = window.getComputedStyle(gd).display;\n",
              "        if (!display || display === 'none') {{\n",
              "            console.log([gd, 'removed!']);\n",
              "            Plotly.purge(gd);\n",
              "            observer.disconnect();\n",
              "        }}\n",
              "}});\n",
              "\n",
              "// Listen for the removal of the full notebook cells\n",
              "var notebookContainer = gd.closest('#notebook-container');\n",
              "if (notebookContainer) {{\n",
              "    x.observe(notebookContainer, {childList: true});\n",
              "}}\n",
              "\n",
              "// Listen for the clearing of the current output cell\n",
              "var outputEl = gd.closest('.output');\n",
              "if (outputEl) {{\n",
              "    x.observe(outputEl, {childList: true});\n",
              "}}\n",
              "\n",
              "                        })                };                            </script>        </div>\n",
              "</body>\n",
              "</html>"
            ]
          },
          "metadata": {}
        }
      ]
    },
    {
      "cell_type": "markdown",
      "source": [
        "**Como saber se uma distribuição é normal?**\n",
        "\n",
        "Para isso realizamos diferentes testes como os apresentados à seguir."
      ],
      "metadata": {
        "id": "gnLvKx0Q2F_E"
      }
    },
    {
      "cell_type": "markdown",
      "source": [
        "#### Testes de normalidade (caindo em desuso)"
      ],
      "metadata": {
        "id": "bXYmu_Bz2U4x"
      }
    },
    {
      "cell_type": "code",
      "source": [
        "teste_normalidade = stats.normaltest(normal_dist)\n",
        "print(teste_normalidade)"
      ],
      "metadata": {
        "colab": {
          "base_uri": "https://localhost:8080/"
        },
        "id": "BD1yD8Fu1mzi",
        "outputId": "fac6c2b8-3dc9-40a0-96ff-6c724a694178"
      },
      "execution_count": null,
      "outputs": [
        {
          "output_type": "stream",
          "name": "stdout",
          "text": [
            "NormaltestResult(statistic=0.6263054820664015, pvalue=0.7311382292312396)\n"
          ]
        }
      ]
    },
    {
      "cell_type": "markdown",
      "source": [
        "* pvalue -> quando o resultado é acima de 0.05 significa que os dados são considerados normais."
      ],
      "metadata": {
        "id": "zPu53OwE3LN4"
      }
    },
    {
      "cell_type": "markdown",
      "source": [
        "Este tipo de teste está caindo em desuso pois são extremamente sensíveis quando temos um amplo conjunto de dados. "
      ],
      "metadata": {
        "id": "HYnMdJ8V3ZEV"
      }
    },
    {
      "cell_type": "markdown",
      "source": [
        "##### Sensibilidade do teste"
      ],
      "metadata": {
        "id": "pvIXhW9U3k9i"
      }
    },
    {
      "cell_type": "code",
      "source": [
        "import random \n",
        "\n",
        "random.seed(1)\n",
        "qtd_dados = 30\n",
        "lista_numeros = [random.randrange(1, 50, 1) for i in range(qtd_dados)]\n",
        "shapiro_test = stats.shapiro(lista_numeros)\n",
        "print(\"Lista com\",len(lista_numeros),'dados')\n",
        "shapiro_test\n",
        "\n",
        "# Veja que temos um conjunto de dados normal (p> 0.05)"
      ],
      "metadata": {
        "colab": {
          "base_uri": "https://localhost:8080/"
        },
        "id": "k-zS9aG02s28",
        "outputId": "af06f7da-c2b6-4c38-c803-e46a6b00f16c"
      },
      "execution_count": null,
      "outputs": [
        {
          "output_type": "stream",
          "name": "stdout",
          "text": [
            "Lista com 30 dados\n"
          ]
        },
        {
          "output_type": "execute_result",
          "data": {
            "text/plain": [
              "ShapiroResult(statistic=0.9379926919937134, pvalue=0.08032047003507614)"
            ]
          },
          "metadata": {},
          "execution_count": 78
        }
      ]
    },
    {
      "cell_type": "code",
      "source": [
        "# Observa a média\n",
        "print(np.mean(lista_numeros))"
      ],
      "metadata": {
        "colab": {
          "base_uri": "https://localhost:8080/"
        },
        "id": "MdCIb-yq3ykp",
        "outputId": "d95f8ca1-a8ea-4115-b1e3-20bcb7e54782"
      },
      "execution_count": null,
      "outputs": [
        {
          "output_type": "stream",
          "name": "stdout",
          "text": [
            "25.066666666666666\n"
          ]
        }
      ]
    },
    {
      "cell_type": "code",
      "source": [
        "# Vamos dobrar o número de dados, mas repetindo a mesma lista, ou seja, normalidade deveria ser a mesma\n",
        "lista_numeros.extend(lista_numeros)\n",
        "shapiro_test = stats.shapiro(lista_numeros)\n",
        "print(\"Lista com\",len(lista_numeros),'dados')\n",
        "shapiro_test\n",
        "\n",
        "# Veja que o pvalue < 0.05"
      ],
      "metadata": {
        "colab": {
          "base_uri": "https://localhost:8080/"
        },
        "id": "iHTfT8zT343V",
        "outputId": "44990739-41ff-49f8-aa45-9bf5690e3d58"
      },
      "execution_count": null,
      "outputs": [
        {
          "output_type": "stream",
          "name": "stdout",
          "text": [
            "Lista com 60 dados\n"
          ]
        },
        {
          "output_type": "execute_result",
          "data": {
            "text/plain": [
              "ShapiroResult(statistic=0.9343811273574829, pvalue=0.003061881521716714)"
            ]
          },
          "metadata": {},
          "execution_count": 80
        }
      ]
    },
    {
      "cell_type": "code",
      "source": [
        "# Media se mantém já que só repeti os numeros\n",
        "print(np.mean(lista_numeros))"
      ],
      "metadata": {
        "colab": {
          "base_uri": "https://localhost:8080/"
        },
        "id": "Uc9ddT3u36Ru",
        "outputId": "3bf46829-ba4a-43fe-ed99-6cc75bd58756"
      },
      "execution_count": null,
      "outputs": [
        {
          "output_type": "stream",
          "name": "stdout",
          "text": [
            "25.066666666666666\n"
          ]
        }
      ]
    },
    {
      "cell_type": "markdown",
      "source": [
        "Por mais que a média se manteve, mas a normalidade caiu, tornando o método um tanto obsoleto."
      ],
      "metadata": {
        "id": "BQhmti9q4LIW"
      }
    },
    {
      "cell_type": "markdown",
      "source": [
        "### Medidas de posição: Quantis\n",
        "\n",
        "São pontos de corte que dividem intervalos de distribuições em intervalos contínuos com probabilidades iguais.\n",
        "\n",
        "Essa separação poder ser feita em N Subdivisões, portanto, se for dividido em quatro partes, são chamados de quartiles, já em cem partes, percentiles."
      ],
      "metadata": {
        "id": "7JPuVGMD4UcI"
      }
    },
    {
      "cell_type": "markdown",
      "source": [
        "#### Quantile-Quantile Plot (Q-Q Plot)"
      ],
      "metadata": {
        "id": "4c4WNj9I58hm"
      }
    },
    {
      "cell_type": "code",
      "source": [
        "stats.probplot(normal_dist, dist=\"norm\", plot=pylab)\n",
        "pylab.show()"
      ],
      "metadata": {
        "colab": {
          "base_uri": "https://localhost:8080/",
          "height": 295
        },
        "id": "ETgix9S738H7",
        "outputId": "96cede5d-88f8-447f-831c-100969f38d99"
      },
      "execution_count": null,
      "outputs": [
        {
          "output_type": "display_data",
          "data": {
            "text/plain": [
              "<Figure size 432x288 with 1 Axes>"
            ],
            "image/png": "[encoded data removed]"
          },
          "metadata": {
            "needs_background": "light"
          }
        }
      ]
    },
    {
      "cell_type": "markdown",
      "source": [
        "Este gráfico compara a distribuição do nosso conjunto de dados(azul), com uma distribuição de um conjunto teórico \"perfeito\" (vermelho). Quanto mais próximo do conjunto teórico, maior é a normalização dos nossos dados. "
      ],
      "metadata": {
        "id": "Zrpqed7H6c7l"
      }
    },
    {
      "cell_type": "markdown",
      "source": [
        "####Boxplot\n",
        "Uma ótima maneira de visualizar a distribuição dos dados. Dessa forma nos é mostrado em `Quartiles`, ou seja, dividido em 4 partes. Se dermos um zoom in nesse gráfico, podemos ver a linha tracejada que nos mostra a média do nosso conjunto de dados, assim como a linha normal nos mostra a mediana. \n",
        "\n",
        "A parte de cima da caixa mostra o valor do Quantile 3, a parte de baixo o valor do Quantile 1. Já as linhas dos extremos, nos mostra o limite do que é considerado \"Normal\" dentro do conjunto de dados, qualquer valor além desses limites são considerados \"outliers\" e devem ser eliminados para não distorcer o resultado da nossa análise."
      ],
      "metadata": {
        "id": "_sUh1kgT6vUE"
      }
    },
    {
      "cell_type": "code",
      "source": [
        "fig02 = go.Figure()\n",
        "fig02.add_trace(go.Box(y=normal_dist, boxpoints='all', boxmean='sd', name='<b>Normal distribution', marker_color = 'blue'))\n",
        "fig02.update_layout(width=400, height=400, template = 'simple_white',\n",
        "                    paper_bgcolor=\"#f7f8fa\", margin=dict(l=20, r=20, t=20, b=20),\n",
        "                    showlegend=False)"
      ],
      "metadata": {
        "colab": {
          "base_uri": "https://localhost:8080/",
          "height": 417
        },
        "id": "kNKkdkRJ6Ji2",
        "outputId": "3c1cf357-de6f-409a-8900-a0c8ef9616cb"
      },
      "execution_count": null,
      "outputs": [
        {
          "output_type": "display_data",
          "data": {
            "text/html": [
              "<html>\n",
              "<head><meta charset=\"utf-8\" /></head>\n",
              "<body>\n",
              "    <div>            <script src=\"https://cdnjs.cloudflare.com/ajax/libs/mathjax/2.7.5/MathJax.js?config=TeX-AMS-MML_SVG\"></script><script type=\"text/javascript\">if (window.MathJax) {MathJax.Hub.Config({SVG: {font: \"STIX-Web\"}});}</script>                <script type=\"text/javascript\">window.PlotlyConfig = {MathJaxConfig: 'local'};</script>\n",
              "        <script src=\"https://cdn.plot.ly/plotly-2.8.3.min.js\"></script>                <div id=\"edf9216d-0b48-4fc3-a0a8-d935283f5a09\" class=\"plotly-graph-div\" style=\"height:400px; width:400px;\"></div>            <script type=\"text/javascript\">                                    window.PLOTLYENV=window.PLOTLYENV || {};                                    if (document.getElementById(\"edf9216d-0b48-4fc3-a0a8-d935283f5a09\")) {                    Plotly.newPlot(                        \"edf9216d-0b48-4fc3-a0a8-d935283f5a09\",                        [{\"boxmean\":\"sd\",\"boxpoints\":\"all\",\"marker\":{\"color\":\"blue\"},\"name\":\"<b>Normal distribution\",\"y\":[-0.09962575233979931,1.504858016281309,0.23839922225146662,0.3956376395716408,0.8016292782675086,0.7878882078606267,0.9060889950449936,-0.2579104999192662,-0.3043630917084229,1.4917670033576456,1.332880390361089,0.491168234197412,-0.3564801211903944,-0.5978676549518483,0.34063120611122155,1.5504938926005463,-0.8107093251392147,-0.2508399042370321,1.0317858026669369,1.4284810217098431,-0.30412045011818456,-0.28026289204250776,-0.10080415906835415,-3.0019876284099363,-0.5229155672648768,-0.05614292681436303,-0.636301455461382,0.09082254136108177,0.8142831995705113,-0.8077746314258337,-0.0014007440839304127,1.5464185238736785,-0.018665077661592647,1.3581355667420725,-0.10584003961172393,0.5730297028079838,0.23951734260901944,1.1680896536639613,-0.727213087029528,-0.9311865652396046,1.4061597239943116,-0.7642704331145229,0.4367278336534035,0.4043516114494958,0.5244628281519268,-0.29101215071966646,0.810807065405619,1.009814073652433,1.2843908328360099,2.1862265256421067,1.5404882904272084,-0.8398196806796829,-1.2501944853502853,0.6129268798501888,3.1977328117097015,0.016675517588793917,0.5706429289460387,0.2506486771593222,-0.7011586996789503,-1.295405382307562,0.3944942845046889,-0.4259570099082501,0.021662135677216768,-1.1718456390808178,0.385322840629663,1.4278172052267815,0.9719469430490425,-1.257832062856022,2.3882351649295828,1.2692878192319683,0.47025237310483,0.1121556058758767,-1.0818343011055391,-1.6072912624819773,-0.7353801256518461,-2.316104772023846,0.8864338258811076,-1.2220778889129973,1.2302388720963982,-0.3809655311983322,0.18871687534256237,-2.2810300204803866,-0.8668895415984674,-2.259776828046979,-0.47747746545431446,0.16774863626535874,0.9112259673651543,0.09352063576278341,-0.7181122596099513,-0.4384653883271601,0.5415646441998443,-0.19917723500023732,0.21475863562740544,0.8257890773406072,0.7156786865690997,-0.531139602029496,0.6032911552798239,0.07244545000828961,0.3133941008376104,-0.6235780259087677,-0.75703796312645,-0.34807883775204335,-0.8521574355127103,-0.4756520524340888,-0.718864428630171,1.2839801026838187,-0.06959814539984498,2.0852536592469395,-0.31538074189937565,-0.6714129078698369,0.549049539512429,2.1046557633665337,-0.51705727712547,-1.9884027763979173,1.5392762056835052,0.9011033090006082,0.10325149391975513,0.08895162896849004,0.7696167308324057,-0.5491173508055436,-0.029491415316049922,-0.30330005630991286,-1.09868428450066,0.8962156706280193,-1.0758542151422459,-0.41016229039516977,2.3304930554221257,-0.5192229970905433,-0.009641531191884949,-0.4666495884273318,1.5003265719841865,1.4220124296152092,-0.5675488882839274,0.1402392118260369,0.027346898661486246,-0.7637551475093214,-0.6678411426440356,0.20229289332551065,1.7215024564697043,-0.8004911411536272,-0.0883692075082762,0.34867180013598176,1.1683025433842995,-0.08685148455164417,0.7893031161376679,0.8453519990005913,-1.1756741982345627,-1.9042779533457779,0.8773326754766121,0.02987771103926497,0.2412194100014716,-0.7183291775360082,-1.5956280221717984,0.13802285442434203,0.41021436578853543,0.16698532186798595,-3.622893847956875,-0.34221184383109077,0.09242652623468836,-1.1847689338383507,-0.7640489128279176,0.6054060616353816,-2.1005183410388053,1.8794484660589312,0.46151194519028965,-0.34722974849057714,1.6404450158004213,-0.560886376889484,-0.535956022453453,0.033850199138902894,0.12178751889349243,-1.3447336951278241,-0.20754604978379518,-0.26563797392495175,-0.4812308795136879,-0.6575935337421015,-0.4316059893502835,-0.9043496249427834,-0.09692762216872339,-1.8489907631955862,-0.446667899365014,-0.6141675246456552,0.7488499037436086,-0.5014330342534675,-1.3152386546647417,-0.3357018548030895,0.5204166079447986,-0.9939066831929493,0.07117894339222024,0.40729948908401103,-1.1425673897403161,-0.26043438310433753,0.4512681834855647,-1.0186642751290866,-0.8966438980560194,1.8833102646562274,-0.17777847569141106,-0.44072781610853534,-1.8011594679367937,-0.766480979587238,0.3527974578880069,0.8618190116474005,0.5469992285159789,-0.13547941999422344,0.4871022988309277,-0.6713211948559605,-1.9256518888802454,1.3836787986760444,0.6800841535342497,-0.5145601668208557,-1.3299371337094115,-0.4367866763692569,-0.4255027880523448,-0.8347028302629572,1.8053107897873846,-0.3170182578452374,-1.2859378235387926,0.44150512639361716,0.3752550743735219,0.2289908509617977,-1.3909195244731876,0.8828213889639758,-1.0620217995806458,1.5417477553248018,-0.8096863584398352,0.12710546895578348,0.9974646015067764,0.8865790000013214,-0.5760760145836484,-0.656678048182203,-2.6201682217093514,-1.1762334768928775,1.1468906813637358,-1.056442670946595,1.200238909424999,1.1202733879680067,1.0456301183924415,-0.6751823677724939,-0.0008644084283042936,-0.8775141059575339,1.0691956911870308,0.4503711395269546,0.4863537475970587,-0.2623589554377249,-0.5769887614890818,1.5294377760328701,-0.9720437942375088,-0.6714374436398226,-0.9349066404871335,-0.5781957413323936,-0.2131994989398228,1.3080802291329006,-0.5680404353867288,2.082787707616033,-0.16231834163644623,0.08455799643894589,-0.21062799278134262,0.07298038702936249,0.6043972841328549,-0.5640314812663394,-0.7546792285832051,1.4057280849881615,-0.7810896410373229,-0.10395735056757634,-0.16624238734776103,-0.5196563290907732,-0.9399048253199578,-0.8864053175490473,-0.09129101499037767,0.08020213014285546,-0.30153885546635567,1.1358578705219529,0.01557180399303117,0.13736870063218337,-0.8408401341112466,1.2285748434517907,-0.8252983772073808,0.406016361903729,-1.0315544714637426,-1.0583771248013465,2.176757132864037,0.37110645476437093,-0.055835523775301515,-0.34863267687827376,-1.49544464119735,0.5705874881910219,-0.7381711454538333,0.47020249016123844,1.1666376992372691,0.4339041875686821,-0.1489723257575283,0.8715698095336858,0.08895287699833333,-0.5176466928410377,0.8533459288386892,1.0481941531986576,0.7098933385150077,-0.21157464495811587,0.19945220022973578,0.9495286360136319,-1.3999973505717194,-0.4252721751678754,0.3918947738160955,-1.0966690347956167,0.30483916837091146,-0.20831848167095499,-0.4862235106425436,-1.7225052493087507,-0.08660916709090045,-0.3553030839275868,-0.21091339723711713,0.4825461685684785,-0.2676829252437437,0.9306823637365034,-0.6813626035667656,-2.1106791510929916,-2.097038893174546,0.8040536479013768,0.26643386919283174,-1.336308235983094,0.024536721791521946,0.2081165777996966,-0.5453823327308409,0.07329350727983758,-0.5173199606720447,-0.8914972414157232,-0.245347769033217,0.32019205240495197,0.8096973714359139,-1.690045464369348,-3.192115498461819,-0.560544129131274,0.14815086306543807,-0.625912985513981,-2.23716209631887,0.6494156049602882,0.027813052336349186,-0.6080988847940901,0.0675593804248413,-0.8632809564226653,-1.3009118432673403,0.4748336428544773,-2.4634344312803957,-1.9578560262787919,-1.4555029186228174,0.9625624016410047,-0.3923987402207103,-1.7456232146767041,0.9734721980562897,0.9963494761448481,1.0832501296816255,-1.402167584862825,-1.139552960738195,-2.1006646701742238,-1.4184841393340548,-0.7866693572443426,0.04934645223649476,-1.9666922752403586,0.6080171553070081,-0.9611602761021129,-0.9496143992015026,0.22070776937879172,1.8741356561109614,-1.5860152826806737,-0.664776634338167,0.4498269247693458,-0.6855015499242443,0.5853106543934143,0.4663431682060696,0.687654880605582,-0.7573686369140203,-0.767060008569341,0.3761524311760421,-1.2310076468755171,0.38172559137334733,-0.5000691556159561,-0.9389180140442469,0.5261104850356403,0.34796233874197624,0.2398470578269308,0.7109666751909757,0.7714745787711623,-0.4165683433491187,0.8007258989200343,0.5690523407076482,-0.7156269295653706,-0.5676685627973554,0.08989480310819008,-0.39517707309375344,-2.4793904232029482,-1.1418790496061682,0.9481688675575419,1.2103230861982688,0.49037661087365364,-0.9467451124846425,1.4652646022377351,-0.9966947905746552,0.8646423505119268,-0.5234164522168503,0.5745070723618998,0.37662637766761436,0.8403585615086797,-0.8141834619118143,0.4683182451224356,2.175407493052758,0.8416135507951191,0.2737314541885858,-1.0341030760757435,2.3285132125937933,-1.4526955471556664,-0.7362991086006956,0.5308010277922771,-2.496951711547623,-1.4816693173714053,-0.47514152992830344,-1.067787524132023,-1.849299493595625,0.411798600804226,0.017882484012310858,-1.013606429718986,0.11534686674002335,0.9857076474524862,-1.392950081697627,-0.3356799911436089,-0.6547183295202359,0.18027583391621654,-1.7986798268271602,0.5888788394444834,0.6645313110462417,-0.10297703600366219,-0.3055731585874588,2.461944808787134,0.2531529858435761,-1.4746082305226578,-0.2130088159448042,0.12081323372321831,-1.3611064683199543,-1.4277172578723551,0.1406607830165068,-0.21101075035176922,-1.3225621412111894,-1.3740642570615271,1.1310954549390422,2.040806943855093,-0.23218421027293776,2.0302056467799323,0.8364127991928222,1.1276360176222988,-0.01521520494123884,-2.1163911236163595,-0.13068771641982813,-1.1119350518936335,1.2734665446598235,0.33875914387060263,-0.2284059445729325,2.868676965757158,-0.1419332850825339,0.18883561262311155,0.027930482458906506,-0.7992709462165731,0.4903350290220023,-0.2251999230773703,-0.08245996554811896,-0.010126518898221701,0.8920154043302357,-0.039798984439994634,1.8711534747812053,1.3328623587361217,0.9335304232739029,-0.7105052914494953,0.26907523396682387,-0.5489886276704945,-1.038082548133291,-1.1540142710575134,-0.3015415731908126,0.8919132947815235,0.6401630259316723,-0.9304759690352893,-0.5962798791382355,0.4370208080749726,0.44981922862145246,0.15406287204554492,0.4475919155234391,0.6278700392422734,-0.9716600033116591,-0.6097942953279714,0.9477615930380769,-1.029936562780879,-0.3013048781971476,-1.676376055674741,-0.8596827087060421,-1.5648895213190477,0.7348857201171756,1.2350479860054528,-1.2741209184476239,1.5109431930971504,-0.33289545452333963,0.9109533027934901,1.3645646730288201,0.6426927490471369,0.38321669555978427,0.1265023212896652,-0.4718112852734166,0.265486844183857,1.9698576737518976,1.2963259239326828,-0.5782044751534121,0.7360425499511518,-0.7704557733911448,0.5605167412285549,-0.28239105692972655,-1.7402385598005061,-0.012386056382758642,1.014450000434096,1.0529937782364285,-1.5246441975966225,-0.23297062907388608,-0.0026915582917797867,-1.6162473516773483,-0.3785117652967178,0.9430283691367268,-0.24046859421941938,1.3807267440946829,0.3931609333162483,0.2992578419413955,-0.19898684371000838,1.6193255406694431,-0.5286433613348442,-1.360492545319378,-0.6540715908563491,-0.8417778034190467,0.30451958808071516,0.45791804130985564,-2.104445755956355,1.0676956982347057,-0.29828460814111585,0.9339785108174827,0.6890103319335861,-0.2872446899877203,0.27718524237265646,-0.6724968525298805,0.013880212383749806,-0.3397295931774568,0.2454368737451194,0.10206530456478322,0.171212843426872,-2.328857463571853,-0.6446443550898794,1.6956439972510107,-1.379488704161092,-0.3329610709106606,-0.15932513177067123,1.3983694711476276,1.386993222059151,1.2409458589402889,-1.0597855565859788,-1.8610728688398097,1.3262199434622415,-0.40490400040281116,0.357503266228115,0.1794261399711008,-0.5173796354247269,0.36665145709725766,0.3850364659085,-0.045950714773942254,0.40451586626300373,0.05867148889190861,-0.5291321040829398,-1.175962475411795,-0.09414232346111365,-1.397453972558801,0.34744416458399763,-1.4163095951595082,-0.14111330239215392,0.7223224811715622,1.1956198118529509,-1.605278296758552,1.0637408345376076,-0.3310939039218531,-0.04425357675633962,0.6571967837285411,-0.19504121503032473,-0.8385557922703283,1.5806931475004125,-1.0821224334170092,2.2085735547666054,-0.5080892226261853,1.4710326066859851,-0.38672718320096994,-0.5870893631038071,1.4406371446776751,0.0658289460322932,-1.637577505725748,0.0850857826811838,-0.6017968139044251,-1.189611475591975,0.42600146571048864,-0.14102163962294406,-0.17489878953667448,0.9172879669612751,-1.7504043553553135,-0.14352388677635783,0.42516690922206557,1.359030600914109,2.183986659021184,-0.20498737781953175,-0.25046976556891243,0.21419864815508685,-0.7128874340628437,0.6987542259515119,-0.6278229361256035,-0.7812540613939069,0.1711549600172962,-1.9888866850307458,0.31138137621953926,1.145711460328012,0.11744330634130462,0.3971411856324871,-0.17654030979533786,-1.3841831013560713,-1.1122528373620018,-0.23404392693421908,0.16000908743177095,-0.5115289413257149,1.0308457739969719,0.12372138962213575,0.6542992537121204,-0.7433222013017586,2.174832969331893,-0.2483590921117725,-1.5815142830381306,-1.2371750564403041,0.5037576215655013,-0.6797679372460435,-1.647166974889663,0.6779578537139865,1.221348387691359,-0.3397651445816658,-1.067504575436247,0.8532439358101618,-0.10774214702242577,-0.5682269428590404,-0.8024480048660091,-0.16422389024075473,-1.8644324706166122,-0.805914552312456,0.5331419632858162,1.1660689565762081,1.870397129989982,-1.120486627409109,1.2699013316548133,1.3411865289391243,1.2162330984821066,0.6331673478486424,-0.9016994279949041,-1.314619162956653,-0.4641454167950741,-1.7431441348817698,0.0952815490596562,-1.9575952848924474,-0.4213289331151305,-0.735147895724978,1.829976054698275,-0.272499792989914,0.6280921774732349,0.007223316460987798,0.2723744589741269,1.2359627480647317,0.6062383320511561,0.4646304065107603,0.4681014788775995,2.1375395859460022,-0.8919077819585008,1.618674756906599,1.1217924798755157,1.8594834636035473,-0.5911169839186179,0.3508266146638833,0.4777364115570032,-2.13247281926113,0.16225872928751078,-0.8878794871366018,-0.8807020688250474,-0.8841449047146079,-2.1286207399793553,-0.6615372543347015,1.637061111675578,-1.8547356464264009,-0.21154604642309896,0.10937807835387421,-1.0480975349412636,0.45140629200987314,0.2567246896776385,0.18866671252611608,-0.4724232989314975,1.128206615130747,0.8895633433338338,1.670952658186785,-0.11976649561326744,0.5889721271834093,1.3083485891916418,0.4173878559786859,0.871659008383326,-0.3772246290457121,-0.5596414835221736,-0.4868584971597802,-0.6902121983960299,-0.5754335489469699,0.7779201274553829,1.0997530533010877,1.0875086708215265,0.44696714537856963,-0.20002991743306242,0.030989762580177063,-0.5174393249962942,0.08234640757127853,0.10554015936624493,0.2470751661906635,-1.4693909949372297,0.6682050923258732,-0.10050964776724453,1.2096892481186172,0.6703639547681941,1.8260389198333047,-0.5753509109154326,0.6218922674964259,0.3552719471381613,-0.2666379688466716,1.796264521896484,0.9610471288000828,0.03991058609731353,1.5959921221424958,1.2948017707708104,0.08981719361473088,-1.8692700957216264,0.32256591885347574,0.3053687706295863,0.23003709885422347,-2.0803301056977093,-1.1971958803109681,-0.4056083954208708,1.4083461298411344,0.5626427344323073,0.36976563432859966,-0.6193072880756244,1.5234813020371258,-0.9232923980902441,-0.04140679220994935,-0.5156560797132986,1.7509692557908354,1.1343648005811273,-1.0906342368140276,0.4747695289480105,-0.0552076219688708,-0.2955991590681883,0.11826746924249414,1.0530600434641864,0.7778277722641845,-0.9140082908907131,-1.9019246826175886,0.44229218895467187,0.8653634741454358,-1.5399624383150852,0.4154670745467742,0.1991618513512085,1.542753413862305,0.7610949323247227,1.0113389099136345,1.2647600442877724,0.224021161297338,-0.16548904098378078,-0.09271752281323044,-0.3143513029547818,1.5152938058638425,0.13092419073768574,-0.6167318985138714,0.6127688216161273,-1.8590494973485312,-1.0744581496414154,-0.8413361852173115,-0.24158607131020465,1.2522041063174165,0.672843732924182,-0.15602032810473757,0.8991914670663174,1.3642156123796285,1.0645993911660183,0.4612643687971859,-1.8608527297774888,-0.5652391159295643,-0.38222764974890766,-1.9856602194017996,1.6550236414621948,-1.2662516584501886,-0.6476447332198549,-0.10894253217804607,-0.43091391689421626,1.9305793129453415,0.3312111705215736,0.015004728509092275,-1.3829233230156324,0.3551556054434705,-0.8973510177224426,-0.4574748726976837,-1.5760041022580855,0.6925110110788445,1.8734470738904203,-2.0047761009588823,0.6428323282119056,0.9295010438559339,-2.5369178381059174,-0.7994001022703329,-1.6053704227454049,-0.6899023513707542,1.170174798383149,0.40458705040691784,1.2406402241631156,-1.152893683004565,-0.5233568851188469,1.0471312742795331,-0.4285943534189221,0.376252914463905,-0.7972455441968629,-1.3982504870006813,-0.3023396736234556,1.7230916664594742,-0.709854716172715,0.017322980379500166,0.14095982334713858,0.2710142899643893,-0.006666481245615771,-0.27906302651468257,1.3690274006767613,0.17958885571362745,-0.016018661131131543,-0.15269019633898973,1.9617895697690257,0.4366405158384778,-2.3456100182634487,-0.8925732114440829,-0.04121952383373271,-0.27261416086336226,1.0995419257894552,-1.149500775891029,-0.07078785452492037,1.4828301069623404,0.4465753413397488,0.4696462052234991,-0.36003295775490196,-0.8018628768268282,-0.35918735336277974,-0.6485037669286412,0.47101144345529483,-1.6049783537145657,1.4340007427511166,-0.29201450422383424,0.4708851211346007,-0.2553525590011264,-1.6194158262952192,-0.18709526300045692,0.021495485920529096,-0.1480829890946675,-1.0386035852472586,1.8435833712523106,0.5769767029526771,-1.283755589561572,-0.1530905221965333,-0.9385177334903226,-1.5099857877898466,-0.3952479318650968,1.0924297758271837,-0.385240897966663,1.877120763664921,0.5031117226197567,-0.9883330261703481,-0.3168319126979658,0.47422174009232315,-0.17056333658158823,0.03505840151754062,-1.7059875204346437,-0.7958132297548007,-0.3236344414238726,-0.19686562076963046,-1.496287082449964,-0.6048628826039495,-0.06959305839067581,-1.4335902239257354,-1.2477995639611947,-0.4298539982489593,-0.1124801825995751,0.01461537325364002,-0.44394105649960025,-0.5829531419686005,0.2468662192442922,2.3971963856489373,-1.4344200323891194,-0.31082793110292556,-2.8832192406637835,0.6163871400971045,0.4711385283096374,0.07885427915817954,1.1710727775313696,1.0222691756455922,-0.18015389547545171,0.984431093346948,-1.8022124070945302,-0.8726848137718941,0.21668657007223657,-0.7784252369381166,1.8068826376959362,-0.8005947316684102,1.1750413815219727,-1.1419592217263252,-0.5979055478051476,-0.431928948636888,1.0474637408517937,-0.6892721718238246,0.22526371539396461,-0.37290675608711904,-0.8122592658324824,1.1744280175638988,0.27370133929138163,0.01612188436270478,-0.990951958484222,0.5632896930819339,-0.6029838749752731,-0.24374793285279928,0.30784353997038316,-0.11474409936218796,-0.11785504666059773,-1.2073339526492273,0.8608495600474442,-1.0358017211009463,2.062384152280049,-0.7430948474419952,0.5433181340453869,0.9185750017025114,0.11373664066703523,0.5023412865557405,0.053784759055461207,-1.8639997940078643,0.6498318445672557,1.1488430207146565,0.4623943224871908,-0.2616702147457908,-0.4735023838037675,-0.03787410358457946,-0.11306921234566539,-0.2881644342749361,-0.7837985340933229,0.8769429646801732,-0.17869034162562974,1.1913176746086611,-0.2829450014935516,1.2289608857864234,0.2929135097668999,-0.42015329003405477,-0.40915282923132895,1.4862387171659575,0.4518762539690467,0.4677596448093591,-0.8024107538808626,0.22926851696825926,-0.8318948906546397,0.7761016726242335,-0.8901415076465807,1.5434782211038236,-0.17084331267581263,-1.2347343772138595,0.6125237772518332,1.3450254639348762,0.012617374181762495,-0.1401157836944715,-0.748718050582473,-0.06529743818851395,0.8404347246238385,0.33046455170257366,0.9372786148446496,1.0033048954720243,-0.6429698116480157,1.7148127209147483,-0.740129589191819,-0.9634413166420078,0.18541175632805762,-1.9861687786550637,-1.5369138116318026,0.03878276267114417,-1.6178992485805468,1.097690503544817,-0.09511404377931396,-0.806453565249253,0.09515685536375129,-0.41954749832378124,0.8894475377939094,0.6694254983319637,0.5726138792912664,0.3978002496576517,0.4523953968201165,0.24432355503264663,-0.3772702027051068],\"type\":\"box\"}],                        {\"template\":{\"data\":{\"barpolar\":[{\"marker\":{\"line\":{\"color\":\"white\",\"width\":0.5},\"pattern\":{\"fillmode\":\"overlay\",\"size\":10,\"solidity\":0.2}},\"type\":\"barpolar\"}],\"bar\":[{\"error_x\":{\"color\":\"rgb(36,36,36)\"},\"error_y\":{\"color\":\"rgb(36,36,36)\"},\"marker\":{\"line\":{\"color\":\"white\",\"width\":0.5},\"pattern\":{\"fillmode\":\"overlay\",\"size\":10,\"solidity\":0.2}},\"type\":\"bar\"}],\"carpet\":[{\"aaxis\":{\"endlinecolor\":\"rgb(36,36,36)\",\"gridcolor\":\"white\",\"linecolor\":\"white\",\"minorgridcolor\":\"white\",\"startlinecolor\":\"rgb(36,36,36)\"},\"baxis\":{\"endlinecolor\":\"rgb(36,36,36)\",\"gridcolor\":\"white\",\"linecolor\":\"white\",\"minorgridcolor\":\"white\",\"startlinecolor\":\"rgb(36,36,36)\"},\"type\":\"carpet\"}],\"choropleth\":[{\"colorbar\":{\"outlinewidth\":1,\"tickcolor\":\"rgb(36,36,36)\",\"ticks\":\"outside\"},\"type\":\"choropleth\"}],\"contourcarpet\":[{\"colorbar\":{\"outlinewidth\":1,\"tickcolor\":\"rgb(36,36,36)\",\"ticks\":\"outside\"},\"type\":\"contourcarpet\"}],\"contour\":[{\"colorbar\":{\"outlinewidth\":1,\"tickcolor\":\"rgb(36,36,36)\",\"ticks\":\"outside\"},\"colorscale\":[[0.0,\"#440154\"],[0.1111111111111111,\"#482878\"],[0.2222222222222222,\"#3e4989\"],[0.3333333333333333,\"#31688e\"],[0.4444444444444444,\"#26828e\"],[0.5555555555555556,\"#1f9e89\"],[0.6666666666666666,\"#35b779\"],[0.7777777777777778,\"#6ece58\"],[0.8888888888888888,\"#b5de2b\"],[1.0,\"#fde725\"]],\"type\":\"contour\"}],\"heatmapgl\":[{\"colorbar\":{\"outlinewidth\":1,\"tickcolor\":\"rgb(36,36,36)\",\"ticks\":\"outside\"},\"colorscale\":[[0.0,\"#440154\"],[0.1111111111111111,\"#482878\"],[0.2222222222222222,\"#3e4989\"],[0.3333333333333333,\"#31688e\"],[0.4444444444444444,\"#26828e\"],[0.5555555555555556,\"#1f9e89\"],[0.6666666666666666,\"#35b779\"],[0.7777777777777778,\"#6ece58\"],[0.8888888888888888,\"#b5de2b\"],[1.0,\"#fde725\"]],\"type\":\"heatmapgl\"}],\"heatmap\":[{\"colorbar\":{\"outlinewidth\":1,\"tickcolor\":\"rgb(36,36,36)\",\"ticks\":\"outside\"},\"colorscale\":[[0.0,\"#440154\"],[0.1111111111111111,\"#482878\"],[0.2222222222222222,\"#3e4989\"],[0.3333333333333333,\"#31688e\"],[0.4444444444444444,\"#26828e\"],[0.5555555555555556,\"#1f9e89\"],[0.6666666666666666,\"#35b779\"],[0.7777777777777778,\"#6ece58\"],[0.8888888888888888,\"#b5de2b\"],[1.0,\"#fde725\"]],\"type\":\"heatmap\"}],\"histogram2dcontour\":[{\"colorbar\":{\"outlinewidth\":1,\"tickcolor\":\"rgb(36,36,36)\",\"ticks\":\"outside\"},\"colorscale\":[[0.0,\"#440154\"],[0.1111111111111111,\"#482878\"],[0.2222222222222222,\"#3e4989\"],[0.3333333333333333,\"#31688e\"],[0.4444444444444444,\"#26828e\"],[0.5555555555555556,\"#1f9e89\"],[0.6666666666666666,\"#35b779\"],[0.7777777777777778,\"#6ece58\"],[0.8888888888888888,\"#b5de2b\"],[1.0,\"#fde725\"]],\"type\":\"histogram2dcontour\"}],\"histogram2d\":[{\"colorbar\":{\"outlinewidth\":1,\"tickcolor\":\"rgb(36,36,36)\",\"ticks\":\"outside\"},\"colorscale\":[[0.0,\"#440154\"],[0.1111111111111111,\"#482878\"],[0.2222222222222222,\"#3e4989\"],[0.3333333333333333,\"#31688e\"],[0.4444444444444444,\"#26828e\"],[0.5555555555555556,\"#1f9e89\"],[0.6666666666666666,\"#35b779\"],[0.7777777777777778,\"#6ece58\"],[0.8888888888888888,\"#b5de2b\"],[1.0,\"#fde725\"]],\"type\":\"histogram2d\"}],\"histogram\":[{\"marker\":{\"line\":{\"color\":\"white\",\"width\":0.6}},\"type\":\"histogram\"}],\"mesh3d\":[{\"colorbar\":{\"outlinewidth\":1,\"tickcolor\":\"rgb(36,36,36)\",\"ticks\":\"outside\"},\"type\":\"mesh3d\"}],\"parcoords\":[{\"line\":{\"colorbar\":{\"outlinewidth\":1,\"tickcolor\":\"rgb(36,36,36)\",\"ticks\":\"outside\"}},\"type\":\"parcoords\"}],\"pie\":[{\"automargin\":true,\"type\":\"pie\"}],\"scatter3d\":[{\"line\":{\"colorbar\":{\"outlinewidth\":1,\"tickcolor\":\"rgb(36,36,36)\",\"ticks\":\"outside\"}},\"marker\":{\"colorbar\":{\"outlinewidth\":1,\"tickcolor\":\"rgb(36,36,36)\",\"ticks\":\"outside\"}},\"type\":\"scatter3d\"}],\"scattercarpet\":[{\"marker\":{\"colorbar\":{\"outlinewidth\":1,\"tickcolor\":\"rgb(36,36,36)\",\"ticks\":\"outside\"}},\"type\":\"scattercarpet\"}],\"scattergeo\":[{\"marker\":{\"colorbar\":{\"outlinewidth\":1,\"tickcolor\":\"rgb(36,36,36)\",\"ticks\":\"outside\"}},\"type\":\"scattergeo\"}],\"scattergl\":[{\"marker\":{\"colorbar\":{\"outlinewidth\":1,\"tickcolor\":\"rgb(36,36,36)\",\"ticks\":\"outside\"}},\"type\":\"scattergl\"}],\"scattermapbox\":[{\"marker\":{\"colorbar\":{\"outlinewidth\":1,\"tickcolor\":\"rgb(36,36,36)\",\"ticks\":\"outside\"}},\"type\":\"scattermapbox\"}],\"scatterpolargl\":[{\"marker\":{\"colorbar\":{\"outlinewidth\":1,\"tickcolor\":\"rgb(36,36,36)\",\"ticks\":\"outside\"}},\"type\":\"scatterpolargl\"}],\"scatterpolar\":[{\"marker\":{\"colorbar\":{\"outlinewidth\":1,\"tickcolor\":\"rgb(36,36,36)\",\"ticks\":\"outside\"}},\"type\":\"scatterpolar\"}],\"scatter\":[{\"marker\":{\"colorbar\":{\"outlinewidth\":1,\"tickcolor\":\"rgb(36,36,36)\",\"ticks\":\"outside\"}},\"type\":\"scatter\"}],\"scatterternary\":[{\"marker\":{\"colorbar\":{\"outlinewidth\":1,\"tickcolor\":\"rgb(36,36,36)\",\"ticks\":\"outside\"}},\"type\":\"scatterternary\"}],\"surface\":[{\"colorbar\":{\"outlinewidth\":1,\"tickcolor\":\"rgb(36,36,36)\",\"ticks\":\"outside\"},\"colorscale\":[[0.0,\"#440154\"],[0.1111111111111111,\"#482878\"],[0.2222222222222222,\"#3e4989\"],[0.3333333333333333,\"#31688e\"],[0.4444444444444444,\"#26828e\"],[0.5555555555555556,\"#1f9e89\"],[0.6666666666666666,\"#35b779\"],[0.7777777777777778,\"#6ece58\"],[0.8888888888888888,\"#b5de2b\"],[1.0,\"#fde725\"]],\"type\":\"surface\"}],\"table\":[{\"cells\":{\"fill\":{\"color\":\"rgb(237,237,237)\"},\"line\":{\"color\":\"white\"}},\"header\":{\"fill\":{\"color\":\"rgb(217,217,217)\"},\"line\":{\"color\":\"white\"}},\"type\":\"table\"}]},\"layout\":{\"annotationdefaults\":{\"arrowhead\":0,\"arrowwidth\":1},\"autotypenumbers\":\"strict\",\"coloraxis\":{\"colorbar\":{\"outlinewidth\":1,\"tickcolor\":\"rgb(36,36,36)\",\"ticks\":\"outside\"}},\"colorscale\":{\"diverging\":[[0.0,\"rgb(103,0,31)\"],[0.1,\"rgb(178,24,43)\"],[0.2,\"rgb(214,96,77)\"],[0.3,\"rgb(244,165,130)\"],[0.4,\"rgb(253,219,199)\"],[0.5,\"rgb(247,247,247)\"],[0.6,\"rgb(209,229,240)\"],[0.7,\"rgb(146,197,222)\"],[0.8,\"rgb(67,147,195)\"],[0.9,\"rgb(33,102,172)\"],[1.0,\"rgb(5,48,97)\"]],\"sequential\":[[0.0,\"#440154\"],[0.1111111111111111,\"#482878\"],[0.2222222222222222,\"#3e4989\"],[0.3333333333333333,\"#31688e\"],[0.4444444444444444,\"#26828e\"],[0.5555555555555556,\"#1f9e89\"],[0.6666666666666666,\"#35b779\"],[0.7777777777777778,\"#6ece58\"],[0.8888888888888888,\"#b5de2b\"],[1.0,\"#fde725\"]],\"sequentialminus\":[[0.0,\"#440154\"],[0.1111111111111111,\"#482878\"],[0.2222222222222222,\"#3e4989\"],[0.3333333333333333,\"#31688e\"],[0.4444444444444444,\"#26828e\"],[0.5555555555555556,\"#1f9e89\"],[0.6666666666666666,\"#35b779\"],[0.7777777777777778,\"#6ece58\"],[0.8888888888888888,\"#b5de2b\"],[1.0,\"#fde725\"]]},\"colorway\":[\"#1F77B4\",\"#FF7F0E\",\"#2CA02C\",\"#D62728\",\"#9467BD\",\"#8C564B\",\"#E377C2\",\"#7F7F7F\",\"#BCBD22\",\"#17BECF\"],\"font\":{\"color\":\"rgb(36,36,36)\"},\"geo\":{\"bgcolor\":\"white\",\"lakecolor\":\"white\",\"landcolor\":\"white\",\"showlakes\":true,\"showland\":true,\"subunitcolor\":\"white\"},\"hoverlabel\":{\"align\":\"left\"},\"hovermode\":\"closest\",\"mapbox\":{\"style\":\"light\"},\"paper_bgcolor\":\"white\",\"plot_bgcolor\":\"white\",\"polar\":{\"angularaxis\":{\"gridcolor\":\"rgb(232,232,232)\",\"linecolor\":\"rgb(36,36,36)\",\"showgrid\":false,\"showline\":true,\"ticks\":\"outside\"},\"bgcolor\":\"white\",\"radialaxis\":{\"gridcolor\":\"rgb(232,232,232)\",\"linecolor\":\"rgb(36,36,36)\",\"showgrid\":false,\"showline\":true,\"ticks\":\"outside\"}},\"scene\":{\"xaxis\":{\"backgroundcolor\":\"white\",\"gridcolor\":\"rgb(232,232,232)\",\"gridwidth\":2,\"linecolor\":\"rgb(36,36,36)\",\"showbackground\":true,\"showgrid\":false,\"showline\":true,\"ticks\":\"outside\",\"zeroline\":false,\"zerolinecolor\":\"rgb(36,36,36)\"},\"yaxis\":{\"backgroundcolor\":\"white\",\"gridcolor\":\"rgb(232,232,232)\",\"gridwidth\":2,\"linecolor\":\"rgb(36,36,36)\",\"showbackground\":true,\"showgrid\":false,\"showline\":true,\"ticks\":\"outside\",\"zeroline\":false,\"zerolinecolor\":\"rgb(36,36,36)\"},\"zaxis\":{\"backgroundcolor\":\"white\",\"gridcolor\":\"rgb(232,232,232)\",\"gridwidth\":2,\"linecolor\":\"rgb(36,36,36)\",\"showbackground\":true,\"showgrid\":false,\"showline\":true,\"ticks\":\"outside\",\"zeroline\":false,\"zerolinecolor\":\"rgb(36,36,36)\"}},\"shapedefaults\":{\"fillcolor\":\"black\",\"line\":{\"width\":0},\"opacity\":0.3},\"ternary\":{\"aaxis\":{\"gridcolor\":\"rgb(232,232,232)\",\"linecolor\":\"rgb(36,36,36)\",\"showgrid\":false,\"showline\":true,\"ticks\":\"outside\"},\"baxis\":{\"gridcolor\":\"rgb(232,232,232)\",\"linecolor\":\"rgb(36,36,36)\",\"showgrid\":false,\"showline\":true,\"ticks\":\"outside\"},\"bgcolor\":\"white\",\"caxis\":{\"gridcolor\":\"rgb(232,232,232)\",\"linecolor\":\"rgb(36,36,36)\",\"showgrid\":false,\"showline\":true,\"ticks\":\"outside\"}},\"title\":{\"x\":0.05},\"xaxis\":{\"automargin\":true,\"gridcolor\":\"rgb(232,232,232)\",\"linecolor\":\"rgb(36,36,36)\",\"showgrid\":false,\"showline\":true,\"ticks\":\"outside\",\"title\":{\"standoff\":15},\"zeroline\":false,\"zerolinecolor\":\"rgb(36,36,36)\"},\"yaxis\":{\"automargin\":true,\"gridcolor\":\"rgb(232,232,232)\",\"linecolor\":\"rgb(36,36,36)\",\"showgrid\":false,\"showline\":true,\"ticks\":\"outside\",\"title\":{\"standoff\":15},\"zeroline\":false,\"zerolinecolor\":\"rgb(36,36,36)\"}}},\"margin\":{\"l\":20,\"r\":20,\"t\":20,\"b\":20},\"width\":400,\"height\":400,\"paper_bgcolor\":\"#f7f8fa\",\"showlegend\":false},                        {\"responsive\": true}                    ).then(function(){\n",
              "                            \n",
              "var gd = document.getElementById('edf9216d-0b48-4fc3-a0a8-d935283f5a09');\n",
              "var x = new MutationObserver(function (mutations, observer) {{\n",
              "        var display = window.getComputedStyle(gd).display;\n",
              "        if (!display || display === 'none') {{\n",
              "            console.log([gd, 'removed!']);\n",
              "            Plotly.purge(gd);\n",
              "            observer.disconnect();\n",
              "        }}\n",
              "}});\n",
              "\n",
              "// Listen for the removal of the full notebook cells\n",
              "var notebookContainer = gd.closest('#notebook-container');\n",
              "if (notebookContainer) {{\n",
              "    x.observe(notebookContainer, {childList: true});\n",
              "}}\n",
              "\n",
              "// Listen for the clearing of the current output cell\n",
              "var outputEl = gd.closest('.output');\n",
              "if (outputEl) {{\n",
              "    x.observe(outputEl, {childList: true});\n",
              "}}\n",
              "\n",
              "                        })                };                            </script>        </div>\n",
              "</body>\n",
              "</html>"
            ]
          },
          "metadata": {}
        }
      ]
    },
    {
      "cell_type": "code",
      "source": [
        "# Diferentes formas de imprimir os resultados\n",
        "print(np.quantile(normal_dist, 0.25)) #-> Dividindo em 4 partes, 0.25 é o equivalente a 1/4\n",
        "print(np.percentile(normal_dist, 25)) #-> Dividindo em 100 partes, 25 é o equivalente a 1/4 ou 25%"
      ],
      "metadata": {
        "colab": {
          "base_uri": "https://localhost:8080/"
        },
        "id": "Tgul2eRq6zOZ",
        "outputId": "0de3ec6e-e856-4517-8087-0a1bb7e182b4"
      },
      "execution_count": null,
      "outputs": [
        {
          "output_type": "stream",
          "name": "stdout",
          "text": [
            "-0.6864442053991393\n",
            "-0.6864442053991393\n"
          ]
        }
      ]
    },
    {
      "cell_type": "code",
      "source": [
        "print(np.quantile(normal_dist, 0.5)) #-> Dividindo em 4 partes, 0.25 é o equivalente a 1/4\n",
        "print(np.percentile(normal_dist, 50)) #-> Dividindo em 100 partes, 25 é o equivalente a 1/4 ou 25%"
      ],
      "metadata": {
        "colab": {
          "base_uri": "https://localhost:8080/"
        },
        "id": "0b3m7KtF-9ha",
        "outputId": "79e19098-53eb-4f3a-f523-cde9ad6a6e43"
      },
      "execution_count": null,
      "outputs": [
        {
          "output_type": "stream",
          "name": "stdout",
          "text": [
            "-0.04510214576514093\n",
            "-0.04510214576514093\n"
          ]
        }
      ]
    },
    {
      "cell_type": "markdown",
      "source": [
        "A bilbioteca Pandas tem um método chamado `describe()` que também nos retorna essas informações."
      ],
      "metadata": {
        "id": "9B6VvjX1_fsb"
      }
    },
    {
      "cell_type": "code",
      "source": [
        "df_normal_dist = pd.DataFrame(normal_dist)\n",
        "df_normal_dist.describe()"
      ],
      "metadata": {
        "colab": {
          "base_uri": "https://localhost:8080/",
          "height": 300
        },
        "id": "5bManQzr_U_O",
        "outputId": "a32860fd-67c9-46c2-8f6c-17b01731acef"
      },
      "execution_count": null,
      "outputs": [
        {
          "output_type": "execute_result",
          "data": {
            "text/plain": [
              "                 0\n",
              "count  1000.000000\n",
              "mean     -0.036911\n",
              "std       0.997069\n",
              "min      -3.622894\n",
              "25%      -0.686444\n",
              "50%      -0.045102\n",
              "75%       0.612585\n",
              "max       3.197733"
            ],
            "text/html": [
              "\n",
              "  <div id=\"df-4a8bd0c1-e266-4db6-976b-3026b91a0589\">\n",
              "    <div class=\"colab-df-container\">\n",
              "      <div>\n",
              "<style scoped>\n",
              "    .dataframe tbody tr th:only-of-type {\n",
              "        vertical-align: middle;\n",
              "    }\n",
              "\n",
              "    .dataframe tbody tr th {\n",
              "        vertical-align: top;\n",
              "    }\n",
              "\n",
              "    .dataframe thead th {\n",
              "        text-align: right;\n",
              "    }\n",
              "</style>\n",
              "<table border=\"1\" class=\"dataframe\">\n",
              "  <thead>\n",
              "    <tr style=\"text-align: right;\">\n",
              "      <th></th>\n",
              "      <th>0</th>\n",
              "    </tr>\n",
              "  </thead>\n",
              "  <tbody>\n",
              "    <tr>\n",
              "      <th>count</th>\n",
              "      <td>1000.000000</td>\n",
              "    </tr>\n",
              "    <tr>\n",
              "      <th>mean</th>\n",
              "      <td>-0.036911</td>\n",
              "    </tr>\n",
              "    <tr>\n",
              "      <th>std</th>\n",
              "      <td>0.997069</td>\n",
              "    </tr>\n",
              "    <tr>\n",
              "      <th>min</th>\n",
              "      <td>-3.622894</td>\n",
              "    </tr>\n",
              "    <tr>\n",
              "      <th>25%</th>\n",
              "      <td>-0.686444</td>\n",
              "    </tr>\n",
              "    <tr>\n",
              "      <th>50%</th>\n",
              "      <td>-0.045102</td>\n",
              "    </tr>\n",
              "    <tr>\n",
              "      <th>75%</th>\n",
              "      <td>0.612585</td>\n",
              "    </tr>\n",
              "    <tr>\n",
              "      <th>max</th>\n",
              "      <td>3.197733</td>\n",
              "    </tr>\n",
              "  </tbody>\n",
              "</table>\n",
              "</div>\n",
              "      <button class=\"colab-df-convert\" onclick=\"convertToInteractive('df-4a8bd0c1-e266-4db6-976b-3026b91a0589')\"\n",
              "              title=\"Convert this dataframe to an interactive table.\"\n",
              "              style=\"display:none;\">\n",
              "        \n",
              "  <svg xmlns=\"http://www.w3.org/2000/svg\" height=\"24px\"viewBox=\"0 0 24 24\"\n",
              "       width=\"24px\">\n",
              "    <path d=\"M0 0h24v24H0V0z\" fill=\"none\"/>\n",
              "    <path d=\"M18.56 5.44l.94 2.06.94-2.06 2.06-.94-2.06-.94-.94-2.06-.94 2.06-2.06.94zm-11 1L8.5 8.5l.94-2.06 2.06-.94-2.06-.94L8.5 2.5l-.94 2.06-2.06.94zm10 10l.94 2.06.94-2.06 2.06-.94-2.06-.94-.94-2.06-.94 2.06-2.06.94z\"/><path d=\"M17.41 7.96l-1.37-1.37c-.4-.4-.92-.59-1.43-.59-.52 0-1.04.2-1.43.59L10.3 9.45l-7.72 7.72c-.78.78-.78 2.05 0 2.83L4 21.41c.39.39.9.59 1.41.59.51 0 1.02-.2 1.41-.59l7.78-7.78 2.81-2.81c.8-.78.8-2.07 0-2.86zM5.41 20L4 18.59l7.72-7.72 1.47 1.35L5.41 20z\"/>\n",
              "  </svg>\n",
              "      </button>\n",
              "      \n",
              "  <style>\n",
              "    .colab-df-container {\n",
              "      display:flex;\n",
              "      flex-wrap:wrap;\n",
              "      gap: 12px;\n",
              "    }\n",
              "\n",
              "    .colab-df-convert {\n",
              "      background-color: #E8F0FE;\n",
              "      border: none;\n",
              "      border-radius: 50%;\n",
              "      cursor: pointer;\n",
              "      display: none;\n",
              "      fill: #1967D2;\n",
              "      height: 32px;\n",
              "      padding: 0 0 0 0;\n",
              "      width: 32px;\n",
              "    }\n",
              "\n",
              "    .colab-df-convert:hover {\n",
              "      background-color: #E2EBFA;\n",
              "      box-shadow: 0px 1px 2px rgba(60, 64, 67, 0.3), 0px 1px 3px 1px rgba(60, 64, 67, 0.15);\n",
              "      fill: #174EA6;\n",
              "    }\n",
              "\n",
              "    [theme=dark] .colab-df-convert {\n",
              "      background-color: #3B4455;\n",
              "      fill: #D2E3FC;\n",
              "    }\n",
              "\n",
              "    [theme=dark] .colab-df-convert:hover {\n",
              "      background-color: #434B5C;\n",
              "      box-shadow: 0px 1px 3px 1px rgba(0, 0, 0, 0.15);\n",
              "      filter: drop-shadow(0px 1px 2px rgba(0, 0, 0, 0.3));\n",
              "      fill: #FFFFFF;\n",
              "    }\n",
              "  </style>\n",
              "\n",
              "      <script>\n",
              "        const buttonEl =\n",
              "          document.querySelector('#df-4a8bd0c1-e266-4db6-976b-3026b91a0589 button.colab-df-convert');\n",
              "        buttonEl.style.display =\n",
              "          google.colab.kernel.accessAllowed ? 'block' : 'none';\n",
              "\n",
              "        async function convertToInteractive(key) {\n",
              "          const element = document.querySelector('#df-4a8bd0c1-e266-4db6-976b-3026b91a0589');\n",
              "          const dataTable =\n",
              "            await google.colab.kernel.invokeFunction('convertToInteractive',\n",
              "                                                     [key], {});\n",
              "          if (!dataTable) return;\n",
              "\n",
              "          const docLinkHtml = 'Like what you see? Visit the ' +\n",
              "            '<a target=\"_blank\" href=https://colab.research.google.com/notebooks/data_table.ipynb>data table notebook</a>'\n",
              "            + ' to learn more about interactive tables.';\n",
              "          element.innerHTML = '';\n",
              "          dataTable['output_type'] = 'display_data';\n",
              "          await google.colab.output.renderOutput(dataTable, element);\n",
              "          const docLink = document.createElement('div');\n",
              "          docLink.innerHTML = docLinkHtml;\n",
              "          element.appendChild(docLink);\n",
              "        }\n",
              "      </script>\n",
              "    </div>\n",
              "  </div>\n",
              "  "
            ]
          },
          "metadata": {},
          "execution_count": 86
        }
      ]
    },
    {
      "cell_type": "markdown",
      "source": [
        "####Skewness -> Assimetria\n",
        "\n",
        "<img src=\"https://www.biologyforlife.com/uploads/2/2/3/9/22392738/c101b0da6ea1a0dab31f80d9963b0368_orig.png\" width=\"800\" align=\"left\"/>"
      ],
      "metadata": {
        "id": "zRtfjywhAQS7"
      }
    },
    {
      "cell_type": "code",
      "source": [
        "stats.skew(normal_dist)"
      ],
      "metadata": {
        "colab": {
          "base_uri": "https://localhost:8080/"
        },
        "id": "fY_40Xmn_vLW",
        "outputId": "9a263fce-1273-4260-e643-70b96604c2bb"
      },
      "execution_count": null,
      "outputs": [
        {
          "output_type": "execute_result",
          "data": {
            "text/plain": [
              "-0.05945735438694208"
            ]
          },
          "metadata": {},
          "execution_count": 87
        }
      ]
    },
    {
      "cell_type": "markdown",
      "source": [
        "Para o mercado financeiro, é interessante obter uma assimetria negativa para retornos diários, pois nos garante maior quantidade de retornos positivos. A média dos retornos encontra-se proximo de zero, porem a moda encontra-se cada vez mais a direita do gráfico."
      ],
      "metadata": {
        "id": "Gon4_Pr6Arz7"
      }
    },
    {
      "cell_type": "markdown",
      "source": [
        "### **Medidas de dispersão (amplitude, desvios padrão e médio, coeficiente de variação e intervalo de confiança)**\n",
        "\n",
        "<img src=\"https://i0.wp.com/alvarezsolucoesdigitais.com/wp-content/uploads/2020/02/Estat%C3%ADstica-B%C3%A1sica-Que-Voc%C3%AA-PRECISA-Saber-Para-A-Ci%C3%AAncia-De-Dados-08.png?resize=1024%2C550&ssl=1\" width=\"500\" align=\"center\"/>\n",
        "\n",
        "\n",
        "Em roxo e rosa, encontram-se 95 dos valores, ou seja, 95% de probabilidade dos valore estarem ali concentrados."
      ],
      "metadata": {
        "id": "_GkQm0RUB1Ix"
      }
    },
    {
      "cell_type": "markdown",
      "source": [
        "####Amplitude\n",
        "\n",
        "\n"
      ],
      "metadata": {
        "id": "dh6cLRzVDNK5"
      }
    },
    {
      "cell_type": "code",
      "source": [
        "#Amplitude para alvos/stops\n",
        "amplitude = normal_dist.max() - normal_dist.min()\n",
        "amplitude"
      ],
      "metadata": {
        "colab": {
          "base_uri": "https://localhost:8080/"
        },
        "id": "z0_brHs0AnUZ",
        "outputId": "7291c05a-be6f-452f-92e8-2a0c1fea2c87"
      },
      "execution_count": null,
      "outputs": [
        {
          "output_type": "execute_result",
          "data": {
            "text/plain": [
              "6.820626659666576"
            ]
          },
          "metadata": {},
          "execution_count": 88
        }
      ]
    },
    {
      "cell_type": "markdown",
      "source": [
        "#### Desvio Padrão -> Standard Deviation\n",
        "\n",
        "O desvio padrão é extremamente importante pois nos mostra a volatilidade do ativo, é uma medida que nos mostra como os dados estão dispersos ao redor da média. Dessa forma, quando é calculado o desvio padrão com a média de diferentes grupos, obtem-se mais informações para avaliar e diferenciar seus comportamentos.\n",
        "\n",
        "* Bandas de Bollinger -> Indicador de volatilidade, por padrão, uma média de 20, com dois desvios padrão acima e dois abaixo. "
      ],
      "metadata": {
        "id": "7YYDA3IDDdHF"
      }
    },
    {
      "cell_type": "code",
      "source": [
        "# Desvio padrão do conjunto de dados\n",
        "# Sharpe Raio, bandas de bollinger são baseados em desvio padrão.\n",
        "\n",
        "desvio_padrao = np.std(normal_dist, ddof=True)  #---> DDOF = Degrees of Freedom\n",
        "desvio_padrao"
      ],
      "metadata": {
        "colab": {
          "base_uri": "https://localhost:8080/"
        },
        "id": "SEiqdGtkAhjF",
        "outputId": "cc09f896-9eb4-45bd-9454-312d967b9b41"
      },
      "execution_count": null,
      "outputs": [
        {
          "output_type": "execute_result",
          "data": {
            "text/plain": [
              "0.9970685670094909"
            ]
          },
          "metadata": {},
          "execution_count": 92
        }
      ]
    },
    {
      "cell_type": "markdown",
      "source": [
        "O desvio padrão depende da magnitude do intervalo de preço, quando se trata de um ativo de `R$5,00` que varia até `R$10,00` teremos um nível de desvio, porém quando se trata do desvio padrão de um preço de imóveis, que podem variar na casa de milhões, teremos uma medida bem maior.\n",
        "\n",
        "Para isso, normalizazmos os valores da seguinte forma:"
      ],
      "metadata": {
        "id": "OEqOyDHwFA50"
      }
    },
    {
      "cell_type": "code",
      "source": [
        "# coeficiente de variação. --> Dividimos o desvio padrão pela média da distribuição\n",
        "# interessante para comparar e avaliar a consistência \n",
        "\n",
        "normal_dist.std(ddof=True)/normal_dist.mean()*100"
      ],
      "metadata": {
        "colab": {
          "base_uri": "https://localhost:8080/"
        },
        "id": "45PYemF7E7f8",
        "outputId": "638ce69d-d15c-45bc-fa87-bfc1a7e9d30e"
      },
      "execution_count": null,
      "outputs": [
        {
          "output_type": "execute_result",
          "data": {
            "text/plain": [
              "-2701.2932864804943"
            ]
          },
          "metadata": {},
          "execution_count": 94
        }
      ]
    },
    {
      "cell_type": "code",
      "source": [
        "# erro padrão da média \n",
        "stats.stats.sem(normal_dist)"
      ],
      "metadata": {
        "colab": {
          "base_uri": "https://localhost:8080/"
        },
        "id": "pQwxCkH7GABW",
        "outputId": "1d90d639-c25e-4a20-b1a8-496ceadcf964"
      },
      "execution_count": null,
      "outputs": [
        {
          "output_type": "stream",
          "name": "stderr",
          "text": [
            "<ipython-input-97-df7946c4ec46>:2: DeprecationWarning:\n",
            "\n",
            "Please use `sem` from the `scipy.stats` namespace, the `scipy.stats.stats` namespace is deprecated.\n",
            "\n"
          ]
        },
        {
          "output_type": "execute_result",
          "data": {
            "text/plain": [
              "0.03153007655110212"
            ]
          },
          "metadata": {},
          "execution_count": 97
        }
      ]
    },
    {
      "cell_type": "code",
      "source": [
        "#intervalo de confiança -> 95% \n",
        "# Probabilidade de 95% da média real estar nesse intervalo\n",
        "\n",
        "IC_95 = stats.t.interval(confidence=0.95, df=len(normal_dist)-1, loc=np.mean(normal_dist), scale=stats.sem(normal_dist))\n",
        "IC_95"
      ],
      "metadata": {
        "colab": {
          "base_uri": "https://localhost:8080/"
        },
        "id": "jv9V3dnmGTkL",
        "outputId": "3f316802-a0e7-4b92-e864-ba60d198393b"
      },
      "execution_count": null,
      "outputs": [
        {
          "output_type": "execute_result",
          "data": {
            "text/plain": [
              "(-0.09878356185236668, 0.024961991125511757)"
            ]
          },
          "metadata": {},
          "execution_count": 100
        }
      ]
    },
    {
      "cell_type": "markdown",
      "source": [
        "###Curtose (Kurtosis)\n",
        " <img src=\"https://www.researchgate.net/profile/Attila-Bonyar/publication/298415862/figure/fig1/AS:340236723867648@1458130164255/Illustration-of-the-skewness-and-kurtosis-values-and-how-they-correlate-with-the-shape-of_W640.jpg\" width=\"600\" align=\"center\"/>"
      ],
      "metadata": {
        "id": "hC_k3BtPHQPg"
      }
    },
    {
      "cell_type": "markdown",
      "source": [
        "Essa métrica nos mostra a magnitude da frequência da média, ou seja, quanto maior o número de dados próximos à média, maior será o valor da Kurtosis."
      ],
      "metadata": {
        "id": "jSepGQNUHYd6"
      }
    },
    {
      "cell_type": "code",
      "source": [
        "stats.kurtosis(normal_dist, fisher=True)"
      ],
      "metadata": {
        "colab": {
          "base_uri": "https://localhost:8080/"
        },
        "id": "FErjoUSVG322",
        "outputId": "9db268f9-b096-488c-c609-b6f607fd98d7"
      },
      "execution_count": null,
      "outputs": [
        {
          "output_type": "execute_result",
          "data": {
            "text/plain": [
              "0.00884836266430522"
            ]
          },
          "metadata": {},
          "execution_count": 101
        }
      ]
    },
    {
      "cell_type": "code",
      "source": [],
      "metadata": {
        "id": "7Ljuyj8JHv87"
      },
      "execution_count": null,
      "outputs": []
    }
  ]
}