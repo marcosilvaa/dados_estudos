{
  "nbformat": 4,
  "nbformat_minor": 0,
  "metadata": {
    "colab": {
      "provenance": [],
      "authorship_tag": "ABX9TyOqF57AnkXfiEnUGpg09h2s",
      "include_colab_link": true
    },
    "kernelspec": {
      "name": "python3",
      "display_name": "Python 3"
    },
    "language_info": {
      "name": "python"
    }
  },
  "cells": [
    {
      "cell_type": "markdown",
      "metadata": {
        "id": "view-in-github",
        "colab_type": "text"
      },
      "source": [
        "<a href=\"https://colab.research.google.com/github/marcosilvaa/dados_estudos/blob/main/Classes_Python.ipynb\" target=\"_parent\"><img src=\"https://colab.research.google.com/assets/colab-badge.svg\" alt=\"Open In Colab\"/></a>"
      ]
    },
    {
      "cell_type": "markdown",
      "source": [
        "Para começar a trabalhar com classes, primeiro é preciso entender o que são funções."
      ],
      "metadata": {
        "id": "snWWiPt9huZ7"
      }
    },
    {
      "cell_type": "code",
      "execution_count": 1,
      "metadata": {
        "id": "mae9hy-Lg825"
      },
      "outputs": [],
      "source": [
        "def teste(v,i):\n",
        "  valor = v\n",
        "  incremento = i\n",
        "  resultado = valor + incremento\n",
        "  return resultado \n"
      ]
    },
    {
      "cell_type": "markdown",
      "source": [
        "A função teste recebe dois argumentos, v = valor, e i = incremento. E nos retorna o resultado da soma desses valores."
      ],
      "metadata": {
        "id": "IvAYGdToh2EO"
      }
    },
    {
      "cell_type": "code",
      "source": [
        "a = teste(10,1)"
      ],
      "metadata": {
        "id": "zYUwa-5JhHD4"
      },
      "execution_count": 2,
      "outputs": []
    },
    {
      "cell_type": "code",
      "source": [
        "a"
      ],
      "metadata": {
        "colab": {
          "base_uri": "https://localhost:8080/"
        },
        "id": "2a0d842FhJB2",
        "outputId": "6f00631e-aae4-49fb-b9f2-7f940e432310"
      },
      "execution_count": 3,
      "outputs": [
        {
          "output_type": "execute_result",
          "data": {
            "text/plain": [
              "11"
            ]
          },
          "metadata": {},
          "execution_count": 3
        }
      ]
    },
    {
      "cell_type": "markdown",
      "source": [
        "A variável `a` foi atribuída à essa função, recebendo os o valor de 10 e o incremento de 1. Ao chamar essa variável, ela imprime o resultado da função."
      ],
      "metadata": {
        "id": "iCOvCzBoiCWv"
      }
    },
    {
      "cell_type": "code",
      "source": [
        "resultado"
      ],
      "metadata": {
        "colab": {
          "base_uri": "https://localhost:8080/",
          "height": 166
        },
        "id": "STfb46gihJQY",
        "outputId": "34caa2b7-fb0d-4b8d-8488-9f98667cb272"
      },
      "execution_count": 7,
      "outputs": [
        {
          "output_type": "error",
          "ename": "NameError",
          "evalue": "ignored",
          "traceback": [
            "\u001b[0;31m---------------------------------------------------------------------------\u001b[0m",
            "\u001b[0;31mNameError\u001b[0m                                 Traceback (most recent call last)",
            "\u001b[0;32m<ipython-input-7-b2c5c9eb7548>\u001b[0m in \u001b[0;36m<module>\u001b[0;34m\u001b[0m\n\u001b[0;32m----> 1\u001b[0;31m \u001b[0mresultado\u001b[0m\u001b[0;34m\u001b[0m\u001b[0;34m\u001b[0m\u001b[0m\n\u001b[0m",
            "\u001b[0;31mNameError\u001b[0m: name 'resultado' is not defined"
          ]
        }
      ]
    },
    {
      "cell_type": "markdown",
      "source": [
        "Ao tentar imprimir o resultado, temos um erro pois a variável resultado é uma variável local da função `teste`."
      ],
      "metadata": {
        "id": "n609UfJTiWT0"
      }
    },
    {
      "cell_type": "markdown",
      "source": [
        "Agora vamos entrar em Classes e Métodos.\n",
        "\n",
        "Por consêntimento padrão, sempre que uma classe for declarada, seu nome tem a primeira letra maiúscula. "
      ],
      "metadata": {
        "id": "Gg5HVc3niibX"
      }
    },
    {
      "cell_type": "code",
      "source": [
        "class SomaNumeros:\n",
        "  def incrementa(self, v, i):\n",
        "    valor = v\n",
        "    incremento = i\n",
        "    resultado = valor + incremento\n",
        "    return resultado"
      ],
      "metadata": {
        "id": "q4aVxc4QhKqg"
      },
      "execution_count": 10,
      "outputs": []
    },
    {
      "cell_type": "code",
      "source": [
        "a = SomaNumeros()"
      ],
      "metadata": {
        "id": "LLpLKVf3jBdu"
      },
      "execution_count": 11,
      "outputs": []
    },
    {
      "cell_type": "code",
      "source": [
        "a"
      ],
      "metadata": {
        "colab": {
          "base_uri": "https://localhost:8080/"
        },
        "id": "qKIH2C9ZlDuT",
        "outputId": "bd85a3f4-b96d-46fa-f4b3-54c0bf8dc171"
      },
      "execution_count": 16,
      "outputs": [
        {
          "output_type": "execute_result",
          "data": {
            "text/plain": [
              "<__main__.SomaNumeros at 0x7fdc9c171d60>"
            ]
          },
          "metadata": {},
          "execution_count": 16
        }
      ]
    },
    {
      "cell_type": "markdown",
      "source": [
        "Após ter criado a classe, ela foi instanciada dentro do objeto `a`, agora toda vez que `a` chamado, a classe SomaNumeros sera ativada.\n",
        "\n",
        "A função `incrementa` agora é um método da classe SomaNumeros, assim como as variáveis V e I são atributos dessa função/método."
      ],
      "metadata": {
        "id": "rOj8sNyWjzWn"
      }
    },
    {
      "cell_type": "code",
      "source": [
        "b = a.incrementa(10,1)"
      ],
      "metadata": {
        "id": "uKJWeU1ijxF-"
      },
      "execution_count": 13,
      "outputs": []
    },
    {
      "cell_type": "code",
      "source": [
        "b"
      ],
      "metadata": {
        "colab": {
          "base_uri": "https://localhost:8080/"
        },
        "id": "rZk4BFvMkOMF",
        "outputId": "d03ff8b6-2b1e-4da2-e2cc-8e127fe7e939"
      },
      "execution_count": 14,
      "outputs": [
        {
          "output_type": "execute_result",
          "data": {
            "text/plain": [
              "11"
            ]
          },
          "metadata": {},
          "execution_count": 14
        }
      ]
    },
    {
      "cell_type": "markdown",
      "source": [
        "Agora a variável `b` armazena o resultado do método `incrementa` que pertence ao objeto `a`. "
      ],
      "metadata": {
        "id": "XRgsb41dkOe7"
      }
    },
    {
      "cell_type": "code",
      "source": [
        "c = SomaNumeros().incrementa(10,1)"
      ],
      "metadata": {
        "id": "YYTWTthnlCbd"
      },
      "execution_count": 18,
      "outputs": []
    },
    {
      "cell_type": "code",
      "source": [
        "c"
      ],
      "metadata": {
        "colab": {
          "base_uri": "https://localhost:8080/"
        },
        "id": "nZp91tVllS2g",
        "outputId": "c8db8552-05dd-4b19-b22f-1b867bf78f3d"
      },
      "execution_count": 19,
      "outputs": [
        {
          "output_type": "execute_result",
          "data": {
            "text/plain": [
              "11"
            ]
          },
          "metadata": {},
          "execution_count": 19
        }
      ]
    },
    {
      "cell_type": "markdown",
      "source": [
        "Dessa forma, a variável `c` armazena o valor da mesma forma que `b`, porém a classe foi chamada de forma direta, sem a necessidade de um objeto `a`. \n",
        "\n",
        "\n",
        "\n",
        "---\n",
        "\n"
      ],
      "metadata": {
        "id": "V8u6wG8IlUyJ"
      }
    },
    {
      "cell_type": "markdown",
      "source": [
        "`self.` ---> ao inserir o self na classe, cada item dentro do método estará associado à um futuro objeto a ser criado.\n",
        "\n"
      ],
      "metadata": {
        "id": "wmWXT7RHmEqu"
      }
    },
    {
      "cell_type": "code",
      "source": [
        "class SomaNumeros:\n",
        "  def incrementa(self, v, i):\n",
        "    self.valor = v\n",
        "    self.incremento = i\n",
        "    self.resultado = self.valor + self.incremento\n",
        "    return self.resultado"
      ],
      "metadata": {
        "id": "rZmtDdCFlvPa"
      },
      "execution_count": 32,
      "outputs": []
    },
    {
      "cell_type": "markdown",
      "source": [
        "Aqui estamos instanciando a classe SomaNumeros ao objeto `a`, agora cada variável local do método `incrementa` está associada ao objeto `a`."
      ],
      "metadata": {
        "id": "tHnv5FbJmp_i"
      }
    },
    {
      "cell_type": "code",
      "source": [
        "a = SomaNumeros()"
      ],
      "metadata": {
        "id": "PtFHRBISmD-s"
      },
      "execution_count": 33,
      "outputs": []
    },
    {
      "cell_type": "code",
      "source": [
        "b = a.incrementa(10,1)"
      ],
      "metadata": {
        "id": "11vnsiO2l8E4"
      },
      "execution_count": 34,
      "outputs": []
    },
    {
      "cell_type": "markdown",
      "source": [
        "Agora através do objeto `a` podemos chamar as variáveis `valor` e `incremento` uma vez que elas foram declaradas dentro da variável `b`"
      ],
      "metadata": {
        "id": "TpFI_v9TnjW7"
      }
    },
    {
      "cell_type": "code",
      "source": [
        "a.valor"
      ],
      "metadata": {
        "colab": {
          "base_uri": "https://localhost:8080/"
        },
        "id": "cuLZuYfGm9M-",
        "outputId": "9633eb64-3eed-4be6-99d9-d8d47f8f2e5c"
      },
      "execution_count": 35,
      "outputs": [
        {
          "output_type": "execute_result",
          "data": {
            "text/plain": [
              "10"
            ]
          },
          "metadata": {},
          "execution_count": 35
        }
      ]
    },
    {
      "cell_type": "code",
      "source": [
        "a.incremento"
      ],
      "metadata": {
        "colab": {
          "base_uri": "https://localhost:8080/"
        },
        "id": "t4KbYYTVndtc",
        "outputId": "3afc73d5-5638-4966-d89c-1005061dda34"
      },
      "execution_count": 36,
      "outputs": [
        {
          "output_type": "execute_result",
          "data": {
            "text/plain": [
              "1"
            ]
          },
          "metadata": {},
          "execution_count": 36
        }
      ]
    },
    {
      "cell_type": "markdown",
      "source": [
        "Agora vamos reescrever a nossa classe de forma que `valor` e `incremento` se tornem atributos da classe, e possam ser utilizados em outras funções dentro da mesma classe. \n",
        "\n",
        "Vamos fazer isso utilizando o método construtor `__init__`, ele vai definir os valores iniciais dos nossos atributos."
      ],
      "metadata": {
        "id": "655S9_n9oD6Z"
      }
    },
    {
      "cell_type": "code",
      "source": [
        "class SomaNumeros:\n",
        "  def __init__(self, v:int, i:int): \n",
        "    self.valor = v\n",
        "    self.incremento = i\n",
        "  def incrementa(self):\n",
        "    self.valor += self.incremento\n",
        "    # self.valor = self.valor + self.incremento "
      ],
      "metadata": {
        "id": "vc_mKi9Ln2sh"
      },
      "execution_count": 38,
      "outputs": []
    },
    {
      "cell_type": "markdown",
      "source": [
        "Da maneira que foi feito acima, não temos mais a função `incrementa` retornando um resultado propriamente dito, agora ela atualiza a variável `valor` com a soma do `valor` inicial + o valor de `incremento`. O valor vai sempre mudar ao longo do tempo, sempre incrementando. "
      ],
      "metadata": {
        "id": "cYbWMS7CpQ9q"
      }
    },
    {
      "cell_type": "code",
      "source": [
        "a = SomaNumeros(10,1)"
      ],
      "metadata": {
        "id": "Px4nmA4yprfq"
      },
      "execution_count": 50,
      "outputs": []
    },
    {
      "cell_type": "markdown",
      "source": [
        "Agora os valores precisam ser inseridos na hora que a classe é instanciada, e não mais quando o método for chamado, pois agora o método vai automaticamente receber os valores associados ao objeto `a`."
      ],
      "metadata": {
        "id": "nnw9DEVKqL9t"
      }
    },
    {
      "cell_type": "code",
      "source": [
        "a.incrementa()"
      ],
      "metadata": {
        "id": "acoFbp_LqFLR"
      },
      "execution_count": 51,
      "outputs": []
    },
    {
      "cell_type": "code",
      "source": [
        "a.valor"
      ],
      "metadata": {
        "colab": {
          "base_uri": "https://localhost:8080/"
        },
        "id": "pr7qvHMkqgeN",
        "outputId": "56054ab1-0e8d-430b-bb2b-39323a8749f9"
      },
      "execution_count": 52,
      "outputs": [
        {
          "output_type": "execute_result",
          "data": {
            "text/plain": [
              "11"
            ]
          },
          "metadata": {},
          "execution_count": 52
        }
      ]
    },
    {
      "cell_type": "code",
      "source": [
        "a.incrementa()"
      ],
      "metadata": {
        "id": "1udQM24CqiTl"
      },
      "execution_count": 53,
      "outputs": []
    },
    {
      "cell_type": "code",
      "source": [
        "a.valor"
      ],
      "metadata": {
        "colab": {
          "base_uri": "https://localhost:8080/"
        },
        "id": "UXNbYq0Uqpcx",
        "outputId": "206d64a8-6519-48d7-e031-1311fcbcab98"
      },
      "execution_count": 54,
      "outputs": [
        {
          "output_type": "execute_result",
          "data": {
            "text/plain": [
              "12"
            ]
          },
          "metadata": {},
          "execution_count": 54
        }
      ]
    },
    {
      "cell_type": "markdown",
      "source": [
        "sempre que a célula com o método `incrementa` for ativada, a conta será feita novamente e um novo `valor` será atribuído.\n",
        "\n",
        "Agora vamos criar um objeto `b` instanciando essa classe novamente, e o valor dos atributos vão ser resetados por ser um novo objeto."
      ],
      "metadata": {
        "id": "NwLUZtJHquB8"
      }
    },
    {
      "cell_type": "code",
      "source": [
        "b = SomaNumeros(10,1)"
      ],
      "metadata": {
        "id": "SRAA0vEIquKJ"
      },
      "execution_count": 66,
      "outputs": []
    },
    {
      "cell_type": "code",
      "source": [
        "b.valor"
      ],
      "metadata": {
        "colab": {
          "base_uri": "https://localhost:8080/"
        },
        "id": "YqThFekorcvl",
        "outputId": "62051477-615c-499c-cd67-7ba7a25cee77"
      },
      "execution_count": 67,
      "outputs": [
        {
          "output_type": "execute_result",
          "data": {
            "text/plain": [
              "10"
            ]
          },
          "metadata": {},
          "execution_count": 67
        }
      ]
    },
    {
      "cell_type": "markdown",
      "source": [
        "como o método incrementa() ainda não foi ativado, o `valor` do objeto `b` permanece o mesmo que foi inserido quando a classe foi instanciada."
      ],
      "metadata": {
        "id": "xA9ju2X3rfqG"
      }
    },
    {
      "cell_type": "code",
      "source": [
        "b.incrementa()"
      ],
      "metadata": {
        "id": "kqxdwS2sqrdG"
      },
      "execution_count": 68,
      "outputs": []
    },
    {
      "cell_type": "code",
      "source": [
        "b.valor"
      ],
      "metadata": {
        "colab": {
          "base_uri": "https://localhost:8080/"
        },
        "id": "AdFwwy5mrVQ9",
        "outputId": "17fe898a-717a-4504-d0fd-48e0aa629d79"
      },
      "execution_count": 69,
      "outputs": [
        {
          "output_type": "execute_result",
          "data": {
            "text/plain": [
              "11"
            ]
          },
          "metadata": {},
          "execution_count": 69
        }
      ]
    },
    {
      "cell_type": "markdown",
      "source": [
        "Agora temos o `valor` atualizado, e sempre que uma célula com o método incrementa() for ativada, isso ocorrerá.\n",
        "\n",
        "---\n",
        "\n",
        "\n"
      ],
      "metadata": {
        "id": "FxyEgdUeruAO"
      }
    },
    {
      "cell_type": "markdown",
      "source": [
        "Na hora de declarar uma classe, os valores no caso `v` e `i` podem já ser declarados com um valor em *Default*.\n",
        "```\n",
        "class SomaNumeros:\n",
        "  def __init__(self, v = 10, i = 1): \n",
        "    self.valor = v\n",
        "    self.incremento = i\n",
        "  def incrementa(self):\n",
        "    self.valor += self.incremento\n",
        "    # self.valor = self.valor + self.incremento \n",
        "```\n",
        "\n",
        "Sendo assim quando essa classe for instanciada, não será necessario colocar: \n",
        "```\n",
        "a = SomaNumeros(10,1)\n",
        "```\n",
        "Pois estes valores já foram definidos posteriormente, ao menos que deseja alterá-los, como por exemplo:\n",
        "```\n",
        "a = SomaNumeros(15,2)\n",
        "```\n",
        "Dessa forma, quando fizermos \n",
        "```\n",
        "a.incrementa()\n",
        "```\n",
        "o resultado obtido será `17`\n",
        "\n",
        "\n",
        "--- \n",
        "\n",
        "Quando criamos um objeto à partir de uma classe, os `métodos` que foram definidos dentro dessa classe podem ser compartilhados entre qualquer objeto criado, já os `atributos`, estes são específicos de cada objeto e não podem ser compartilhados.\n",
        "\n",
        "\n",
        "* Os `métodos` são os comportamentos de cada objeto.\n",
        "\n",
        "* Os `atributos` são os estados em que esse objeto se encontra.\n",
        "\n",
        "\n",
        "---"
      ],
      "metadata": {
        "id": "7MpZrtxEsw3s"
      }
    },
    {
      "cell_type": "code",
      "source": [
        "class SomaNumeros:\n",
        "  def __init__(self, v=10, i=1):\n",
        "    self.valor = v\n",
        "    self.incremento = i\n",
        "\n",
        "  def incrementa(self):\n",
        "    self.valor += self.incremento\n",
        "\n",
        "  def verifica(self):\n",
        "    if self.valor > 12:\n",
        "      print(\"Ultrapassou 12\")\n",
        "    else:\n",
        "      print(\"Não ultrapassou 12\")\n",
        "\n",
        "  def exponencial(self, e):\n",
        "    self.valor_exponencial = self.valor**e\n",
        "    \n",
        "  def incrementa_quadrado(self):\n",
        "    self.incrementa()\n",
        "    self.exponencial(2)"
      ],
      "metadata": {
        "id": "3qFD02QSraeS"
      },
      "execution_count": 72,
      "outputs": []
    },
    {
      "cell_type": "markdown",
      "source": [
        "Agora ampliamos a capacidade da nossa classe, definindo novas funções à ela.\n",
        "* `verifica` vai retornar/imprimir algo dependendo da sua condição.\n",
        "* `exponencial` recebe o objeto e vai elevar o seu valor de acordo com o atributo que for inserido, note que, esse atributo não faz parte dos atributos inseridos no inicio da classe, para que essa função funcione, o valor desse atributo precisa ser inserido sempre que a função for chamada.\n",
        "\n",
        "* `incrementa_quadrado` vai executar as funções `incrementa()` e `exponencial()` que foram previamente definidas, e nesse caso o atributo da função `exponencial()` é 2. "
      ],
      "metadata": {
        "id": "dFJ09BvdwuBr"
      }
    },
    {
      "cell_type": "code",
      "source": [
        "# instanciando objeto\n",
        "a = SomaNumeros()"
      ],
      "metadata": {
        "id": "arNskukXwE-k"
      },
      "execution_count": 116,
      "outputs": []
    },
    {
      "cell_type": "code",
      "source": [
        "# conferindo valor de a \n",
        "a.valor"
      ],
      "metadata": {
        "colab": {
          "base_uri": "https://localhost:8080/"
        },
        "id": "6m85Zfw9zKiN",
        "outputId": "9ecb21c7-a23e-4585-d132-ac353adea51a"
      },
      "execution_count": 117,
      "outputs": [
        {
          "output_type": "execute_result",
          "data": {
            "text/plain": [
              "10"
            ]
          },
          "metadata": {},
          "execution_count": 117
        }
      ]
    },
    {
      "cell_type": "code",
      "source": [
        "# executando função incrementa\n",
        "a.incrementa()"
      ],
      "metadata": {
        "id": "JWNZgt3fy-0e"
      },
      "execution_count": 118,
      "outputs": []
    },
    {
      "cell_type": "code",
      "source": [
        "# conferindo valor de a\n",
        "a.valor"
      ],
      "metadata": {
        "colab": {
          "base_uri": "https://localhost:8080/"
        },
        "id": "aeL3HvkqzHqa",
        "outputId": "ae46e543-b7a5-4332-85f4-bde7400768cd"
      },
      "execution_count": 119,
      "outputs": [
        {
          "output_type": "execute_result",
          "data": {
            "text/plain": [
              "11"
            ]
          },
          "metadata": {},
          "execution_count": 119
        }
      ]
    },
    {
      "cell_type": "code",
      "source": [
        "#executando função verifica\n",
        "a.verifica()"
      ],
      "metadata": {
        "colab": {
          "base_uri": "https://localhost:8080/"
        },
        "id": "2qXN5KKtzITv",
        "outputId": "10c0e6b8-cbdf-4b7c-bf7b-42097c819c1d"
      },
      "execution_count": 120,
      "outputs": [
        {
          "output_type": "stream",
          "name": "stdout",
          "text": [
            "Não ultrapassou 12\n"
          ]
        }
      ]
    },
    {
      "cell_type": "code",
      "source": [
        "# executando função exponencial, definindo o atributo exponencial como 3 -> elevando o valor a terceira potencia\n",
        "a.exponencial(3)"
      ],
      "metadata": {
        "id": "Mm7QysbEzU5Y"
      },
      "execution_count": 121,
      "outputs": []
    },
    {
      "cell_type": "code",
      "source": [
        "# conferindo valor de a\n",
        "a.valor"
      ],
      "metadata": {
        "colab": {
          "base_uri": "https://localhost:8080/"
        },
        "id": "l53odcX-zrWc",
        "outputId": "f514bb3d-f2c3-4ff4-babb-0e5807e799bc"
      },
      "execution_count": 122,
      "outputs": [
        {
          "output_type": "execute_result",
          "data": {
            "text/plain": [
              "11"
            ]
          },
          "metadata": {},
          "execution_count": 122
        }
      ]
    },
    {
      "cell_type": "markdown",
      "source": [
        "o atributo valor permaneceu o mesmo, pois note que quando declaramos a classe, ao definir a função `exponencial()`, o resultado foi armazenado em `valor_exponencial`."
      ],
      "metadata": {
        "id": "tX8OAkMjzwsA"
      }
    },
    {
      "cell_type": "code",
      "source": [
        "# conferindo valor de a exponencial\n",
        "a.valor_exponencial"
      ],
      "metadata": {
        "colab": {
          "base_uri": "https://localhost:8080/"
        },
        "id": "BIBxVwPrzYys",
        "outputId": "6b60e7e2-9dd9-4f6c-9459-ed877d530e17"
      },
      "execution_count": 123,
      "outputs": [
        {
          "output_type": "execute_result",
          "data": {
            "text/plain": [
              "1331"
            ]
          },
          "metadata": {},
          "execution_count": 123
        }
      ]
    },
    {
      "cell_type": "code",
      "source": [
        "# executando funçao incrementa_quadrado()\n",
        "a.incrementa_quadrado()"
      ],
      "metadata": {
        "id": "idN-G49Eziqe"
      },
      "execution_count": 124,
      "outputs": []
    },
    {
      "cell_type": "code",
      "source": [
        "a.valor"
      ],
      "metadata": {
        "colab": {
          "base_uri": "https://localhost:8080/"
        },
        "id": "rM8pWqRj0MmW",
        "outputId": "20832045-1a4f-4fe7-a370-ac29c57377af"
      },
      "execution_count": 125,
      "outputs": [
        {
          "output_type": "execute_result",
          "data": {
            "text/plain": [
              "12"
            ]
          },
          "metadata": {},
          "execution_count": 125
        }
      ]
    },
    {
      "cell_type": "markdown",
      "source": [
        "Novamente, para conferir o valor da função `incrementa_quadrado()` precisamos olhar o resultado de `valor_exponencial` que é onde esse valor está armazenado, uma vez que a função `incrementa_quadrado()` utiliza a função `exponencial()` como método.\n",
        "\n",
        "Como a funçao `incrementa_quadrado()` tem como método também a função `incrementa()`, o valor do objeto a passa a ser 12 e não mais 11 como foi o seu ultimo valor registrado antes de executar a função `incrementa_quadrado()`, dessa forma, o valor exponencial será calculado em cima de 12 e não mais 11."
      ],
      "metadata": {
        "id": "ksyMZnGZ1CTB"
      }
    },
    {
      "cell_type": "code",
      "source": [
        "a.valor_exponencial"
      ],
      "metadata": {
        "colab": {
          "base_uri": "https://localhost:8080/"
        },
        "id": "fiUzQR1E0NM0",
        "outputId": "d5b9317c-6162-4b57-e92c-d08b74681811"
      },
      "execution_count": 127,
      "outputs": [
        {
          "output_type": "execute_result",
          "data": {
            "text/plain": [
              "144"
            ]
          },
          "metadata": {},
          "execution_count": 127
        }
      ]
    },
    {
      "cell_type": "markdown",
      "source": [
        "Vamos agora criar um novo objeto `b` porém com novos valores atribuidos."
      ],
      "metadata": {
        "id": "84RXQ7F22LUg"
      }
    },
    {
      "cell_type": "code",
      "source": [
        "# instanciando objeto\n",
        "b = SomaNumeros(17,3)"
      ],
      "metadata": {
        "id": "j2ks7GPH08Rp"
      },
      "execution_count": 129,
      "outputs": []
    },
    {
      "cell_type": "code",
      "source": [
        "#conferindo valor\n",
        "b.valor"
      ],
      "metadata": {
        "colab": {
          "base_uri": "https://localhost:8080/"
        },
        "id": "uIdNmNp62WkW",
        "outputId": "e81aaf17-7b99-48d8-de81-ed46ad3fcf9c"
      },
      "execution_count": 130,
      "outputs": [
        {
          "output_type": "execute_result",
          "data": {
            "text/plain": [
              "17"
            ]
          },
          "metadata": {},
          "execution_count": 130
        }
      ]
    },
    {
      "cell_type": "code",
      "source": [
        "b.incrementa()"
      ],
      "metadata": {
        "id": "qL8QwQ3G2j2R"
      },
      "execution_count": 131,
      "outputs": []
    },
    {
      "cell_type": "code",
      "source": [
        "b.valor"
      ],
      "metadata": {
        "colab": {
          "base_uri": "https://localhost:8080/"
        },
        "id": "iGi0eLiW2pac",
        "outputId": "106ddac0-76af-49f1-b5c7-c03061fc9538"
      },
      "execution_count": 133,
      "outputs": [
        {
          "output_type": "execute_result",
          "data": {
            "text/plain": [
              "20"
            ]
          },
          "metadata": {},
          "execution_count": 133
        }
      ]
    },
    {
      "cell_type": "code",
      "source": [
        "b.verifica()"
      ],
      "metadata": {
        "colab": {
          "base_uri": "https://localhost:8080/"
        },
        "id": "6yNr9wrw2nOO",
        "outputId": "08c95bfb-298a-412f-d642-b7f07c15242f"
      },
      "execution_count": 132,
      "outputs": [
        {
          "output_type": "stream",
          "name": "stdout",
          "text": [
            "Ultrapassou 12\n"
          ]
        }
      ]
    },
    {
      "cell_type": "code",
      "source": [
        "b.exponencial(4)"
      ],
      "metadata": {
        "id": "xzsKKerK2oLs"
      },
      "execution_count": 138,
      "outputs": []
    },
    {
      "cell_type": "code",
      "source": [
        "b.valor"
      ],
      "metadata": {
        "colab": {
          "base_uri": "https://localhost:8080/"
        },
        "id": "A0r-DZkE2rJn",
        "outputId": "f376fb03-8ab4-4d7b-b889-634a5c3dbee0"
      },
      "execution_count": 139,
      "outputs": [
        {
          "output_type": "execute_result",
          "data": {
            "text/plain": [
              "20"
            ]
          },
          "metadata": {},
          "execution_count": 139
        }
      ]
    },
    {
      "cell_type": "code",
      "source": [
        "b.valor_exponencial"
      ],
      "metadata": {
        "colab": {
          "base_uri": "https://localhost:8080/"
        },
        "id": "5lWBVl842u4y",
        "outputId": "6daa45eb-a18d-41ad-8a57-aafb9eb47abd"
      },
      "execution_count": 140,
      "outputs": [
        {
          "output_type": "execute_result",
          "data": {
            "text/plain": [
              "160000"
            ]
          },
          "metadata": {},
          "execution_count": 140
        }
      ]
    },
    {
      "cell_type": "code",
      "source": [
        "b.incrementa_quadrado()"
      ],
      "metadata": {
        "id": "MAcI3gtx20hJ"
      },
      "execution_count": 141,
      "outputs": []
    },
    {
      "cell_type": "code",
      "source": [
        "b.valor"
      ],
      "metadata": {
        "colab": {
          "base_uri": "https://localhost:8080/"
        },
        "id": "ff-TX3C724vJ",
        "outputId": "fe12b896-a230-49b1-fe6f-3a537bdb8f4e"
      },
      "execution_count": 142,
      "outputs": [
        {
          "output_type": "execute_result",
          "data": {
            "text/plain": [
              "23"
            ]
          },
          "metadata": {},
          "execution_count": 142
        }
      ]
    },
    {
      "cell_type": "markdown",
      "source": [
        "o valor havia sido atualizado para 20, apos executar a funçao incrementa_quadrado(), foi incrementado ao valor o incremento = 3."
      ],
      "metadata": {
        "id": "Ez7rN0Sa2-6J"
      }
    },
    {
      "cell_type": "code",
      "source": [
        "b.valor_exponencial"
      ],
      "metadata": {
        "colab": {
          "base_uri": "https://localhost:8080/"
        },
        "id": "DR63oUdG2-vO",
        "outputId": "4787c46d-a095-4e86-aad6-389a63871789"
      },
      "execution_count": 143,
      "outputs": [
        {
          "output_type": "execute_result",
          "data": {
            "text/plain": [
              "529"
            ]
          },
          "metadata": {},
          "execution_count": 143
        }
      ]
    },
    {
      "cell_type": "markdown",
      "source": [
        "o valor exponencial agora é 23 ao quadrado.\n",
        "\n",
        "---\n",
        "\n",
        "se a função `exponencial()` ou `incrementa_quadrado()` for executada logo no inicio, ou seja, assim que o objeto for criado, o calculo será realizado com os valores recém atribuidos. Vamos ver isso agora com um novo objeto `c`."
      ],
      "metadata": {
        "id": "JuI7sCOK3L_L"
      }
    },
    {
      "cell_type": "code",
      "source": [
        "c = SomaNumeros(5,3)"
      ],
      "metadata": {
        "id": "24lysYu325Z7"
      },
      "execution_count": 151,
      "outputs": []
    },
    {
      "cell_type": "code",
      "source": [
        "c.valor"
      ],
      "metadata": {
        "colab": {
          "base_uri": "https://localhost:8080/"
        },
        "id": "UygHyOyF4LM9",
        "outputId": "629f046b-d6f2-4ff4-d56f-2fb1e40506ca"
      },
      "execution_count": 152,
      "outputs": [
        {
          "output_type": "execute_result",
          "data": {
            "text/plain": [
              "5"
            ]
          },
          "metadata": {},
          "execution_count": 152
        }
      ]
    },
    {
      "cell_type": "code",
      "source": [
        "c.exponencial(2)"
      ],
      "metadata": {
        "id": "BY-k06Im4ND2"
      },
      "execution_count": 153,
      "outputs": []
    },
    {
      "cell_type": "code",
      "source": [
        "c.valor_exponencial"
      ],
      "metadata": {
        "colab": {
          "base_uri": "https://localhost:8080/"
        },
        "id": "O46qiyj84Qg8",
        "outputId": "5371cda2-99e6-43d3-92cc-1231e7ed540d"
      },
      "execution_count": 154,
      "outputs": [
        {
          "output_type": "execute_result",
          "data": {
            "text/plain": [
              "25"
            ]
          },
          "metadata": {},
          "execution_count": 154
        }
      ]
    },
    {
      "cell_type": "code",
      "source": [
        "c.incrementa_quadrado()"
      ],
      "metadata": {
        "id": "Q9vEErhc4R5O"
      },
      "execution_count": 155,
      "outputs": []
    },
    {
      "cell_type": "code",
      "source": [
        "c.valor"
      ],
      "metadata": {
        "colab": {
          "base_uri": "https://localhost:8080/"
        },
        "id": "x_mxofVm4dZK",
        "outputId": "beb7c6e5-e9f9-44de-ffdb-76849c14471c"
      },
      "execution_count": 156,
      "outputs": [
        {
          "output_type": "execute_result",
          "data": {
            "text/plain": [
              "8"
            ]
          },
          "metadata": {},
          "execution_count": 156
        }
      ]
    },
    {
      "cell_type": "code",
      "source": [
        "c.valor_exponencial"
      ],
      "metadata": {
        "colab": {
          "base_uri": "https://localhost:8080/"
        },
        "id": "VPGyxdvU4aWJ",
        "outputId": "d201ec67-ac42-4b44-afab-1a27ec6fe517"
      },
      "execution_count": 157,
      "outputs": [
        {
          "output_type": "execute_result",
          "data": {
            "text/plain": [
              "64"
            ]
          },
          "metadata": {},
          "execution_count": 157
        }
      ]
    },
    {
      "cell_type": "markdown",
      "source": [
        "Note que após executar a função `incrementa_quadrado()` o valor do objeto `c` foi atualizado por conta dos métodos utilizados para executar a função `incrementa_quadrado()`\n",
        "\n",
        "---\n"
      ],
      "metadata": {
        "id": "6p9jbHhE4iWj"
      }
    },
    {
      "cell_type": "markdown",
      "source": [
        "Herança -> quando uma classe depende de uma classe criada anteriormente, dessa forma é possível utilizar os mesmos métodos herdados da classe anterior, assim como definir novos métodos."
      ],
      "metadata": {
        "id": "Tx3TwV6Z_rz-"
      }
    },
    {
      "cell_type": "code",
      "source": [
        "class Calculos(SomaNumeros):\n",
        "  pass"
      ],
      "metadata": {
        "id": "28Bz4lRb4d1H"
      },
      "execution_count": 158,
      "outputs": []
    },
    {
      "cell_type": "code",
      "source": [
        "d = Calculos()"
      ],
      "metadata": {
        "id": "tvoqBVnu_1Tj"
      },
      "execution_count": 162,
      "outputs": []
    },
    {
      "cell_type": "code",
      "source": [
        "d.valor"
      ],
      "metadata": {
        "colab": {
          "base_uri": "https://localhost:8080/"
        },
        "id": "hsw2OLK4AUMx",
        "outputId": "6acb92b0-2e42-441e-8920-3438c6f8d5bc"
      },
      "execution_count": 163,
      "outputs": [
        {
          "output_type": "execute_result",
          "data": {
            "text/plain": [
              "10"
            ]
          },
          "metadata": {},
          "execution_count": 163
        }
      ]
    },
    {
      "cell_type": "code",
      "source": [
        "d.incremento"
      ],
      "metadata": {
        "colab": {
          "base_uri": "https://localhost:8080/"
        },
        "id": "KucxZzlyAVMf",
        "outputId": "1cbee258-1a98-42f5-d9d6-4be062244c69"
      },
      "execution_count": 164,
      "outputs": [
        {
          "output_type": "execute_result",
          "data": {
            "text/plain": [
              "1"
            ]
          },
          "metadata": {},
          "execution_count": 164
        }
      ]
    },
    {
      "cell_type": "code",
      "source": [
        "d.incrementa_quadrado()"
      ],
      "metadata": {
        "id": "Z8-w5imOANe6"
      },
      "execution_count": 165,
      "outputs": []
    },
    {
      "cell_type": "code",
      "source": [
        "d.valor"
      ],
      "metadata": {
        "colab": {
          "base_uri": "https://localhost:8080/"
        },
        "id": "HovecZhyAXWu",
        "outputId": "2ece7bbc-8ef1-451c-e8f0-35af09d5d1eb"
      },
      "execution_count": 166,
      "outputs": [
        {
          "output_type": "execute_result",
          "data": {
            "text/plain": [
              "11"
            ]
          },
          "metadata": {},
          "execution_count": 166
        }
      ]
    },
    {
      "cell_type": "code",
      "source": [
        "d.valor_exponencial"
      ],
      "metadata": {
        "colab": {
          "base_uri": "https://localhost:8080/"
        },
        "id": "qeDr22lWAP6d",
        "outputId": "5f450efc-f0fc-424f-f000-48cbb17a4619"
      },
      "execution_count": 161,
      "outputs": [
        {
          "output_type": "execute_result",
          "data": {
            "text/plain": [
              "121"
            ]
          },
          "metadata": {},
          "execution_count": 161
        }
      ]
    },
    {
      "cell_type": "code",
      "source": [
        "class Calculos(SomaNumeros):\n",
        "\n",
        "  def __init__(self, d = 2):\n",
        "    super().__init__(v=5, i=1)\n",
        "    self.divisor = d\n",
        "\n",
        "  def decrementa(self):\n",
        "    self.valor -= self.incremento\n",
        "\n",
        "  def divide(self):\n",
        "    self.valor = self.valor/self.divisor"
      ],
      "metadata": {
        "id": "8XhsvxXMARLg"
      },
      "execution_count": 228,
      "outputs": []
    },
    {
      "cell_type": "markdown",
      "source": [
        "Agora declaramos novamente a classe `Calculos()`, herdando os métodos da classe `SomaNumeros()`, mas agora definimos um novo método construtor `__init__` que recebe uma variável `divisor` que será utilizada posteriomente, mas como o método construtor foi criado novamente, é preciso informar todos os parâmetros presentes na classe `SomaNumeros()`, para isso utilizamos o método  \n",
        "\n",
        "```\n",
        "super().__init__(v=... , i=...)\n",
        "```\n",
        "uma vez que foi definido um novo método construtor, essa classe vai responder ao seu próprio `__init__` e não mais ao que foi herdado, o método `super()` vai buscar o `self.valor` e `self.incremento` da classe superior, mas é preciso informar os valores de `v` e `i` dessa forma novos valores *Default* podem ser definidos para essa nova classe.\n",
        "\n",
        "Inserimos também novas funções, a função `decrementa()` e a função `divide()` que vai utilizar o `divisor` definido em `__init__`.\n",
        "\n",
        "\n"
      ],
      "metadata": {
        "id": "CCH3THDcBBcB"
      }
    },
    {
      "cell_type": "code",
      "source": [
        "d = Calculos()"
      ],
      "metadata": {
        "id": "V8lVuBOtAoCN"
      },
      "execution_count": 229,
      "outputs": []
    },
    {
      "cell_type": "code",
      "source": [
        "d.valor"
      ],
      "metadata": {
        "colab": {
          "base_uri": "https://localhost:8080/"
        },
        "id": "5r0a87BfA0pu",
        "outputId": "63080860-cd04-4129-d645-27b5dbe60dc3"
      },
      "execution_count": 230,
      "outputs": [
        {
          "output_type": "execute_result",
          "data": {
            "text/plain": [
              "5"
            ]
          },
          "metadata": {},
          "execution_count": 230
        }
      ]
    },
    {
      "cell_type": "code",
      "source": [
        "d.incrementa()"
      ],
      "metadata": {
        "id": "p15DdeWaAqLZ"
      },
      "execution_count": 231,
      "outputs": []
    },
    {
      "cell_type": "code",
      "source": [
        "d.valor"
      ],
      "metadata": {
        "colab": {
          "base_uri": "https://localhost:8080/"
        },
        "id": "VrxQsxZ2Arka",
        "outputId": "0020a647-26af-4004-fca2-2a56eca04aad"
      },
      "execution_count": 232,
      "outputs": [
        {
          "output_type": "execute_result",
          "data": {
            "text/plain": [
              "6"
            ]
          },
          "metadata": {},
          "execution_count": 232
        }
      ]
    },
    {
      "cell_type": "markdown",
      "source": [
        "Após executar a função `incrementa()` valor foi atualizado."
      ],
      "metadata": {
        "id": "i-loHe5IBWvI"
      }
    },
    {
      "cell_type": "code",
      "source": [
        "d.decrementa()"
      ],
      "metadata": {
        "id": "GXu0l4BuAr_c"
      },
      "execution_count": 233,
      "outputs": []
    },
    {
      "cell_type": "code",
      "source": [
        "d.valor"
      ],
      "metadata": {
        "colab": {
          "base_uri": "https://localhost:8080/"
        },
        "id": "aQBOfallAu22",
        "outputId": "85fefa20-a180-4baa-fa29-955d004c8dce"
      },
      "execution_count": 234,
      "outputs": [
        {
          "output_type": "execute_result",
          "data": {
            "text/plain": [
              "5"
            ]
          },
          "metadata": {},
          "execution_count": 234
        }
      ]
    },
    {
      "cell_type": "markdown",
      "source": [
        "Após executar a função `decrementa()` valor foi atualizado.\n"
      ],
      "metadata": {
        "id": "FKCpwOVkBdSb"
      }
    },
    {
      "cell_type": "code",
      "source": [
        "d.divide()"
      ],
      "metadata": {
        "id": "qZydnFE8BdJ8"
      },
      "execution_count": 235,
      "outputs": []
    },
    {
      "cell_type": "code",
      "source": [
        "d.valor"
      ],
      "metadata": {
        "colab": {
          "base_uri": "https://localhost:8080/"
        },
        "id": "Hl0DtjujAvkj",
        "outputId": "4105a5a5-8908-4a39-ea60-58ceb0df7bdc"
      },
      "execution_count": 236,
      "outputs": [
        {
          "output_type": "execute_result",
          "data": {
            "text/plain": [
              "2.5"
            ]
          },
          "metadata": {},
          "execution_count": 236
        }
      ]
    },
    {
      "cell_type": "markdown",
      "source": [
        "Outra opção é não utilizar o método `super().__init__`, e declarar novamente o valor e incremento:\n"
      ],
      "metadata": {
        "id": "yIZI1GGMa1OM"
      }
    },
    {
      "cell_type": "code",
      "source": [
        "class Calculos(SomaNumeros):\n",
        "\n",
        "  def __init__(self, v=5, i=1, d = 2):\n",
        "    self.valor = v\n",
        "    self.incremento = i \n",
        "    self.divisor = d\n",
        "\n",
        "  def decrementa(self):\n",
        "    self.valor -= self.incremento\n",
        "\n",
        "  def divide(self):\n",
        "    self.valor = self.valor/self.divisor"
      ],
      "metadata": {
        "id": "D_SeMBpqbOYU"
      },
      "execution_count": 249,
      "outputs": []
    },
    {
      "cell_type": "markdown",
      "source": [
        "Agora vamos criar um novo objeto utilizando a classe `Calculos()`, mas agora atribuindo novos valores para os seus atributos"
      ],
      "metadata": {
        "id": "qqqtfmisD0KQ"
      }
    },
    {
      "cell_type": "code",
      "source": [
        "e = Calculos(15,2,3)"
      ],
      "metadata": {
        "id": "SGF3FxE3DkUo"
      },
      "execution_count": 256,
      "outputs": []
    },
    {
      "cell_type": "code",
      "source": [
        "e.valor"
      ],
      "metadata": {
        "colab": {
          "base_uri": "https://localhost:8080/"
        },
        "id": "9Ar4KTA6DvsT",
        "outputId": "3ce541eb-e049-4f31-c2cc-df261a5fcd4c"
      },
      "execution_count": 257,
      "outputs": [
        {
          "output_type": "execute_result",
          "data": {
            "text/plain": [
              "15"
            ]
          },
          "metadata": {},
          "execution_count": 257
        }
      ]
    },
    {
      "cell_type": "code",
      "source": [
        "e.decrementa()"
      ],
      "metadata": {
        "id": "h_CsVCoVYx51"
      },
      "execution_count": 258,
      "outputs": []
    },
    {
      "cell_type": "code",
      "source": [
        "e.valor"
      ],
      "metadata": {
        "colab": {
          "base_uri": "https://localhost:8080/"
        },
        "id": "gzYnoXYfZPnG",
        "outputId": "baf41035-7d9e-458d-a489-36c9591e72ea"
      },
      "execution_count": 259,
      "outputs": [
        {
          "output_type": "execute_result",
          "data": {
            "text/plain": [
              "13"
            ]
          },
          "metadata": {},
          "execution_count": 259
        }
      ]
    },
    {
      "cell_type": "code",
      "source": [
        "e.divide()"
      ],
      "metadata": {
        "id": "U15TtUouZI0l"
      },
      "execution_count": 260,
      "outputs": []
    },
    {
      "cell_type": "code",
      "source": [
        "e.valor"
      ],
      "metadata": {
        "colab": {
          "base_uri": "https://localhost:8080/"
        },
        "id": "Sp_zFiI-ZLpQ",
        "outputId": "73990f61-0347-48c5-e7e6-b536a897546a"
      },
      "execution_count": 261,
      "outputs": [
        {
          "output_type": "execute_result",
          "data": {
            "text/plain": [
              "4.333333333333333"
            ]
          },
          "metadata": {},
          "execution_count": 261
        }
      ]
    },
    {
      "cell_type": "code",
      "source": [],
      "metadata": {
        "id": "OkmCIzYYZMUd"
      },
      "execution_count": 261,
      "outputs": []
    }
  ]
}