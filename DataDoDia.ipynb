{
  "nbformat": 4,
  "nbformat_minor": 0,
  "metadata": {
    "colab": {
      "name": "DataDoDia.ipynb",
      "provenance": [],
      "collapsed_sections": [],
      "authorship_tag": "ABX9TyN3CA/1A12BHB/N5b0TKgEX",
      "include_colab_link": true
    },
    "kernelspec": {
      "name": "python3",
      "display_name": "Python 3"
    },
    "language_info": {
      "name": "python"
    }
  },
  "cells": [
    {
      "cell_type": "markdown",
      "metadata": {
        "id": "view-in-github",
        "colab_type": "text"
      },
      "source": [
        "<a href=\"https://colab.research.google.com/github/marcosilvaa/dados_estudos/blob/main/DataDoDia.ipynb\" target=\"_parent\"><img src=\"https://colab.research.google.com/assets/colab-badge.svg\" alt=\"Open In Colab\"/></a>"
      ]
    },
    {
      "cell_type": "markdown",
      "source": [
        "# Data Do Dia\n",
        "Para todas as vezes que quiser que seu código busque automaticamente a data do dia, utilize o código abaixo.\n"
      ],
      "metadata": {
        "id": "4wfEoz3D-mq6"
      }
    },
    {
      "cell_type": "code",
      "execution_count": 11,
      "metadata": {
        "colab": {
          "base_uri": "https://localhost:8080/",
          "height": 36
        },
        "id": "3dofPS9M9MlU",
        "outputId": "0d94ff4e-0d57-4e19-d4ea-d6447ab7a3bd"
      },
      "outputs": [
        {
          "output_type": "execute_result",
          "data": {
            "text/plain": [
              "'03/08/2022'"
            ],
            "application/vnd.google.colaboratory.intrinsic+json": {
              "type": "string"
            }
          },
          "metadata": {},
          "execution_count": 11
        }
      ],
      "source": [
        "# importando bibliotecas\n",
        "from datetime import date\n",
        "import time\n",
        "\n",
        "# criando variável para dia de hoje\n",
        "data_atual = date.today()\n",
        "\n",
        "# convertendo data para string \n",
        "data_atual = data_atual.strftime(\"%d/%m/%Y\")\n",
        "\n",
        "data_atual"
      ]
    },
    {
      "cell_type": "markdown",
      "source": [
        "Outras opções de formato são:\n",
        "\n",
        "* Dia\n",
        "  * `%a`  Dias da semana abreviados -> Sun, Mon, …, Sat (en_US);\n",
        "\n",
        "  * `%A` Dias da semana completos -> Sunday, Monday, …, Saturday (en_US);\n",
        "  * `%w` Dias da semana em numero decimal -> 0 = Sunday, 6 = Saturday\n",
        "  * `%d` Dia do mês em formato decimal de dois dígitos -> 01,02,03...30,31 \n",
        "\n",
        "* Mês\n",
        "  * `%b` Mês abreviado -> Jan, Feb... \n",
        "  * `%B` Mês completo -> January, February... \n",
        "  * `%m` Mês em formato decimal de dois dígitos -> 01,02,03...11,12\n",
        "\n",
        "* Ano\n",
        "  * `%y` Ano com apenas os dois últimos dígitos ->  97,98...00,01,02\n",
        "  * `%Y` Ano com número completo de 4 dígitos -> 1997,1998...2000,2001\n",
        "\n",
        "* Hora \n",
        "  * `%H` Hora no padrão 24H \n",
        "  * `%I` Hora no Padrão 12H\n",
        "  * `%p` AM e PM \n",
        "  * `%M` Minuto\n",
        "  * `%S` Segundo\n",
        "  * `%f` Microsegundo\n",
        "  * `%Z` Nome da zona (UTC)\n",
        "\n",
        "* Especiais \n",
        "  * `%j` Dia do ano no formato 365 dias\n",
        "  * `%U` Número da semana, Domingo como primeiro dia\n",
        "  * `%W` Número da semana, Segunda como primeiro dia\n",
        "\n",
        "\n",
        "\n",
        "\n",
        "\n"
      ],
      "metadata": {
        "id": "UlUGXJch-nMK"
      }
    },
    {
      "cell_type": "code",
      "source": [
        ""
      ],
      "metadata": {
        "id": "i-7riStPB9Ub"
      },
      "execution_count": null,
      "outputs": []
    }
  ]
}