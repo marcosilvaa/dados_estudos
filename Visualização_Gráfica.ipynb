{
  "nbformat": 4,
  "nbformat_minor": 0,
  "metadata": {
    "colab": {
      "name": "Visualização Gráfica.ipynb",
      "provenance": [],
      "authorship_tag": "ABX9TyOvXm2R9yYacgDPTVfIIHNQ",
      "include_colab_link": true
    },
    "kernelspec": {
      "name": "python3",
      "display_name": "Python 3"
    },
    "language_info": {
      "name": "python"
    }
  },
  "cells": [
    {
      "cell_type": "markdown",
      "metadata": {
        "id": "view-in-github",
        "colab_type": "text"
      },
      "source": [
        "<a href=\"https://colab.research.google.com/github/marcosilvaa/dados_estudos/blob/main/Visualiza%C3%A7%C3%A3o_Gr%C3%A1fica.ipynb\" target=\"_parent\"><img src=\"https://colab.research.google.com/assets/colab-badge.svg\" alt=\"Open In Colab\"/></a>"
      ]
    },
    {
      "cell_type": "markdown",
      "source": [
        "# Visualização Gráfica\n",
        "\n",
        "Para um bom projeto de *DataScience*, a visualização gráfica é um dos requisitos mais importantes, uma vez que a função do gráfico é comunicar uma informação, deve ser feito de maneira clara e direta. \n",
        "\n",
        "Este notebook é uma sequência de tutoriais sobre como fazer os mais diversos tipos de gráficos, os dados utilizados são do curso *Data Science na Prática* do professor Carlos Melo da Familia [Sigmoidal](https://sigmoidal.ai). \n"
      ],
      "metadata": {
        "id": "xLXGQDUiI7Xz"
      }
    },
    {
      "cell_type": "markdown",
      "source": [
        "## Gráfico de Linhas \n",
        "\n",
        "O gráfico de linhas é formado por um conjunto de pontos conectados por segmentos de retas, utilizando de um eixo X (horizontal) e um eixo Y (vertical), este tipo gráfico é ideal para nos mostrar comportamento dos dados ao longo do tempo.\n"
      ],
      "metadata": {
        "id": "g12ma2KxLmLS"
      }
    },
    {
      "cell_type": "markdown",
      "source": [
        "### Quando Usar? \n",
        "Para dados que se conectam e apresentam uma continuídade.\n",
        "\n",
        "### Dicas\n",
        "\n",
        "* Frequentemente o eixo X é uma unidade de tempo.\n",
        "\n",
        "* Não faz sentido para variáveis categóricas\n",
        "\n",
        "* Princípio da conexão de Gestalt\n",
        "> \"A Gestalt diz que elementos que estão visualmente conectados são percebidos como mais relacionados do que elementos sem conexão. Isso significa que 2 figuras idênticas em um layout, quando desconectadas, são vistas diferentemente do que as suas figuras disformes ligadas por uma linha.\n",
        "De todos os princípios que sugerem que os objetos estão relacionados, a conexão uniforme tende a ser o mais forte.\""
      ],
      "metadata": {
        "id": "2Ycb-oslMW3Z"
      }
    },
    {
      "cell_type": "markdown",
      "source": [
        "### Plotando Gráfico de Linhas\n",
        "\n",
        "Para este gráfico utilizaremos um conjunto de dados referentes ao número de casos mensais de dengue na cidade de Campinas-SP, dados referentes ao período de 1998 a 2015.\n",
        "\n",
        "Este *dataset* contem informações como:\n",
        "* Número de casos confirmados \n",
        "* Chuva\n",
        "* Temperaturas (Mín, Méd, Máx)\n",
        "\n",
        "\n",
        "\n"
      ],
      "metadata": {
        "id": "bGbIncAYM7GL"
      }
    },
    {
      "cell_type": "code",
      "execution_count": 19,
      "metadata": {
        "colab": {
          "base_uri": "https://localhost:8080/",
          "height": 238
        },
        "id": "DPX6YG0sEC9q",
        "outputId": "8ec5ee89-a7b6-4f3d-edcf-a26beec3581f"
      },
      "outputs": [
        {
          "output_type": "execute_result",
          "data": {
            "text/plain": [
              "            casos-confirmados  chuva  temperatura-media  temperatura-mininima  \\\n",
              "data                                                                            \n",
              "1998-01-01                237  179.2               25.7                  20.2   \n",
              "1998-02-01                331  226.3               25.1                  20.0   \n",
              "1998-03-01                562  149.1               24.8                  22.4   \n",
              "1998-04-01                187   46.4               22.7                  18.1   \n",
              "1998-05-01                 32   88.3               19.2                  15.7   \n",
              "\n",
              "            temperatura-maxima  \n",
              "data                            \n",
              "1998-01-01                28.1  \n",
              "1998-02-01                28.0  \n",
              "1998-03-01                27.2  \n",
              "1998-04-01                26.0  \n",
              "1998-05-01                22.9  "
            ],
            "text/html": [
              "\n",
              "  <div id=\"df-bed637fb-fb33-4faf-b4a0-434821082f56\">\n",
              "    <div class=\"colab-df-container\">\n",
              "      <div>\n",
              "<style scoped>\n",
              "    .dataframe tbody tr th:only-of-type {\n",
              "        vertical-align: middle;\n",
              "    }\n",
              "\n",
              "    .dataframe tbody tr th {\n",
              "        vertical-align: top;\n",
              "    }\n",
              "\n",
              "    .dataframe thead th {\n",
              "        text-align: right;\n",
              "    }\n",
              "</style>\n",
              "<table border=\"1\" class=\"dataframe\">\n",
              "  <thead>\n",
              "    <tr style=\"text-align: right;\">\n",
              "      <th></th>\n",
              "      <th>casos-confirmados</th>\n",
              "      <th>chuva</th>\n",
              "      <th>temperatura-media</th>\n",
              "      <th>temperatura-mininima</th>\n",
              "      <th>temperatura-maxima</th>\n",
              "    </tr>\n",
              "    <tr>\n",
              "      <th>data</th>\n",
              "      <th></th>\n",
              "      <th></th>\n",
              "      <th></th>\n",
              "      <th></th>\n",
              "      <th></th>\n",
              "    </tr>\n",
              "  </thead>\n",
              "  <tbody>\n",
              "    <tr>\n",
              "      <th>1998-01-01</th>\n",
              "      <td>237</td>\n",
              "      <td>179.2</td>\n",
              "      <td>25.7</td>\n",
              "      <td>20.2</td>\n",
              "      <td>28.1</td>\n",
              "    </tr>\n",
              "    <tr>\n",
              "      <th>1998-02-01</th>\n",
              "      <td>331</td>\n",
              "      <td>226.3</td>\n",
              "      <td>25.1</td>\n",
              "      <td>20.0</td>\n",
              "      <td>28.0</td>\n",
              "    </tr>\n",
              "    <tr>\n",
              "      <th>1998-03-01</th>\n",
              "      <td>562</td>\n",
              "      <td>149.1</td>\n",
              "      <td>24.8</td>\n",
              "      <td>22.4</td>\n",
              "      <td>27.2</td>\n",
              "    </tr>\n",
              "    <tr>\n",
              "      <th>1998-04-01</th>\n",
              "      <td>187</td>\n",
              "      <td>46.4</td>\n",
              "      <td>22.7</td>\n",
              "      <td>18.1</td>\n",
              "      <td>26.0</td>\n",
              "    </tr>\n",
              "    <tr>\n",
              "      <th>1998-05-01</th>\n",
              "      <td>32</td>\n",
              "      <td>88.3</td>\n",
              "      <td>19.2</td>\n",
              "      <td>15.7</td>\n",
              "      <td>22.9</td>\n",
              "    </tr>\n",
              "  </tbody>\n",
              "</table>\n",
              "</div>\n",
              "      <button class=\"colab-df-convert\" onclick=\"convertToInteractive('df-bed637fb-fb33-4faf-b4a0-434821082f56')\"\n",
              "              title=\"Convert this dataframe to an interactive table.\"\n",
              "              style=\"display:none;\">\n",
              "        \n",
              "  <svg xmlns=\"http://www.w3.org/2000/svg\" height=\"24px\"viewBox=\"0 0 24 24\"\n",
              "       width=\"24px\">\n",
              "    <path d=\"M0 0h24v24H0V0z\" fill=\"none\"/>\n",
              "    <path d=\"M18.56 5.44l.94 2.06.94-2.06 2.06-.94-2.06-.94-.94-2.06-.94 2.06-2.06.94zm-11 1L8.5 8.5l.94-2.06 2.06-.94-2.06-.94L8.5 2.5l-.94 2.06-2.06.94zm10 10l.94 2.06.94-2.06 2.06-.94-2.06-.94-.94-2.06-.94 2.06-2.06.94z\"/><path d=\"M17.41 7.96l-1.37-1.37c-.4-.4-.92-.59-1.43-.59-.52 0-1.04.2-1.43.59L10.3 9.45l-7.72 7.72c-.78.78-.78 2.05 0 2.83L4 21.41c.39.39.9.59 1.41.59.51 0 1.02-.2 1.41-.59l7.78-7.78 2.81-2.81c.8-.78.8-2.07 0-2.86zM5.41 20L4 18.59l7.72-7.72 1.47 1.35L5.41 20z\"/>\n",
              "  </svg>\n",
              "      </button>\n",
              "      \n",
              "  <style>\n",
              "    .colab-df-container {\n",
              "      display:flex;\n",
              "      flex-wrap:wrap;\n",
              "      gap: 12px;\n",
              "    }\n",
              "\n",
              "    .colab-df-convert {\n",
              "      background-color: #E8F0FE;\n",
              "      border: none;\n",
              "      border-radius: 50%;\n",
              "      cursor: pointer;\n",
              "      display: none;\n",
              "      fill: #1967D2;\n",
              "      height: 32px;\n",
              "      padding: 0 0 0 0;\n",
              "      width: 32px;\n",
              "    }\n",
              "\n",
              "    .colab-df-convert:hover {\n",
              "      background-color: #E2EBFA;\n",
              "      box-shadow: 0px 1px 2px rgba(60, 64, 67, 0.3), 0px 1px 3px 1px rgba(60, 64, 67, 0.15);\n",
              "      fill: #174EA6;\n",
              "    }\n",
              "\n",
              "    [theme=dark] .colab-df-convert {\n",
              "      background-color: #3B4455;\n",
              "      fill: #D2E3FC;\n",
              "    }\n",
              "\n",
              "    [theme=dark] .colab-df-convert:hover {\n",
              "      background-color: #434B5C;\n",
              "      box-shadow: 0px 1px 3px 1px rgba(0, 0, 0, 0.15);\n",
              "      filter: drop-shadow(0px 1px 2px rgba(0, 0, 0, 0.3));\n",
              "      fill: #FFFFFF;\n",
              "    }\n",
              "  </style>\n",
              "\n",
              "      <script>\n",
              "        const buttonEl =\n",
              "          document.querySelector('#df-bed637fb-fb33-4faf-b4a0-434821082f56 button.colab-df-convert');\n",
              "        buttonEl.style.display =\n",
              "          google.colab.kernel.accessAllowed ? 'block' : 'none';\n",
              "\n",
              "        async function convertToInteractive(key) {\n",
              "          const element = document.querySelector('#df-bed637fb-fb33-4faf-b4a0-434821082f56');\n",
              "          const dataTable =\n",
              "            await google.colab.kernel.invokeFunction('convertToInteractive',\n",
              "                                                     [key], {});\n",
              "          if (!dataTable) return;\n",
              "\n",
              "          const docLinkHtml = 'Like what you see? Visit the ' +\n",
              "            '<a target=\"_blank\" href=https://colab.research.google.com/notebooks/data_table.ipynb>data table notebook</a>'\n",
              "            + ' to learn more about interactive tables.';\n",
              "          element.innerHTML = '';\n",
              "          dataTable['output_type'] = 'display_data';\n",
              "          await google.colab.output.renderOutput(dataTable, element);\n",
              "          const docLink = document.createElement('div');\n",
              "          docLink.innerHTML = docLinkHtml;\n",
              "          element.appendChild(docLink);\n",
              "        }\n",
              "      </script>\n",
              "    </div>\n",
              "  </div>\n",
              "  "
            ]
          },
          "metadata": {},
          "execution_count": 19
        }
      ],
      "source": [
        "# importando pacotes\n",
        "import pandas as pd\n",
        "import matplotlib.pyplot as plt\n",
        "\n",
        "# importando dados\n",
        "data = \"https://raw.githubusercontent.com/carlosfab/dsnp2/master/datasets/dengue-dataset.csv\"\n",
        "df_dengue  = pd.read_csv(data, index_col = \"data\", parse_dates=True)\n",
        "\n",
        "# conferindo as primeiras entradas\n",
        "df_dengue.head()"
      ]
    },
    {
      "cell_type": "code",
      "source": [
        "# plotando numero de casos confirmados\n",
        "fig, ax = plt.subplots()\n",
        "\n",
        "df_dengue['casos-confirmados'].plot(kind='line', ax=ax)\n",
        "ax.set_title(\"Dengue em Campinas\")\n",
        "ax.set_ylabel(\"Casos Confirmados\")\n",
        "ax.set_xlabel(\"Data\")\n",
        "\n",
        "plt.tight_layout()"
      ],
      "metadata": {
        "colab": {
          "base_uri": "https://localhost:8080/",
          "height": 297
        },
        "id": "KxPZKD1vENSJ",
        "outputId": "f5c17317-5f34-4040-fc95-222baad5aff1"
      },
      "execution_count": 20,
      "outputs": [
        {
          "output_type": "display_data",
          "data": {
            "text/plain": [
              "<Figure size 432x288 with 1 Axes>"
            ],
            "image/png": "[encoded data removed]"
          },
          "metadata": {
            "needs_background": "light"
          }
        }
      ]
    },
    {
      "cell_type": "markdown",
      "source": [
        "### Selecionando intervalos"
      ],
      "metadata": {
        "id": "2pr6FN0tOg_r"
      }
    },
    {
      "cell_type": "code",
      "source": [
        "# plotando histograma da temperatura média\n",
        "fig, ax = plt.subplots()\n",
        "#              intervalo               data            plotando\n",
        "df_dengue.loc['2011-01-01':'2013-12-31','temperatura-media'].plot(kind='line', ax=ax)\n",
        "ax.set_title(\"Gráfico da Temperatura Média\")\n",
        "ax.set_ylabel(\"Casos Confirmados\")\n",
        "ax.set_xlabel('Data')\n",
        "\n",
        "plt.tight_layout()"
      ],
      "metadata": {
        "colab": {
          "base_uri": "https://localhost:8080/",
          "height": 297
        },
        "id": "Tb15CCUdIOuG",
        "outputId": "4f315b16-489b-4a62-aec4-8909bf61f0b3"
      },
      "execution_count": 21,
      "outputs": [
        {
          "output_type": "display_data",
          "data": {
            "text/plain": [
              "<Figure size 432x288 with 1 Axes>"
            ],
            "image/png": "[encoded data removed]"
          },
          "metadata": {
            "needs_background": "light"
          }
        }
      ]
    },
    {
      "cell_type": "markdown",
      "source": [
        "### Plotando múltiplos gráficos separadamente"
      ],
      "metadata": {
        "id": "x-B5TRmPPY5G"
      }
    },
    {
      "cell_type": "code",
      "source": [
        "# plotar o histograma da temperatura média \n",
        "fig, (ax0, ax1) = plt.subplots(nrows=2, ncols=1, figsize=(10,4))\n",
        "\n",
        "# plotar temperatura média como ax0\n",
        "df_dengue.loc['2010-01-01':'2013-12-31', 'temperatura-media'].plot(kind='line', ax=ax0)\n",
        "ax0.set_title('Gráfico da Temperatura Média')\n",
        "ax0.set_ylabel('Temperatura Média')\n",
        "ax0.set_xlabel('Data')\n",
        "\n",
        "# plotar casos confirmados como ax1\n",
        "df_dengue.loc['2010-01-01':'2013-12-31', 'casos-confirmados'].plot(kind='line', ax=ax1)\n",
        "ax1.set_title(\"Gráfico dos Casos Confirmados\")\n",
        "ax1.set_ylabel(\"Casos Confirmados\")\n",
        "ax1.set_xlabel(\"Data\")\n",
        "\n",
        "plt.tight_layout()"
      ],
      "metadata": {
        "colab": {
          "base_uri": "https://localhost:8080/",
          "height": 297
        },
        "id": "jUiShXd_PWvC",
        "outputId": "7460692d-1c2c-4706-c2bb-0a1b775b94cc"
      },
      "execution_count": 23,
      "outputs": [
        {
          "output_type": "display_data",
          "data": {
            "text/plain": [
              "<Figure size 720x288 with 2 Axes>"
            ],
            "image/png": "[encoded data removed]"
          },
          "metadata": {
            "needs_background": "light"
          }
        }
      ]
    },
    {
      "cell_type": "markdown",
      "source": [
        "### Plotando múltiplos gráficos sobrepostos\n"
      ],
      "metadata": {
        "id": "fBAdOzLiS96e"
      }
    },
    {
      "cell_type": "code",
      "source": [
        "# plotando gráficos normalizados\n",
        "df_norm = (df_dengue - df_dengue.mean()) / df_dengue.std()\n",
        "fig, ax = plt.subplots(nrows=1, ncols=1, figsize=(10,4))\n",
        "\n",
        "# plotar temperatura média\n",
        "df_norm.loc['2010-01-01':'2013-12-31', 'temperatura-media'].plot(kind='line', ax=ax)\n",
        "\n",
        "# plotar casos confirmados\n",
        "df_norm.loc['2010-01-01':'2013-12-31', 'casos-confirmados'].plot(kind='line', ax=ax)\n",
        "\n",
        "# nomeando eixo-x e title\n",
        "ax.set_xlabel('Data')\n",
        "ax.set_title('Temperatura média X Casos Confirmados')\n",
        "\n",
        "plt.tight_layout()"
      ],
      "metadata": {
        "colab": {
          "base_uri": "https://localhost:8080/",
          "height": 297
        },
        "id": "3HktGPLPPDZT",
        "outputId": "73e6313e-32d3-4220-c3e9-29d5508af6c8"
      },
      "execution_count": 24,
      "outputs": [
        {
          "output_type": "display_data",
          "data": {
            "text/plain": [
              "<Figure size 720x288 with 1 Axes>"
            ],
            "image/png": "[encoded data removed]"
          },
          "metadata": {
            "needs_background": "light"
          }
        }
      ]
    },
    {
      "cell_type": "markdown",
      "source": [
        "## Histograma\n",
        "\n",
        "Diferente de um gráfico de barras comum, o histograma é utilizado para demonstrar a distribuição de frequência ou a quantidade de um determinado ítem. \n",
        "\n",
        "Um histograma de valores absolutos, tem no eixo y a quantidade absoluta de ocorrências dos valores de cada classe. Já um histograma de dados de proporção, conhecido como histograma de área de unidade, exibe a proporção que cada classe representa no todo.\n"
      ],
      "metadata": {
        "id": "5u_AEuaVntMN"
      }
    },
    {
      "cell_type": "markdown",
      "source": [
        "### Plotando o histograma\n",
        "Vamos continuar utilizando os dados referentes aos casos de dengue em Campinas-SP."
      ],
      "metadata": {
        "id": "KDsrEFFJoXKN"
      }
    },
    {
      "cell_type": "code",
      "source": [
        "# plotar histograma para temperatura média\n",
        "\n",
        "fig, ax = plt.subplots()\n",
        "\n",
        "ax.hist(\"temperatura-media\", data=df_dengue)\n",
        "ax.set_title(\"Histograma da Temperatura Média\")\n",
        "ax.set_ylabel(\"Quantidade de Ocorrências\")\n",
        "ax.set_xlabel(\"Temperatura\")\n",
        "\n",
        "plt.tight_layout()"
      ],
      "metadata": {
        "colab": {
          "base_uri": "https://localhost:8080/",
          "height": 297
        },
        "id": "L-id2vuKTSQX",
        "outputId": "6f5c46c1-550c-4c90-ab26-750d9af5ffaa"
      },
      "execution_count": 26,
      "outputs": [
        {
          "output_type": "display_data",
          "data": {
            "text/plain": [
              "<Figure size 432x288 with 1 Axes>"
            ],
            "image/png": "[encoded data removed]"
          },
          "metadata": {
            "needs_background": "light"
          }
        }
      ]
    },
    {
      "cell_type": "markdown",
      "source": [
        "O histograma acima está representando os valores absolutos no eixo y. Para plotar em termos de frequência relativa, acrescenta-se density=True dentro da função.\n",
        "\n",
        "A quantidade de barras (`bins`) tem seu valor padrão, porém pode ser alterada para buscar uma maior acurácia no resultado"
      ],
      "metadata": {
        "id": "xgXFdLjqpP9q"
      }
    },
    {
      "cell_type": "code",
      "source": [
        "# plotar o histograma da temperatura média\n",
        "fig, ax = plt.subplots()\n",
        "\n",
        "# density altera os valores para o eixo y\n",
        "ax.hist('temperatura-media', data=df_dengue, density=True, bins=30) \n",
        "ax.set_title(\"Histograma da Temperatura Média\")\n",
        "ax.set_ylabel(\"Frequência de ocorrências\")\n",
        "ax.set_xlabel(\"Temperatura\")\n",
        "\n",
        "plt.tight_layout()"
      ],
      "metadata": {
        "colab": {
          "base_uri": "https://localhost:8080/",
          "height": 297
        },
        "id": "z9qN7swjo6_q",
        "outputId": "2367408b-576e-4f96-b46f-06d3dca5bfa3"
      },
      "execution_count": 27,
      "outputs": [
        {
          "output_type": "display_data",
          "data": {
            "text/plain": [
              "<Figure size 432x288 with 1 Axes>"
            ],
            "image/png": "[encoded data removed]"
          },
          "metadata": {
            "needs_background": "light"
          }
        }
      ]
    },
    {
      "cell_type": "markdown",
      "source": [
        "## Gráfico de Barras\n",
        "\n",
        "o Gráfico de barras diferente do histograma, indica atraves do comprimento ou altura, dependendo de sua orientação, um valor proporcional àquilo que busca representar, a particularidade do histograma é de representar o historico de um determinado evento, já no gráfico de barras a idéia é de apenas representar um valor.\n",
        "\n",
        "De maneira simples, cumpre com seu papel de informar um dado de maneira direta porém discreta. Apresenta uma fácil interpretação do leitor, exige menos processamento de informação. \n",
        "\n",
        "O gráfico de barras parte de um ponto zero, podendo informar simultaneamente valores positivos e negativos, o que deve ser feito com cautela para que não fuja da sua simplicidade, uma vez que pode ser plotado com um número grande de barras e excesso de legendas."
      ],
      "metadata": {
        "id": "OIbJoxc_q3ne"
      }
    },
    {
      "cell_type": "markdown",
      "source": [
        "### Plotando Gráfico de Barras\n",
        "\n",
        "Para este exemplo, utilizaremos um conjunto de dados públicos referentes ao Metrô de São Paulo.\n",
        "\n",
        "Este *dataset* assim como diversos outros podem ser encontrados no [Portal da Governança Corporativa e Transparência](https://transparencia.metrosp.com.br/). Neste portal é possível encontrar dados referentes à evolução de obras, gestão financeira, projetos futuros.\n",
        "\n",
        "O *dataset* a ser utilizado é \"Entrada de Passageiros por Estação - Média Dias Úteis - Dezembro/2018\". Mesmo com os dados já disponíveis em `.csv`, foi necessário realizar um trabalho em cima das informações, e mais uma vez quem ficou responsável por este feito, foi o professor Carlos Melo da Familia [Sigmoidal](https://sigmoidal.ai), que nos disponibilizou o arquivo já estruturado [neste link](https://raw.githubusercontent.com/carlosfab/dsnp2/master/datasets/entrada_passageiro_linha1.csv).\n",
        "\n"
      ],
      "metadata": {
        "id": "ChQ74JmMuuXc"
      }
    },
    {
      "cell_type": "code",
      "source": [
        "# importando pacotes   \n",
        "import pandas as pd\n",
        "import matplotlib.pyplot as plt\n",
        "\n",
        "# importando os dados\n",
        "data_metro = \"https://raw.githubusercontent.com/carlosfab/dsnp2/master/datasets/entrada_passageiro_linha1.csv\"\n",
        "df_metro = pd.read_csv(data_metro)\n",
        "\n",
        "#conferindo as primeiras entradas\n",
        "df_metro.head()"
      ],
      "metadata": {
        "colab": {
          "base_uri": "https://localhost:8080/",
          "height": 206
        },
        "id": "1vtd0_zRpXCo",
        "outputId": "b1c7f4b1-0adc-4604-9a0b-b54caf4c3045"
      },
      "execution_count": 8,
      "outputs": [
        {
          "output_type": "execute_result",
          "data": {
            "text/plain": [
              "           Estação  Entradas\n",
              "0        Jabaquara      90.0\n",
              "1        Conceição      40.0\n",
              "2        São Judas      20.0\n",
              "3            Saúde      36.0\n",
              "4  Praça da Árvore      22.0"
            ],
            "text/html": [
              "\n",
              "  <div id=\"df-0d7f6dc8-8d8e-4b9a-930c-2acb26aec977\">\n",
              "    <div class=\"colab-df-container\">\n",
              "      <div>\n",
              "<style scoped>\n",
              "    .dataframe tbody tr th:only-of-type {\n",
              "        vertical-align: middle;\n",
              "    }\n",
              "\n",
              "    .dataframe tbody tr th {\n",
              "        vertical-align: top;\n",
              "    }\n",
              "\n",
              "    .dataframe thead th {\n",
              "        text-align: right;\n",
              "    }\n",
              "</style>\n",
              "<table border=\"1\" class=\"dataframe\">\n",
              "  <thead>\n",
              "    <tr style=\"text-align: right;\">\n",
              "      <th></th>\n",
              "      <th>Estação</th>\n",
              "      <th>Entradas</th>\n",
              "    </tr>\n",
              "  </thead>\n",
              "  <tbody>\n",
              "    <tr>\n",
              "      <th>0</th>\n",
              "      <td>Jabaquara</td>\n",
              "      <td>90.0</td>\n",
              "    </tr>\n",
              "    <tr>\n",
              "      <th>1</th>\n",
              "      <td>Conceição</td>\n",
              "      <td>40.0</td>\n",
              "    </tr>\n",
              "    <tr>\n",
              "      <th>2</th>\n",
              "      <td>São Judas</td>\n",
              "      <td>20.0</td>\n",
              "    </tr>\n",
              "    <tr>\n",
              "      <th>3</th>\n",
              "      <td>Saúde</td>\n",
              "      <td>36.0</td>\n",
              "    </tr>\n",
              "    <tr>\n",
              "      <th>4</th>\n",
              "      <td>Praça da Árvore</td>\n",
              "      <td>22.0</td>\n",
              "    </tr>\n",
              "  </tbody>\n",
              "</table>\n",
              "</div>\n",
              "      <button class=\"colab-df-convert\" onclick=\"convertToInteractive('df-0d7f6dc8-8d8e-4b9a-930c-2acb26aec977')\"\n",
              "              title=\"Convert this dataframe to an interactive table.\"\n",
              "              style=\"display:none;\">\n",
              "        \n",
              "  <svg xmlns=\"http://www.w3.org/2000/svg\" height=\"24px\"viewBox=\"0 0 24 24\"\n",
              "       width=\"24px\">\n",
              "    <path d=\"M0 0h24v24H0V0z\" fill=\"none\"/>\n",
              "    <path d=\"M18.56 5.44l.94 2.06.94-2.06 2.06-.94-2.06-.94-.94-2.06-.94 2.06-2.06.94zm-11 1L8.5 8.5l.94-2.06 2.06-.94-2.06-.94L8.5 2.5l-.94 2.06-2.06.94zm10 10l.94 2.06.94-2.06 2.06-.94-2.06-.94-.94-2.06-.94 2.06-2.06.94z\"/><path d=\"M17.41 7.96l-1.37-1.37c-.4-.4-.92-.59-1.43-.59-.52 0-1.04.2-1.43.59L10.3 9.45l-7.72 7.72c-.78.78-.78 2.05 0 2.83L4 21.41c.39.39.9.59 1.41.59.51 0 1.02-.2 1.41-.59l7.78-7.78 2.81-2.81c.8-.78.8-2.07 0-2.86zM5.41 20L4 18.59l7.72-7.72 1.47 1.35L5.41 20z\"/>\n",
              "  </svg>\n",
              "      </button>\n",
              "      \n",
              "  <style>\n",
              "    .colab-df-container {\n",
              "      display:flex;\n",
              "      flex-wrap:wrap;\n",
              "      gap: 12px;\n",
              "    }\n",
              "\n",
              "    .colab-df-convert {\n",
              "      background-color: #E8F0FE;\n",
              "      border: none;\n",
              "      border-radius: 50%;\n",
              "      cursor: pointer;\n",
              "      display: none;\n",
              "      fill: #1967D2;\n",
              "      height: 32px;\n",
              "      padding: 0 0 0 0;\n",
              "      width: 32px;\n",
              "    }\n",
              "\n",
              "    .colab-df-convert:hover {\n",
              "      background-color: #E2EBFA;\n",
              "      box-shadow: 0px 1px 2px rgba(60, 64, 67, 0.3), 0px 1px 3px 1px rgba(60, 64, 67, 0.15);\n",
              "      fill: #174EA6;\n",
              "    }\n",
              "\n",
              "    [theme=dark] .colab-df-convert {\n",
              "      background-color: #3B4455;\n",
              "      fill: #D2E3FC;\n",
              "    }\n",
              "\n",
              "    [theme=dark] .colab-df-convert:hover {\n",
              "      background-color: #434B5C;\n",
              "      box-shadow: 0px 1px 3px 1px rgba(0, 0, 0, 0.15);\n",
              "      filter: drop-shadow(0px 1px 2px rgba(0, 0, 0, 0.3));\n",
              "      fill: #FFFFFF;\n",
              "    }\n",
              "  </style>\n",
              "\n",
              "      <script>\n",
              "        const buttonEl =\n",
              "          document.querySelector('#df-0d7f6dc8-8d8e-4b9a-930c-2acb26aec977 button.colab-df-convert');\n",
              "        buttonEl.style.display =\n",
              "          google.colab.kernel.accessAllowed ? 'block' : 'none';\n",
              "\n",
              "        async function convertToInteractive(key) {\n",
              "          const element = document.querySelector('#df-0d7f6dc8-8d8e-4b9a-930c-2acb26aec977');\n",
              "          const dataTable =\n",
              "            await google.colab.kernel.invokeFunction('convertToInteractive',\n",
              "                                                     [key], {});\n",
              "          if (!dataTable) return;\n",
              "\n",
              "          const docLinkHtml = 'Like what you see? Visit the ' +\n",
              "            '<a target=\"_blank\" href=https://colab.research.google.com/notebooks/data_table.ipynb>data table notebook</a>'\n",
              "            + ' to learn more about interactive tables.';\n",
              "          element.innerHTML = '';\n",
              "          dataTable['output_type'] = 'display_data';\n",
              "          await google.colab.output.renderOutput(dataTable, element);\n",
              "          const docLink = document.createElement('div');\n",
              "          docLink.innerHTML = docLinkHtml;\n",
              "          element.appendChild(docLink);\n",
              "        }\n",
              "      </script>\n",
              "    </div>\n",
              "  </div>\n",
              "  "
            ]
          },
          "metadata": {},
          "execution_count": 8
        }
      ]
    },
    {
      "cell_type": "code",
      "source": [
        "# conferindo as ultimas entradas\n",
        "df_metro.tail()"
      ],
      "metadata": {
        "colab": {
          "base_uri": "https://localhost:8080/",
          "height": 206
        },
        "id": "QqMSIO54wgHL",
        "outputId": "0380e222-3c19-4efd-916a-b5ae14bafed3"
      },
      "execution_count": 9,
      "outputs": [
        {
          "output_type": "execute_result",
          "data": {
            "text/plain": [
              "                          Estação  Entradas\n",
              "19                        Santana    64.000\n",
              "20  Jardim São Paulo-Ayrton Senna    14.000\n",
              "21                 Parada Inglesa    16.000\n",
              "22                       Tucuruvi    70.000\n",
              "23                          TOTAL     1.425"
            ],
            "text/html": [
              "\n",
              "  <div id=\"df-d3bc00b5-87cd-4c35-b0cd-9de54ee1c068\">\n",
              "    <div class=\"colab-df-container\">\n",
              "      <div>\n",
              "<style scoped>\n",
              "    .dataframe tbody tr th:only-of-type {\n",
              "        vertical-align: middle;\n",
              "    }\n",
              "\n",
              "    .dataframe tbody tr th {\n",
              "        vertical-align: top;\n",
              "    }\n",
              "\n",
              "    .dataframe thead th {\n",
              "        text-align: right;\n",
              "    }\n",
              "</style>\n",
              "<table border=\"1\" class=\"dataframe\">\n",
              "  <thead>\n",
              "    <tr style=\"text-align: right;\">\n",
              "      <th></th>\n",
              "      <th>Estação</th>\n",
              "      <th>Entradas</th>\n",
              "    </tr>\n",
              "  </thead>\n",
              "  <tbody>\n",
              "    <tr>\n",
              "      <th>19</th>\n",
              "      <td>Santana</td>\n",
              "      <td>64.000</td>\n",
              "    </tr>\n",
              "    <tr>\n",
              "      <th>20</th>\n",
              "      <td>Jardim São Paulo-Ayrton Senna</td>\n",
              "      <td>14.000</td>\n",
              "    </tr>\n",
              "    <tr>\n",
              "      <th>21</th>\n",
              "      <td>Parada Inglesa</td>\n",
              "      <td>16.000</td>\n",
              "    </tr>\n",
              "    <tr>\n",
              "      <th>22</th>\n",
              "      <td>Tucuruvi</td>\n",
              "      <td>70.000</td>\n",
              "    </tr>\n",
              "    <tr>\n",
              "      <th>23</th>\n",
              "      <td>TOTAL</td>\n",
              "      <td>1.425</td>\n",
              "    </tr>\n",
              "  </tbody>\n",
              "</table>\n",
              "</div>\n",
              "      <button class=\"colab-df-convert\" onclick=\"convertToInteractive('df-d3bc00b5-87cd-4c35-b0cd-9de54ee1c068')\"\n",
              "              title=\"Convert this dataframe to an interactive table.\"\n",
              "              style=\"display:none;\">\n",
              "        \n",
              "  <svg xmlns=\"http://www.w3.org/2000/svg\" height=\"24px\"viewBox=\"0 0 24 24\"\n",
              "       width=\"24px\">\n",
              "    <path d=\"M0 0h24v24H0V0z\" fill=\"none\"/>\n",
              "    <path d=\"M18.56 5.44l.94 2.06.94-2.06 2.06-.94-2.06-.94-.94-2.06-.94 2.06-2.06.94zm-11 1L8.5 8.5l.94-2.06 2.06-.94-2.06-.94L8.5 2.5l-.94 2.06-2.06.94zm10 10l.94 2.06.94-2.06 2.06-.94-2.06-.94-.94-2.06-.94 2.06-2.06.94z\"/><path d=\"M17.41 7.96l-1.37-1.37c-.4-.4-.92-.59-1.43-.59-.52 0-1.04.2-1.43.59L10.3 9.45l-7.72 7.72c-.78.78-.78 2.05 0 2.83L4 21.41c.39.39.9.59 1.41.59.51 0 1.02-.2 1.41-.59l7.78-7.78 2.81-2.81c.8-.78.8-2.07 0-2.86zM5.41 20L4 18.59l7.72-7.72 1.47 1.35L5.41 20z\"/>\n",
              "  </svg>\n",
              "      </button>\n",
              "      \n",
              "  <style>\n",
              "    .colab-df-container {\n",
              "      display:flex;\n",
              "      flex-wrap:wrap;\n",
              "      gap: 12px;\n",
              "    }\n",
              "\n",
              "    .colab-df-convert {\n",
              "      background-color: #E8F0FE;\n",
              "      border: none;\n",
              "      border-radius: 50%;\n",
              "      cursor: pointer;\n",
              "      display: none;\n",
              "      fill: #1967D2;\n",
              "      height: 32px;\n",
              "      padding: 0 0 0 0;\n",
              "      width: 32px;\n",
              "    }\n",
              "\n",
              "    .colab-df-convert:hover {\n",
              "      background-color: #E2EBFA;\n",
              "      box-shadow: 0px 1px 2px rgba(60, 64, 67, 0.3), 0px 1px 3px 1px rgba(60, 64, 67, 0.15);\n",
              "      fill: #174EA6;\n",
              "    }\n",
              "\n",
              "    [theme=dark] .colab-df-convert {\n",
              "      background-color: #3B4455;\n",
              "      fill: #D2E3FC;\n",
              "    }\n",
              "\n",
              "    [theme=dark] .colab-df-convert:hover {\n",
              "      background-color: #434B5C;\n",
              "      box-shadow: 0px 1px 3px 1px rgba(0, 0, 0, 0.15);\n",
              "      filter: drop-shadow(0px 1px 2px rgba(0, 0, 0, 0.3));\n",
              "      fill: #FFFFFF;\n",
              "    }\n",
              "  </style>\n",
              "\n",
              "      <script>\n",
              "        const buttonEl =\n",
              "          document.querySelector('#df-d3bc00b5-87cd-4c35-b0cd-9de54ee1c068 button.colab-df-convert');\n",
              "        buttonEl.style.display =\n",
              "          google.colab.kernel.accessAllowed ? 'block' : 'none';\n",
              "\n",
              "        async function convertToInteractive(key) {\n",
              "          const element = document.querySelector('#df-d3bc00b5-87cd-4c35-b0cd-9de54ee1c068');\n",
              "          const dataTable =\n",
              "            await google.colab.kernel.invokeFunction('convertToInteractive',\n",
              "                                                     [key], {});\n",
              "          if (!dataTable) return;\n",
              "\n",
              "          const docLinkHtml = 'Like what you see? Visit the ' +\n",
              "            '<a target=\"_blank\" href=https://colab.research.google.com/notebooks/data_table.ipynb>data table notebook</a>'\n",
              "            + ' to learn more about interactive tables.';\n",
              "          element.innerHTML = '';\n",
              "          dataTable['output_type'] = 'display_data';\n",
              "          await google.colab.output.renderOutput(dataTable, element);\n",
              "          const docLink = document.createElement('div');\n",
              "          docLink.innerHTML = docLinkHtml;\n",
              "          element.appendChild(docLink);\n",
              "        }\n",
              "      </script>\n",
              "    </div>\n",
              "  </div>\n",
              "  "
            ]
          },
          "metadata": {},
          "execution_count": 9
        }
      ]
    },
    {
      "cell_type": "markdown",
      "source": [
        "A ultima linha deste *dataset* informa o valor da soma total de todas as entradas, o que não nos trás benefício para o exemplo em questão, portanto vamos apagá-la."
      ],
      "metadata": {
        "id": "0JhjiWGcxqNA"
      }
    },
    {
      "cell_type": "code",
      "source": [
        "# apagando linha `TOTAL`\n",
        "df_metro.drop(index=23, axis=0, inplace=True)"
      ],
      "metadata": {
        "id": "zGWX1Uskxh46"
      },
      "execution_count": 10,
      "outputs": []
    },
    {
      "cell_type": "code",
      "source": [
        "# plotando gráfico de barras com a entrada média dos passageiros\n",
        "fig, ax = plt.subplots(figsize=(10,6))\n",
        "\n",
        "df_metro.plot(x='Estação', y='Entradas', kind='bar', ax=ax)\n",
        "\n",
        "ax.set_title(\"Entrada média de Passageiros - Linha 1 (Dez/2018)\")\n",
        "ax.set_xlabel(\"Estação\", fontsize=30)\n",
        "ax.set_ylabel(\"Entradas\", fontsize=20)\n",
        "\n",
        "plt.tight_layout()"
      ],
      "metadata": {
        "colab": {
          "base_uri": "https://localhost:8080/",
          "height": 441
        },
        "id": "1r1ea9zSyBAQ",
        "outputId": "5e428578-92f0-4aed-f91d-8162ba4c5885"
      },
      "execution_count": 11,
      "outputs": [
        {
          "output_type": "display_data",
          "data": {
            "text/plain": [
              "<Figure size 720x432 with 1 Axes>"
            ],
            "image/png": "[encoded data removed]"
          },
          "metadata": {
            "needs_background": "light"
          }
        }
      ]
    },
    {
      "cell_type": "markdown",
      "source": [
        "Agora em outro exemplo, vamos utilizar um conjunto de dados de uma pesquisa feita pela Data Hackers, a respeito da situação do Data Science no Brasil em 2019. \n",
        "\n",
        "A pesquisa conta com 36 perguntas, os dados foram disponibilizados na plataforma Kaggle, preservando o anonimato dos participantes."
      ],
      "metadata": {
        "id": "SwPbmiFW1VdF"
      }
    },
    {
      "cell_type": "code",
      "source": [
        "# importando dataset \n",
        "data_pesquisa = \"https://www.dropbox.com/s/ttho30qxqe47j43/datahackers-survey-2019-anonymous-responses.csv?dl=1\"\n",
        "df_pesquisa = pd.read_csv(data_pesquisa)\n",
        "\n",
        "#conferindo as primeiras entradas\n",
        "df_pesquisa.head()"
      ],
      "metadata": {
        "colab": {
          "base_uri": "https://localhost:8080/",
          "height": 421
        },
        "id": "AWy_k6xoyPMM",
        "outputId": "2264fc9e-a647-450a-975e-a186c488c9be"
      },
      "execution_count": 12,
      "outputs": [
        {
          "output_type": "execute_result",
          "data": {
            "text/plain": [
              "                       ('P0', 'id')  ('P1', 'age') ('P2', 'gender')  \\\n",
              "0  v9otv8j9wdvjrv9otvwnn9owhzq54ktv           37.0        Masculino   \n",
              "1  875ul998t0hqcv0871uptwf3oswcfv35           24.0         Feminino   \n",
              "2  puscuk079vw1pusbb900pzw2xvpxtgdk           26.0        Masculino   \n",
              "3  rmel8ewqpbffp2mnfbzermel8eqincov           21.0        Masculino   \n",
              "4  pj9mgud4d6mdct1l7vq0pj9mgu78h6ju           27.0        Masculino   \n",
              "\n",
              "   ('P3', 'living_in_brasil') ('P5', 'living_state')  \\\n",
              "0                           1      Minas Gerais (MG)   \n",
              "1                           1         São Paulo (SP)   \n",
              "2                           1         São Paulo (SP)   \n",
              "3                           1         São Paulo (SP)   \n",
              "4                           1                    NaN   \n",
              "\n",
              "   ('P6', 'born_or_graduated') ('P8', 'degreee_level')  \\\n",
              "0                          1.0  Estudante de Graduação   \n",
              "1                          1.0  Estudante de Graduação   \n",
              "2                          1.0   Graduação/Bacharelado   \n",
              "3                          0.0  Estudante de Graduação   \n",
              "4                          1.0   Graduação/Bacharelado   \n",
              "\n",
              "  ('P10', 'job_situation') ('P12', 'workers_number')  ('P13', 'manager')  ...  \\\n",
              "0          Empregado (CTL)                  de 1 a 5                 0.0  ...   \n",
              "1          Empregado (CTL)             Acima de 3000                 0.0  ...   \n",
              "2          Empregado (CTL)             Acima de 3000                 0.0  ...   \n",
              "3               Estagiário                de 11 a 50                 0.0  ...   \n",
              "4               Freelancer                 de 6 a 10                 1.0  ...   \n",
              "\n",
              "  ('P34', 'other') ('P35', 'data_science_plataforms_preference')  \\\n",
              "0                0                       Nunca fiz cursos online   \n",
              "1                1                                           NaN   \n",
              "2                0                                         Udemy   \n",
              "3                0                                         Alura   \n",
              "4                0                                         Udemy   \n",
              "\n",
              "       ('P35', 'other')  ('P36', 'draw_participation')  \\\n",
              "0                   NaN                            1.0   \n",
              "1  Data Science Academy                            0.0   \n",
              "2                   NaN                            1.0   \n",
              "3                   NaN                            1.0   \n",
              "4                   NaN                            1.0   \n",
              "\n",
              "   ('D1', 'living_macroregion')  ('D2', 'origin_macroregion')  \\\n",
              "0                Região Sudeste                           NaN   \n",
              "1                Região Sudeste                           NaN   \n",
              "2                Região Sudeste                           NaN   \n",
              "3                Região Sudeste                Região Sudeste   \n",
              "4                           NaN                           NaN   \n",
              "\n",
              "                    ('D3', 'anonymized_degree_area')  \\\n",
              "0  Computação / Engenharia de Software / Sistemas...   \n",
              "1  Computação / Engenharia de Software / Sistemas...   \n",
              "2                                 Outras Engenharias   \n",
              "3  Computação / Engenharia de Software / Sistemas...   \n",
              "4  Computação / Engenharia de Software / Sistemas...   \n",
              "\n",
              "   ('D4', 'anonymized_market_sector')  ('D5', 'anonymized_manager_level')  \\\n",
              "0                              Outras                                 NaN   \n",
              "1                            Educação                                 NaN   \n",
              "2              Indústria (Manufatura)                                 NaN   \n",
              "3      Tecnologia/Fábrica de Software                                 NaN   \n",
              "4                  Internet/Ecommerce             C-level (CDO, CIO, CTO)   \n",
              "\n",
              "              ('D6', 'anonymized_role')  \n",
              "0                                Outras  \n",
              "1        Data Analyst/Analista de Dados  \n",
              "2                                Outras  \n",
              "3  Business Intelligence/Analista de BI  \n",
              "4                                   NaN  \n",
              "\n",
              "[5 rows x 170 columns]"
            ],
            "text/html": [
              "\n",
              "  <div id=\"df-491796d6-9787-4b3e-b1d6-e8a352446286\">\n",
              "    <div class=\"colab-df-container\">\n",
              "      <div>\n",
              "<style scoped>\n",
              "    .dataframe tbody tr th:only-of-type {\n",
              "        vertical-align: middle;\n",
              "    }\n",
              "\n",
              "    .dataframe tbody tr th {\n",
              "        vertical-align: top;\n",
              "    }\n",
              "\n",
              "    .dataframe thead th {\n",
              "        text-align: right;\n",
              "    }\n",
              "</style>\n",
              "<table border=\"1\" class=\"dataframe\">\n",
              "  <thead>\n",
              "    <tr style=\"text-align: right;\">\n",
              "      <th></th>\n",
              "      <th>('P0', 'id')</th>\n",
              "      <th>('P1', 'age')</th>\n",
              "      <th>('P2', 'gender')</th>\n",
              "      <th>('P3', 'living_in_brasil')</th>\n",
              "      <th>('P5', 'living_state')</th>\n",
              "      <th>('P6', 'born_or_graduated')</th>\n",
              "      <th>('P8', 'degreee_level')</th>\n",
              "      <th>('P10', 'job_situation')</th>\n",
              "      <th>('P12', 'workers_number')</th>\n",
              "      <th>('P13', 'manager')</th>\n",
              "      <th>...</th>\n",
              "      <th>('P34', 'other')</th>\n",
              "      <th>('P35', 'data_science_plataforms_preference')</th>\n",
              "      <th>('P35', 'other')</th>\n",
              "      <th>('P36', 'draw_participation')</th>\n",
              "      <th>('D1', 'living_macroregion')</th>\n",
              "      <th>('D2', 'origin_macroregion')</th>\n",
              "      <th>('D3', 'anonymized_degree_area')</th>\n",
              "      <th>('D4', 'anonymized_market_sector')</th>\n",
              "      <th>('D5', 'anonymized_manager_level')</th>\n",
              "      <th>('D6', 'anonymized_role')</th>\n",
              "    </tr>\n",
              "  </thead>\n",
              "  <tbody>\n",
              "    <tr>\n",
              "      <th>0</th>\n",
              "      <td>v9otv8j9wdvjrv9otvwnn9owhzq54ktv</td>\n",
              "      <td>37.0</td>\n",
              "      <td>Masculino</td>\n",
              "      <td>1</td>\n",
              "      <td>Minas Gerais (MG)</td>\n",
              "      <td>1.0</td>\n",
              "      <td>Estudante de Graduação</td>\n",
              "      <td>Empregado (CTL)</td>\n",
              "      <td>de 1 a 5</td>\n",
              "      <td>0.0</td>\n",
              "      <td>...</td>\n",
              "      <td>0</td>\n",
              "      <td>Nunca fiz cursos online</td>\n",
              "      <td>NaN</td>\n",
              "      <td>1.0</td>\n",
              "      <td>Região Sudeste</td>\n",
              "      <td>NaN</td>\n",
              "      <td>Computação / Engenharia de Software / Sistemas...</td>\n",
              "      <td>Outras</td>\n",
              "      <td>NaN</td>\n",
              "      <td>Outras</td>\n",
              "    </tr>\n",
              "    <tr>\n",
              "      <th>1</th>\n",
              "      <td>875ul998t0hqcv0871uptwf3oswcfv35</td>\n",
              "      <td>24.0</td>\n",
              "      <td>Feminino</td>\n",
              "      <td>1</td>\n",
              "      <td>São Paulo (SP)</td>\n",
              "      <td>1.0</td>\n",
              "      <td>Estudante de Graduação</td>\n",
              "      <td>Empregado (CTL)</td>\n",
              "      <td>Acima de 3000</td>\n",
              "      <td>0.0</td>\n",
              "      <td>...</td>\n",
              "      <td>1</td>\n",
              "      <td>NaN</td>\n",
              "      <td>Data Science Academy</td>\n",
              "      <td>0.0</td>\n",
              "      <td>Região Sudeste</td>\n",
              "      <td>NaN</td>\n",
              "      <td>Computação / Engenharia de Software / Sistemas...</td>\n",
              "      <td>Educação</td>\n",
              "      <td>NaN</td>\n",
              "      <td>Data Analyst/Analista de Dados</td>\n",
              "    </tr>\n",
              "    <tr>\n",
              "      <th>2</th>\n",
              "      <td>puscuk079vw1pusbb900pzw2xvpxtgdk</td>\n",
              "      <td>26.0</td>\n",
              "      <td>Masculino</td>\n",
              "      <td>1</td>\n",
              "      <td>São Paulo (SP)</td>\n",
              "      <td>1.0</td>\n",
              "      <td>Graduação/Bacharelado</td>\n",
              "      <td>Empregado (CTL)</td>\n",
              "      <td>Acima de 3000</td>\n",
              "      <td>0.0</td>\n",
              "      <td>...</td>\n",
              "      <td>0</td>\n",
              "      <td>Udemy</td>\n",
              "      <td>NaN</td>\n",
              "      <td>1.0</td>\n",
              "      <td>Região Sudeste</td>\n",
              "      <td>NaN</td>\n",
              "      <td>Outras Engenharias</td>\n",
              "      <td>Indústria (Manufatura)</td>\n",
              "      <td>NaN</td>\n",
              "      <td>Outras</td>\n",
              "    </tr>\n",
              "    <tr>\n",
              "      <th>3</th>\n",
              "      <td>rmel8ewqpbffp2mnfbzermel8eqincov</td>\n",
              "      <td>21.0</td>\n",
              "      <td>Masculino</td>\n",
              "      <td>1</td>\n",
              "      <td>São Paulo (SP)</td>\n",
              "      <td>0.0</td>\n",
              "      <td>Estudante de Graduação</td>\n",
              "      <td>Estagiário</td>\n",
              "      <td>de 11 a 50</td>\n",
              "      <td>0.0</td>\n",
              "      <td>...</td>\n",
              "      <td>0</td>\n",
              "      <td>Alura</td>\n",
              "      <td>NaN</td>\n",
              "      <td>1.0</td>\n",
              "      <td>Região Sudeste</td>\n",
              "      <td>Região Sudeste</td>\n",
              "      <td>Computação / Engenharia de Software / Sistemas...</td>\n",
              "      <td>Tecnologia/Fábrica de Software</td>\n",
              "      <td>NaN</td>\n",
              "      <td>Business Intelligence/Analista de BI</td>\n",
              "    </tr>\n",
              "    <tr>\n",
              "      <th>4</th>\n",
              "      <td>pj9mgud4d6mdct1l7vq0pj9mgu78h6ju</td>\n",
              "      <td>27.0</td>\n",
              "      <td>Masculino</td>\n",
              "      <td>1</td>\n",
              "      <td>NaN</td>\n",
              "      <td>1.0</td>\n",
              "      <td>Graduação/Bacharelado</td>\n",
              "      <td>Freelancer</td>\n",
              "      <td>de 6 a 10</td>\n",
              "      <td>1.0</td>\n",
              "      <td>...</td>\n",
              "      <td>0</td>\n",
              "      <td>Udemy</td>\n",
              "      <td>NaN</td>\n",
              "      <td>1.0</td>\n",
              "      <td>NaN</td>\n",
              "      <td>NaN</td>\n",
              "      <td>Computação / Engenharia de Software / Sistemas...</td>\n",
              "      <td>Internet/Ecommerce</td>\n",
              "      <td>C-level (CDO, CIO, CTO)</td>\n",
              "      <td>NaN</td>\n",
              "    </tr>\n",
              "  </tbody>\n",
              "</table>\n",
              "<p>5 rows × 170 columns</p>\n",
              "</div>\n",
              "      <button class=\"colab-df-convert\" onclick=\"convertToInteractive('df-491796d6-9787-4b3e-b1d6-e8a352446286')\"\n",
              "              title=\"Convert this dataframe to an interactive table.\"\n",
              "              style=\"display:none;\">\n",
              "        \n",
              "  <svg xmlns=\"http://www.w3.org/2000/svg\" height=\"24px\"viewBox=\"0 0 24 24\"\n",
              "       width=\"24px\">\n",
              "    <path d=\"M0 0h24v24H0V0z\" fill=\"none\"/>\n",
              "    <path d=\"M18.56 5.44l.94 2.06.94-2.06 2.06-.94-2.06-.94-.94-2.06-.94 2.06-2.06.94zm-11 1L8.5 8.5l.94-2.06 2.06-.94-2.06-.94L8.5 2.5l-.94 2.06-2.06.94zm10 10l.94 2.06.94-2.06 2.06-.94-2.06-.94-.94-2.06-.94 2.06-2.06.94z\"/><path d=\"M17.41 7.96l-1.37-1.37c-.4-.4-.92-.59-1.43-.59-.52 0-1.04.2-1.43.59L10.3 9.45l-7.72 7.72c-.78.78-.78 2.05 0 2.83L4 21.41c.39.39.9.59 1.41.59.51 0 1.02-.2 1.41-.59l7.78-7.78 2.81-2.81c.8-.78.8-2.07 0-2.86zM5.41 20L4 18.59l7.72-7.72 1.47 1.35L5.41 20z\"/>\n",
              "  </svg>\n",
              "      </button>\n",
              "      \n",
              "  <style>\n",
              "    .colab-df-container {\n",
              "      display:flex;\n",
              "      flex-wrap:wrap;\n",
              "      gap: 12px;\n",
              "    }\n",
              "\n",
              "    .colab-df-convert {\n",
              "      background-color: #E8F0FE;\n",
              "      border: none;\n",
              "      border-radius: 50%;\n",
              "      cursor: pointer;\n",
              "      display: none;\n",
              "      fill: #1967D2;\n",
              "      height: 32px;\n",
              "      padding: 0 0 0 0;\n",
              "      width: 32px;\n",
              "    }\n",
              "\n",
              "    .colab-df-convert:hover {\n",
              "      background-color: #E2EBFA;\n",
              "      box-shadow: 0px 1px 2px rgba(60, 64, 67, 0.3), 0px 1px 3px 1px rgba(60, 64, 67, 0.15);\n",
              "      fill: #174EA6;\n",
              "    }\n",
              "\n",
              "    [theme=dark] .colab-df-convert {\n",
              "      background-color: #3B4455;\n",
              "      fill: #D2E3FC;\n",
              "    }\n",
              "\n",
              "    [theme=dark] .colab-df-convert:hover {\n",
              "      background-color: #434B5C;\n",
              "      box-shadow: 0px 1px 3px 1px rgba(0, 0, 0, 0.15);\n",
              "      filter: drop-shadow(0px 1px 2px rgba(0, 0, 0, 0.3));\n",
              "      fill: #FFFFFF;\n",
              "    }\n",
              "  </style>\n",
              "\n",
              "      <script>\n",
              "        const buttonEl =\n",
              "          document.querySelector('#df-491796d6-9787-4b3e-b1d6-e8a352446286 button.colab-df-convert');\n",
              "        buttonEl.style.display =\n",
              "          google.colab.kernel.accessAllowed ? 'block' : 'none';\n",
              "\n",
              "        async function convertToInteractive(key) {\n",
              "          const element = document.querySelector('#df-491796d6-9787-4b3e-b1d6-e8a352446286');\n",
              "          const dataTable =\n",
              "            await google.colab.kernel.invokeFunction('convertToInteractive',\n",
              "                                                     [key], {});\n",
              "          if (!dataTable) return;\n",
              "\n",
              "          const docLinkHtml = 'Like what you see? Visit the ' +\n",
              "            '<a target=\"_blank\" href=https://colab.research.google.com/notebooks/data_table.ipynb>data table notebook</a>'\n",
              "            + ' to learn more about interactive tables.';\n",
              "          element.innerHTML = '';\n",
              "          dataTable['output_type'] = 'display_data';\n",
              "          await google.colab.output.renderOutput(dataTable, element);\n",
              "          const docLink = document.createElement('div');\n",
              "          docLink.innerHTML = docLinkHtml;\n",
              "          element.appendChild(docLink);\n",
              "        }\n",
              "      </script>\n",
              "    </div>\n",
              "  </div>\n",
              "  "
            ]
          },
          "metadata": {},
          "execution_count": 12
        }
      ]
    },
    {
      "cell_type": "markdown",
      "source": [
        "Como podemos observar, o nome das colunas encontram-se em uma tupla contendo o código e o nome, vamos alterar e deixar apenas o nome de cada coluna."
      ],
      "metadata": {
        "id": "YyeN5-TD2dTb"
      }
    },
    {
      "cell_type": "code",
      "source": [
        "# extraindo o nome da variável da tupla\n",
        "df_pesquisa.columns = [eval(col)[1] for col in df_pesquisa.columns]\n"
      ],
      "metadata": {
        "id": "cQJdQwik2dHM"
      },
      "execution_count": 13,
      "outputs": []
    },
    {
      "cell_type": "code",
      "source": [
        "# conferindo as primeiras entradas\n",
        "df_pesquisa.head()"
      ],
      "metadata": {
        "colab": {
          "base_uri": "https://localhost:8080/",
          "height": 421
        },
        "id": "HmzpqH3y2OxH",
        "outputId": "11987cda-2920-45db-bd8f-f990bbceaa7c"
      },
      "execution_count": 14,
      "outputs": [
        {
          "output_type": "execute_result",
          "data": {
            "text/plain": [
              "                                 id   age     gender  living_in_brasil  \\\n",
              "0  v9otv8j9wdvjrv9otvwnn9owhzq54ktv  37.0  Masculino                 1   \n",
              "1  875ul998t0hqcv0871uptwf3oswcfv35  24.0   Feminino                 1   \n",
              "2  puscuk079vw1pusbb900pzw2xvpxtgdk  26.0  Masculino                 1   \n",
              "3  rmel8ewqpbffp2mnfbzermel8eqincov  21.0  Masculino                 1   \n",
              "4  pj9mgud4d6mdct1l7vq0pj9mgu78h6ju  27.0  Masculino                 1   \n",
              "\n",
              "        living_state  born_or_graduated           degreee_level  \\\n",
              "0  Minas Gerais (MG)                1.0  Estudante de Graduação   \n",
              "1     São Paulo (SP)                1.0  Estudante de Graduação   \n",
              "2     São Paulo (SP)                1.0   Graduação/Bacharelado   \n",
              "3     São Paulo (SP)                0.0  Estudante de Graduação   \n",
              "4                NaN                1.0   Graduação/Bacharelado   \n",
              "\n",
              "     job_situation workers_number  manager  ... other  \\\n",
              "0  Empregado (CTL)       de 1 a 5      0.0  ...     0   \n",
              "1  Empregado (CTL)  Acima de 3000      0.0  ...     1   \n",
              "2  Empregado (CTL)  Acima de 3000      0.0  ...     0   \n",
              "3       Estagiário     de 11 a 50      0.0  ...     0   \n",
              "4       Freelancer      de 6 a 10      1.0  ...     0   \n",
              "\n",
              "  data_science_plataforms_preference                 other  \\\n",
              "0            Nunca fiz cursos online                   NaN   \n",
              "1                                NaN  Data Science Academy   \n",
              "2                              Udemy                   NaN   \n",
              "3                              Alura                   NaN   \n",
              "4                              Udemy                   NaN   \n",
              "\n",
              "   draw_participation  living_macroregion  origin_macroregion  \\\n",
              "0                 1.0      Região Sudeste                 NaN   \n",
              "1                 0.0      Região Sudeste                 NaN   \n",
              "2                 1.0      Região Sudeste                 NaN   \n",
              "3                 1.0      Região Sudeste      Região Sudeste   \n",
              "4                 1.0                 NaN                 NaN   \n",
              "\n",
              "                              anonymized_degree_area  \\\n",
              "0  Computação / Engenharia de Software / Sistemas...   \n",
              "1  Computação / Engenharia de Software / Sistemas...   \n",
              "2                                 Outras Engenharias   \n",
              "3  Computação / Engenharia de Software / Sistemas...   \n",
              "4  Computação / Engenharia de Software / Sistemas...   \n",
              "\n",
              "         anonymized_market_sector  anonymized_manager_level  \\\n",
              "0                          Outras                       NaN   \n",
              "1                        Educação                       NaN   \n",
              "2          Indústria (Manufatura)                       NaN   \n",
              "3  Tecnologia/Fábrica de Software                       NaN   \n",
              "4              Internet/Ecommerce   C-level (CDO, CIO, CTO)   \n",
              "\n",
              "                        anonymized_role  \n",
              "0                                Outras  \n",
              "1        Data Analyst/Analista de Dados  \n",
              "2                                Outras  \n",
              "3  Business Intelligence/Analista de BI  \n",
              "4                                   NaN  \n",
              "\n",
              "[5 rows x 170 columns]"
            ],
            "text/html": [
              "\n",
              "  <div id=\"df-cd11b809-1627-40c2-930b-01cc87969669\">\n",
              "    <div class=\"colab-df-container\">\n",
              "      <div>\n",
              "<style scoped>\n",
              "    .dataframe tbody tr th:only-of-type {\n",
              "        vertical-align: middle;\n",
              "    }\n",
              "\n",
              "    .dataframe tbody tr th {\n",
              "        vertical-align: top;\n",
              "    }\n",
              "\n",
              "    .dataframe thead th {\n",
              "        text-align: right;\n",
              "    }\n",
              "</style>\n",
              "<table border=\"1\" class=\"dataframe\">\n",
              "  <thead>\n",
              "    <tr style=\"text-align: right;\">\n",
              "      <th></th>\n",
              "      <th>id</th>\n",
              "      <th>age</th>\n",
              "      <th>gender</th>\n",
              "      <th>living_in_brasil</th>\n",
              "      <th>living_state</th>\n",
              "      <th>born_or_graduated</th>\n",
              "      <th>degreee_level</th>\n",
              "      <th>job_situation</th>\n",
              "      <th>workers_number</th>\n",
              "      <th>manager</th>\n",
              "      <th>...</th>\n",
              "      <th>other</th>\n",
              "      <th>data_science_plataforms_preference</th>\n",
              "      <th>other</th>\n",
              "      <th>draw_participation</th>\n",
              "      <th>living_macroregion</th>\n",
              "      <th>origin_macroregion</th>\n",
              "      <th>anonymized_degree_area</th>\n",
              "      <th>anonymized_market_sector</th>\n",
              "      <th>anonymized_manager_level</th>\n",
              "      <th>anonymized_role</th>\n",
              "    </tr>\n",
              "  </thead>\n",
              "  <tbody>\n",
              "    <tr>\n",
              "      <th>0</th>\n",
              "      <td>v9otv8j9wdvjrv9otvwnn9owhzq54ktv</td>\n",
              "      <td>37.0</td>\n",
              "      <td>Masculino</td>\n",
              "      <td>1</td>\n",
              "      <td>Minas Gerais (MG)</td>\n",
              "      <td>1.0</td>\n",
              "      <td>Estudante de Graduação</td>\n",
              "      <td>Empregado (CTL)</td>\n",
              "      <td>de 1 a 5</td>\n",
              "      <td>0.0</td>\n",
              "      <td>...</td>\n",
              "      <td>0</td>\n",
              "      <td>Nunca fiz cursos online</td>\n",
              "      <td>NaN</td>\n",
              "      <td>1.0</td>\n",
              "      <td>Região Sudeste</td>\n",
              "      <td>NaN</td>\n",
              "      <td>Computação / Engenharia de Software / Sistemas...</td>\n",
              "      <td>Outras</td>\n",
              "      <td>NaN</td>\n",
              "      <td>Outras</td>\n",
              "    </tr>\n",
              "    <tr>\n",
              "      <th>1</th>\n",
              "      <td>875ul998t0hqcv0871uptwf3oswcfv35</td>\n",
              "      <td>24.0</td>\n",
              "      <td>Feminino</td>\n",
              "      <td>1</td>\n",
              "      <td>São Paulo (SP)</td>\n",
              "      <td>1.0</td>\n",
              "      <td>Estudante de Graduação</td>\n",
              "      <td>Empregado (CTL)</td>\n",
              "      <td>Acima de 3000</td>\n",
              "      <td>0.0</td>\n",
              "      <td>...</td>\n",
              "      <td>1</td>\n",
              "      <td>NaN</td>\n",
              "      <td>Data Science Academy</td>\n",
              "      <td>0.0</td>\n",
              "      <td>Região Sudeste</td>\n",
              "      <td>NaN</td>\n",
              "      <td>Computação / Engenharia de Software / Sistemas...</td>\n",
              "      <td>Educação</td>\n",
              "      <td>NaN</td>\n",
              "      <td>Data Analyst/Analista de Dados</td>\n",
              "    </tr>\n",
              "    <tr>\n",
              "      <th>2</th>\n",
              "      <td>puscuk079vw1pusbb900pzw2xvpxtgdk</td>\n",
              "      <td>26.0</td>\n",
              "      <td>Masculino</td>\n",
              "      <td>1</td>\n",
              "      <td>São Paulo (SP)</td>\n",
              "      <td>1.0</td>\n",
              "      <td>Graduação/Bacharelado</td>\n",
              "      <td>Empregado (CTL)</td>\n",
              "      <td>Acima de 3000</td>\n",
              "      <td>0.0</td>\n",
              "      <td>...</td>\n",
              "      <td>0</td>\n",
              "      <td>Udemy</td>\n",
              "      <td>NaN</td>\n",
              "      <td>1.0</td>\n",
              "      <td>Região Sudeste</td>\n",
              "      <td>NaN</td>\n",
              "      <td>Outras Engenharias</td>\n",
              "      <td>Indústria (Manufatura)</td>\n",
              "      <td>NaN</td>\n",
              "      <td>Outras</td>\n",
              "    </tr>\n",
              "    <tr>\n",
              "      <th>3</th>\n",
              "      <td>rmel8ewqpbffp2mnfbzermel8eqincov</td>\n",
              "      <td>21.0</td>\n",
              "      <td>Masculino</td>\n",
              "      <td>1</td>\n",
              "      <td>São Paulo (SP)</td>\n",
              "      <td>0.0</td>\n",
              "      <td>Estudante de Graduação</td>\n",
              "      <td>Estagiário</td>\n",
              "      <td>de 11 a 50</td>\n",
              "      <td>0.0</td>\n",
              "      <td>...</td>\n",
              "      <td>0</td>\n",
              "      <td>Alura</td>\n",
              "      <td>NaN</td>\n",
              "      <td>1.0</td>\n",
              "      <td>Região Sudeste</td>\n",
              "      <td>Região Sudeste</td>\n",
              "      <td>Computação / Engenharia de Software / Sistemas...</td>\n",
              "      <td>Tecnologia/Fábrica de Software</td>\n",
              "      <td>NaN</td>\n",
              "      <td>Business Intelligence/Analista de BI</td>\n",
              "    </tr>\n",
              "    <tr>\n",
              "      <th>4</th>\n",
              "      <td>pj9mgud4d6mdct1l7vq0pj9mgu78h6ju</td>\n",
              "      <td>27.0</td>\n",
              "      <td>Masculino</td>\n",
              "      <td>1</td>\n",
              "      <td>NaN</td>\n",
              "      <td>1.0</td>\n",
              "      <td>Graduação/Bacharelado</td>\n",
              "      <td>Freelancer</td>\n",
              "      <td>de 6 a 10</td>\n",
              "      <td>1.0</td>\n",
              "      <td>...</td>\n",
              "      <td>0</td>\n",
              "      <td>Udemy</td>\n",
              "      <td>NaN</td>\n",
              "      <td>1.0</td>\n",
              "      <td>NaN</td>\n",
              "      <td>NaN</td>\n",
              "      <td>Computação / Engenharia de Software / Sistemas...</td>\n",
              "      <td>Internet/Ecommerce</td>\n",
              "      <td>C-level (CDO, CIO, CTO)</td>\n",
              "      <td>NaN</td>\n",
              "    </tr>\n",
              "  </tbody>\n",
              "</table>\n",
              "<p>5 rows × 170 columns</p>\n",
              "</div>\n",
              "      <button class=\"colab-df-convert\" onclick=\"convertToInteractive('df-cd11b809-1627-40c2-930b-01cc87969669')\"\n",
              "              title=\"Convert this dataframe to an interactive table.\"\n",
              "              style=\"display:none;\">\n",
              "        \n",
              "  <svg xmlns=\"http://www.w3.org/2000/svg\" height=\"24px\"viewBox=\"0 0 24 24\"\n",
              "       width=\"24px\">\n",
              "    <path d=\"M0 0h24v24H0V0z\" fill=\"none\"/>\n",
              "    <path d=\"M18.56 5.44l.94 2.06.94-2.06 2.06-.94-2.06-.94-.94-2.06-.94 2.06-2.06.94zm-11 1L8.5 8.5l.94-2.06 2.06-.94-2.06-.94L8.5 2.5l-.94 2.06-2.06.94zm10 10l.94 2.06.94-2.06 2.06-.94-2.06-.94-.94-2.06-.94 2.06-2.06.94z\"/><path d=\"M17.41 7.96l-1.37-1.37c-.4-.4-.92-.59-1.43-.59-.52 0-1.04.2-1.43.59L10.3 9.45l-7.72 7.72c-.78.78-.78 2.05 0 2.83L4 21.41c.39.39.9.59 1.41.59.51 0 1.02-.2 1.41-.59l7.78-7.78 2.81-2.81c.8-.78.8-2.07 0-2.86zM5.41 20L4 18.59l7.72-7.72 1.47 1.35L5.41 20z\"/>\n",
              "  </svg>\n",
              "      </button>\n",
              "      \n",
              "  <style>\n",
              "    .colab-df-container {\n",
              "      display:flex;\n",
              "      flex-wrap:wrap;\n",
              "      gap: 12px;\n",
              "    }\n",
              "\n",
              "    .colab-df-convert {\n",
              "      background-color: #E8F0FE;\n",
              "      border: none;\n",
              "      border-radius: 50%;\n",
              "      cursor: pointer;\n",
              "      display: none;\n",
              "      fill: #1967D2;\n",
              "      height: 32px;\n",
              "      padding: 0 0 0 0;\n",
              "      width: 32px;\n",
              "    }\n",
              "\n",
              "    .colab-df-convert:hover {\n",
              "      background-color: #E2EBFA;\n",
              "      box-shadow: 0px 1px 2px rgba(60, 64, 67, 0.3), 0px 1px 3px 1px rgba(60, 64, 67, 0.15);\n",
              "      fill: #174EA6;\n",
              "    }\n",
              "\n",
              "    [theme=dark] .colab-df-convert {\n",
              "      background-color: #3B4455;\n",
              "      fill: #D2E3FC;\n",
              "    }\n",
              "\n",
              "    [theme=dark] .colab-df-convert:hover {\n",
              "      background-color: #434B5C;\n",
              "      box-shadow: 0px 1px 3px 1px rgba(0, 0, 0, 0.15);\n",
              "      filter: drop-shadow(0px 1px 2px rgba(0, 0, 0, 0.3));\n",
              "      fill: #FFFFFF;\n",
              "    }\n",
              "  </style>\n",
              "\n",
              "      <script>\n",
              "        const buttonEl =\n",
              "          document.querySelector('#df-cd11b809-1627-40c2-930b-01cc87969669 button.colab-df-convert');\n",
              "        buttonEl.style.display =\n",
              "          google.colab.kernel.accessAllowed ? 'block' : 'none';\n",
              "\n",
              "        async function convertToInteractive(key) {\n",
              "          const element = document.querySelector('#df-cd11b809-1627-40c2-930b-01cc87969669');\n",
              "          const dataTable =\n",
              "            await google.colab.kernel.invokeFunction('convertToInteractive',\n",
              "                                                     [key], {});\n",
              "          if (!dataTable) return;\n",
              "\n",
              "          const docLinkHtml = 'Like what you see? Visit the ' +\n",
              "            '<a target=\"_blank\" href=https://colab.research.google.com/notebooks/data_table.ipynb>data table notebook</a>'\n",
              "            + ' to learn more about interactive tables.';\n",
              "          element.innerHTML = '';\n",
              "          dataTable['output_type'] = 'display_data';\n",
              "          await google.colab.output.renderOutput(dataTable, element);\n",
              "          const docLink = document.createElement('div');\n",
              "          docLink.innerHTML = docLinkHtml;\n",
              "          element.appendChild(docLink);\n",
              "        }\n",
              "      </script>\n",
              "    </div>\n",
              "  </div>\n",
              "  "
            ]
          },
          "metadata": {},
          "execution_count": 14
        }
      ]
    },
    {
      "cell_type": "code",
      "source": [
        "# plotar escolaridade \n",
        "df_pesquisa.degreee_level.value_counts().plot(kind='barh')"
      ],
      "metadata": {
        "colab": {
          "base_uri": "https://localhost:8080/",
          "height": 282
        },
        "id": "FeuNf5Ee4dPX",
        "outputId": "c39212bf-ad55-4deb-81ff-b173ed8f251f"
      },
      "execution_count": 15,
      "outputs": [
        {
          "output_type": "execute_result",
          "data": {
            "text/plain": [
              "<matplotlib.axes._subplots.AxesSubplot at 0x7f7ffc7f5bd0>"
            ]
          },
          "metadata": {},
          "execution_count": 15
        },
        {
          "output_type": "display_data",
          "data": {
            "text/plain": [
              "<Figure size 432x288 with 1 Axes>"
            ],
            "image/png": "[encoded data removed]"
          },
          "metadata": {
            "needs_background": "light"
          }
        }
      ]
    },
    {
      "cell_type": "code",
      "source": [
        "# plotando gráfico para variação de salários\n",
        "df_pesquisa.salary_range.value_counts().plot(kind='barh')"
      ],
      "metadata": {
        "colab": {
          "base_uri": "https://localhost:8080/",
          "height": 282
        },
        "id": "yJw_Ud2r4_K3",
        "outputId": "fadf6168-5f9e-496a-8e41-cf355a8380e5"
      },
      "execution_count": 16,
      "outputs": [
        {
          "output_type": "execute_result",
          "data": {
            "text/plain": [
              "<matplotlib.axes._subplots.AxesSubplot at 0x7f7ffc7630d0>"
            ]
          },
          "metadata": {},
          "execution_count": 16
        },
        {
          "output_type": "display_data",
          "data": {
            "text/plain": [
              "<Figure size 432x288 with 1 Axes>"
            ],
            "image/png": "[encoded data removed]"
          },
          "metadata": {
            "needs_background": "light"
          }
        }
      ]
    },
    {
      "cell_type": "markdown",
      "source": [
        "## Boxplot\n",
        "\n",
        "Também conhecido como diagrama de caixa, é uma ferramenta estatística que representa a variação de uma variável utilizando quartis, e nos permite observar valores discrepantes, os chamados *Outliers*, sendo um complemento na hora da análise dos dados de forma também gráfica. \n",
        "\n",
        "<center><img src=\"https://upload.wikimedia.org/wikipedia/commons/thumb/c/c9/Elements_of_a_boxplot_pt.svg/2560px-Elements_of_a_boxplot_pt.svg.png\"width=\"450px\"></center>\n",
        "\n",
        "Boxplot pode ser usado para se estudar diferentes características do conjunto de dados, como por exemplo, para determinar a simetria dos dados basta observar se a média é igual ou próxima à mediana. \n",
        "\n",
        "Em uma etapa de limpeza dos dados, o boxplot nos mostra os *outliers*, valores que fogem desse padrão estatísticos e podem ser eliminados ou tratados em nosso conjunto de dados. \n",
        "\n"
      ],
      "metadata": {
        "id": "nQtIJsR3BGtA"
      }
    },
    {
      "cell_type": "markdown",
      "source": [
        "### Plotando o boxplot\n",
        "\n",
        "Aqui utilizaremos novamente o conjunto de dados relacionados aos casos de Dengue na cidade de Campinas-SP. Utilizaremos os dados de temperatura. \n"
      ],
      "metadata": {
        "id": "RBD2qP0GeTHJ"
      }
    },
    {
      "cell_type": "code",
      "source": [
        ""
      ],
      "metadata": {
        "id": "ih-LZSAkmaat"
      },
      "execution_count": null,
      "outputs": []
    },
    {
      "cell_type": "code",
      "source": [
        "# conferindo as primeiras entradas\n",
        "df_dengue.head()"
      ],
      "metadata": {
        "colab": {
          "base_uri": "https://localhost:8080/",
          "height": 238
        },
        "id": "ZLmWC3ObeS0_",
        "outputId": "5f94a9c5-8a56-4c88-8f72-57854eb9ffbf"
      },
      "execution_count": 30,
      "outputs": [
        {
          "output_type": "execute_result",
          "data": {
            "text/plain": [
              "            casos-confirmados  chuva  temperatura-media  temperatura-mininima  \\\n",
              "data                                                                            \n",
              "1998-01-01                237  179.2               25.7                  20.2   \n",
              "1998-02-01                331  226.3               25.1                  20.0   \n",
              "1998-03-01                562  149.1               24.8                  22.4   \n",
              "1998-04-01                187   46.4               22.7                  18.1   \n",
              "1998-05-01                 32   88.3               19.2                  15.7   \n",
              "\n",
              "            temperatura-maxima  \n",
              "data                            \n",
              "1998-01-01                28.1  \n",
              "1998-02-01                28.0  \n",
              "1998-03-01                27.2  \n",
              "1998-04-01                26.0  \n",
              "1998-05-01                22.9  "
            ],
            "text/html": [
              "\n",
              "  <div id=\"df-2034c0a7-7cd7-4eca-b230-9d5992dcb403\">\n",
              "    <div class=\"colab-df-container\">\n",
              "      <div>\n",
              "<style scoped>\n",
              "    .dataframe tbody tr th:only-of-type {\n",
              "        vertical-align: middle;\n",
              "    }\n",
              "\n",
              "    .dataframe tbody tr th {\n",
              "        vertical-align: top;\n",
              "    }\n",
              "\n",
              "    .dataframe thead th {\n",
              "        text-align: right;\n",
              "    }\n",
              "</style>\n",
              "<table border=\"1\" class=\"dataframe\">\n",
              "  <thead>\n",
              "    <tr style=\"text-align: right;\">\n",
              "      <th></th>\n",
              "      <th>casos-confirmados</th>\n",
              "      <th>chuva</th>\n",
              "      <th>temperatura-media</th>\n",
              "      <th>temperatura-mininima</th>\n",
              "      <th>temperatura-maxima</th>\n",
              "    </tr>\n",
              "    <tr>\n",
              "      <th>data</th>\n",
              "      <th></th>\n",
              "      <th></th>\n",
              "      <th></th>\n",
              "      <th></th>\n",
              "      <th></th>\n",
              "    </tr>\n",
              "  </thead>\n",
              "  <tbody>\n",
              "    <tr>\n",
              "      <th>1998-01-01</th>\n",
              "      <td>237</td>\n",
              "      <td>179.2</td>\n",
              "      <td>25.7</td>\n",
              "      <td>20.2</td>\n",
              "      <td>28.1</td>\n",
              "    </tr>\n",
              "    <tr>\n",
              "      <th>1998-02-01</th>\n",
              "      <td>331</td>\n",
              "      <td>226.3</td>\n",
              "      <td>25.1</td>\n",
              "      <td>20.0</td>\n",
              "      <td>28.0</td>\n",
              "    </tr>\n",
              "    <tr>\n",
              "      <th>1998-03-01</th>\n",
              "      <td>562</td>\n",
              "      <td>149.1</td>\n",
              "      <td>24.8</td>\n",
              "      <td>22.4</td>\n",
              "      <td>27.2</td>\n",
              "    </tr>\n",
              "    <tr>\n",
              "      <th>1998-04-01</th>\n",
              "      <td>187</td>\n",
              "      <td>46.4</td>\n",
              "      <td>22.7</td>\n",
              "      <td>18.1</td>\n",
              "      <td>26.0</td>\n",
              "    </tr>\n",
              "    <tr>\n",
              "      <th>1998-05-01</th>\n",
              "      <td>32</td>\n",
              "      <td>88.3</td>\n",
              "      <td>19.2</td>\n",
              "      <td>15.7</td>\n",
              "      <td>22.9</td>\n",
              "    </tr>\n",
              "  </tbody>\n",
              "</table>\n",
              "</div>\n",
              "      <button class=\"colab-df-convert\" onclick=\"convertToInteractive('df-2034c0a7-7cd7-4eca-b230-9d5992dcb403')\"\n",
              "              title=\"Convert this dataframe to an interactive table.\"\n",
              "              style=\"display:none;\">\n",
              "        \n",
              "  <svg xmlns=\"http://www.w3.org/2000/svg\" height=\"24px\"viewBox=\"0 0 24 24\"\n",
              "       width=\"24px\">\n",
              "    <path d=\"M0 0h24v24H0V0z\" fill=\"none\"/>\n",
              "    <path d=\"M18.56 5.44l.94 2.06.94-2.06 2.06-.94-2.06-.94-.94-2.06-.94 2.06-2.06.94zm-11 1L8.5 8.5l.94-2.06 2.06-.94-2.06-.94L8.5 2.5l-.94 2.06-2.06.94zm10 10l.94 2.06.94-2.06 2.06-.94-2.06-.94-.94-2.06-.94 2.06-2.06.94z\"/><path d=\"M17.41 7.96l-1.37-1.37c-.4-.4-.92-.59-1.43-.59-.52 0-1.04.2-1.43.59L10.3 9.45l-7.72 7.72c-.78.78-.78 2.05 0 2.83L4 21.41c.39.39.9.59 1.41.59.51 0 1.02-.2 1.41-.59l7.78-7.78 2.81-2.81c.8-.78.8-2.07 0-2.86zM5.41 20L4 18.59l7.72-7.72 1.47 1.35L5.41 20z\"/>\n",
              "  </svg>\n",
              "      </button>\n",
              "      \n",
              "  <style>\n",
              "    .colab-df-container {\n",
              "      display:flex;\n",
              "      flex-wrap:wrap;\n",
              "      gap: 12px;\n",
              "    }\n",
              "\n",
              "    .colab-df-convert {\n",
              "      background-color: #E8F0FE;\n",
              "      border: none;\n",
              "      border-radius: 50%;\n",
              "      cursor: pointer;\n",
              "      display: none;\n",
              "      fill: #1967D2;\n",
              "      height: 32px;\n",
              "      padding: 0 0 0 0;\n",
              "      width: 32px;\n",
              "    }\n",
              "\n",
              "    .colab-df-convert:hover {\n",
              "      background-color: #E2EBFA;\n",
              "      box-shadow: 0px 1px 2px rgba(60, 64, 67, 0.3), 0px 1px 3px 1px rgba(60, 64, 67, 0.15);\n",
              "      fill: #174EA6;\n",
              "    }\n",
              "\n",
              "    [theme=dark] .colab-df-convert {\n",
              "      background-color: #3B4455;\n",
              "      fill: #D2E3FC;\n",
              "    }\n",
              "\n",
              "    [theme=dark] .colab-df-convert:hover {\n",
              "      background-color: #434B5C;\n",
              "      box-shadow: 0px 1px 3px 1px rgba(0, 0, 0, 0.15);\n",
              "      filter: drop-shadow(0px 1px 2px rgba(0, 0, 0, 0.3));\n",
              "      fill: #FFFFFF;\n",
              "    }\n",
              "  </style>\n",
              "\n",
              "      <script>\n",
              "        const buttonEl =\n",
              "          document.querySelector('#df-2034c0a7-7cd7-4eca-b230-9d5992dcb403 button.colab-df-convert');\n",
              "        buttonEl.style.display =\n",
              "          google.colab.kernel.accessAllowed ? 'block' : 'none';\n",
              "\n",
              "        async function convertToInteractive(key) {\n",
              "          const element = document.querySelector('#df-2034c0a7-7cd7-4eca-b230-9d5992dcb403');\n",
              "          const dataTable =\n",
              "            await google.colab.kernel.invokeFunction('convertToInteractive',\n",
              "                                                     [key], {});\n",
              "          if (!dataTable) return;\n",
              "\n",
              "          const docLinkHtml = 'Like what you see? Visit the ' +\n",
              "            '<a target=\"_blank\" href=https://colab.research.google.com/notebooks/data_table.ipynb>data table notebook</a>'\n",
              "            + ' to learn more about interactive tables.';\n",
              "          element.innerHTML = '';\n",
              "          dataTable['output_type'] = 'display_data';\n",
              "          await google.colab.output.renderOutput(dataTable, element);\n",
              "          const docLink = document.createElement('div');\n",
              "          docLink.innerHTML = docLinkHtml;\n",
              "          element.appendChild(docLink);\n",
              "        }\n",
              "      </script>\n",
              "    </div>\n",
              "  </div>\n",
              "  "
            ]
          },
          "metadata": {},
          "execution_count": 30
        }
      ]
    },
    {
      "cell_type": "code",
      "source": [
        "# plotando boxplot para temperatura\n",
        "fig, ax = plt.subplots()\n",
        "\n",
        "df_dengue.boxplot(['temperatura-media', 'temperatura-mininima', 'temperatura-maxima'], grid=False, ax=ax)\n",
        "                                        \n",
        "plt.tight_layout()"
      ],
      "metadata": {
        "id": "9S7T4vAN5Rk9",
        "colab": {
          "base_uri": "https://localhost:8080/",
          "height": 297
        },
        "outputId": "401db143-2fbf-45be-d8a5-7eabc7d5d5aa"
      },
      "execution_count": 33,
      "outputs": [
        {
          "output_type": "display_data",
          "data": {
            "text/plain": [
              "<Figure size 432x288 with 1 Axes>"
            ],
            "image/png": "[encoded data removed]"
          },
          "metadata": {
            "needs_background": "light"
          }
        }
      ]
    },
    {
      "cell_type": "markdown",
      "source": [
        "Para alterar a orientação dos boxplots e colocá-los na horizontal, basta adcionar ao código `vert=False`.\n"
      ],
      "metadata": {
        "id": "OG6BzSeHf0CZ"
      }
    },
    {
      "cell_type": "code",
      "source": [
        "# plotando boxplot para casos confirmados\n",
        "\n",
        "fig, ax = plt.subplots()\n",
        "\n",
        "df_dengue.boxplot(['casos-confirmados'], vert=False, grid=False, ax=ax)\n",
        "\n",
        "plt.tight_layout()"
      ],
      "metadata": {
        "colab": {
          "base_uri": "https://localhost:8080/",
          "height": 297
        },
        "id": "cEFp35IvffI7",
        "outputId": "923d3d35-7251-4052-b2df-a8325939db6a"
      },
      "execution_count": 35,
      "outputs": [
        {
          "output_type": "display_data",
          "data": {
            "text/plain": [
              "<Figure size 432x288 with 1 Axes>"
            ],
            "image/png": "[encoded data removed]"
          },
          "metadata": {
            "needs_background": "light"
          }
        }
      ]
    },
    {
      "cell_type": "markdown",
      "source": [
        "Este caso nos mostra um exemplo perfeito do que são *outliers*, valores fora do boxplot que variam até Vinte mil, fugindo da realidade, uma vez que um aumento drástico no número de casos, por mais possível que seja, é totalmente improvavel que aconteça.  \n",
        "\n",
        "Há diversas razões para esse tipo de acontecimento, irregularidades na hora do lancamento dos dados no sistema, tanto no passado quanto no futuro, mudança nos métodos e etc. \n",
        "\n",
        "Para corrigir essa visualização, vamos determinar uma 'nota de corte' para ir reduzindo a presença de *outliers* e ver como fica a distribuição desse boxplot.\n",
        "\n"
      ],
      "metadata": {
        "id": "UkvFk_8ugpbN"
      }
    },
    {
      "cell_type": "code",
      "source": [
        "# plotando boxplot para `casos-confirmados` utilizando o corte arbitrário\n",
        "fig, ax = plt.subplots()\n",
        "\n",
        "# selecionando valores menores que Mil\n",
        "df_dengue.loc[df_dengue['casos-confirmados'] < 1000].boxplot(['casos-confirmados'], \n",
        "                                                             vert=False, \n",
        "                                                             grid=False, \n",
        "                                                             ax=ax)\n",
        "\n",
        "plt.tight_layout()"
      ],
      "metadata": {
        "colab": {
          "base_uri": "https://localhost:8080/",
          "height": 297
        },
        "id": "PsXEuv20gtTm",
        "outputId": "3583f712-2cc3-4882-a431-f6a7720ad8c5"
      },
      "execution_count": 38,
      "outputs": [
        {
          "output_type": "display_data",
          "data": {
            "text/plain": [
              "<Figure size 432x288 with 1 Axes>"
            ],
            "image/png": "[encoded data removed]"
          },
          "metadata": {
            "needs_background": "light"
          }
        }
      ]
    },
    {
      "cell_type": "markdown",
      "source": [
        "Agora podemos ver com um pouco mais de clareza a situação dos dados, porém ainda está muito fora de um padrão, vamos reduzir valor do corte e plotar novamente. "
      ],
      "metadata": {
        "id": "nAWonaGDkfuB"
      }
    },
    {
      "cell_type": "code",
      "source": [
        "# plotando boxplot para `casos-confirmados` utilizando o corte arbitrário\n",
        "fig, ax = plt.subplots()\n",
        "\n",
        "# selecionando valores menores que Cem\n",
        "df_dengue.loc[df_dengue['casos-confirmados'] < 100].boxplot(['casos-confirmados'], \n",
        "                                                             vert=False, \n",
        "                                                             grid=False, \n",
        "                                                             ax=ax)\n",
        "\n",
        "plt.tight_layout()"
      ],
      "metadata": {
        "colab": {
          "base_uri": "https://localhost:8080/",
          "height": 297
        },
        "id": "ZpI1vqDskbOt",
        "outputId": "09b61a2f-04fa-42b7-91c1-6f27c735c0df"
      },
      "execution_count": 53,
      "outputs": [
        {
          "output_type": "display_data",
          "data": {
            "text/plain": [
              "<Figure size 432x288 with 1 Axes>"
            ],
            "image/png": "[encoded data removed]"
          },
          "metadata": {
            "needs_background": "light"
          }
        }
      ]
    },
    {
      "cell_type": "markdown",
      "source": [
        "Aqui podemos observar melhor a distribuição deste diagrama, podendo ver que os *Outliers* são os valores acima de 60, melhorando nossa concepção a respeito dos dados. \n",
        "\n",
        "Como mencionado anteriormente, o formato do diagrama representa a simetria dos valores analisados, e neste casos podemos notar que os valores são assimétricos. "
      ],
      "metadata": {
        "id": "oSKu7twDlPEM"
      }
    },
    {
      "cell_type": "code",
      "source": [
        ""
      ],
      "metadata": {
        "id": "lLCe61C4luD_"
      },
      "execution_count": null,
      "outputs": []
    }
  ]
}