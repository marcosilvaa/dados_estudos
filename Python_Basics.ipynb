{
  "nbformat": 4,
  "nbformat_minor": 0,
  "metadata": {
    "colab": {
      "name": "Python Basics.ipynb",
      "provenance": [],
      "authorship_tag": "ABX9TyPcXatB/b3ql60KI1XsjKOj",
      "include_colab_link": true
    },
    "kernelspec": {
      "name": "python3",
      "display_name": "Python 3"
    },
    "language_info": {
      "name": "python"
    }
  },
  "cells": [
    {
      "cell_type": "markdown",
      "metadata": {
        "id": "view-in-github",
        "colab_type": "text"
      },
      "source": [
        "<a href=\"https://colab.research.google.com/github/marcosilvaa/dados_estudos/blob/main/Python_Basics.ipynb\" target=\"_parent\"><img src=\"https://colab.research.google.com/assets/colab-badge.svg\" alt=\"Open In Colab\"/></a>"
      ]
    },
    {
      "cell_type": "markdown",
      "source": [
        "# Introdução Rápida ao Python"
      ],
      "metadata": {
        "id": "95H8OiWJJ2dG"
      }
    },
    {
      "cell_type": "markdown",
      "source": [
        "# Hello World\n",
        "Como de costume para todas as linguagens de programação, vamos começar imprimindo um `Hello World`."
      ],
      "metadata": {
        "id": "GiK4eXiqJ7RJ"
      }
    },
    {
      "cell_type": "code",
      "source": [
        "print('Hello World')"
      ],
      "metadata": {
        "colab": {
          "base_uri": "https://localhost:8080/"
        },
        "id": "jn6i8VWOKEV6",
        "outputId": "60848644-a799-4679-949d-7ee31cb2163e"
      },
      "execution_count": 51,
      "outputs": [
        {
          "output_type": "stream",
          "name": "stdout",
          "text": [
            "Hello World\n"
          ]
        }
      ]
    },
    {
      "cell_type": "markdown",
      "source": [
        "# Manipulação de Strings"
      ],
      "metadata": {
        "id": "-AfmnaOwMmPB"
      }
    },
    {
      "cell_type": "code",
      "source": [
        "# definindo a string\n",
        "manchete = \"VALE3: A ação preferida do momento\""
      ],
      "metadata": {
        "id": "2UxdZIi8MuWx"
      },
      "execution_count": 53,
      "outputs": []
    },
    {
      "cell_type": "code",
      "source": [
        "# imprimindo string\n",
        "print(manchete)"
      ],
      "metadata": {
        "colab": {
          "base_uri": "https://localhost:8080/"
        },
        "id": "Fz5Nh4lrM0Mx",
        "outputId": "1a96c9b1-bd82-4ce5-ee35-5dbca914fd73"
      },
      "execution_count": 54,
      "outputs": [
        {
          "output_type": "stream",
          "name": "stdout",
          "text": [
            "VALE3: A ação preferida do momento\n"
          ]
        }
      ]
    },
    {
      "cell_type": "code",
      "source": [
        "# conferindo tipo da variável definida\n",
        "type(manchete)"
      ],
      "metadata": {
        "colab": {
          "base_uri": "https://localhost:8080/"
        },
        "id": "_UjsDCVrM0Jl",
        "outputId": "417d1ce3-0234-4c43-fd21-99051ba55caf"
      },
      "execution_count": 55,
      "outputs": [
        {
          "output_type": "execute_result",
          "data": {
            "text/plain": [
              "str"
            ]
          },
          "metadata": {},
          "execution_count": 55
        }
      ]
    },
    {
      "cell_type": "code",
      "source": [
        "# conferindo tamanho da variável/string\n",
        "len(manchete)"
      ],
      "metadata": {
        "colab": {
          "base_uri": "https://localhost:8080/"
        },
        "id": "5aTgMfUZM0Es",
        "outputId": "14ed55dc-8633-4daa-82e3-3e9291c23ccb"
      },
      "execution_count": 56,
      "outputs": [
        {
          "output_type": "execute_result",
          "data": {
            "text/plain": [
              "34"
            ]
          },
          "metadata": {},
          "execution_count": 56
        }
      ]
    },
    {
      "cell_type": "code",
      "source": [
        "# imprimindo primeiro elemento [0] da string\n",
        "manchete[0]"
      ],
      "metadata": {
        "colab": {
          "base_uri": "https://localhost:8080/",
          "height": 38
        },
        "id": "ECLfuxrCM0Bb",
        "outputId": "90eff8a5-74ea-4cf3-f3a9-062aa4640d80"
      },
      "execution_count": 57,
      "outputs": [
        {
          "output_type": "execute_result",
          "data": {
            "text/plain": [
              "'V'"
            ],
            "application/vnd.google.colaboratory.intrinsic+json": {
              "type": "string"
            }
          },
          "metadata": {},
          "execution_count": 57
        }
      ]
    },
    {
      "cell_type": "code",
      "source": [
        "# imprimindo sexto elemento [5] da string\n",
        "manchete[5]"
      ],
      "metadata": {
        "colab": {
          "base_uri": "https://localhost:8080/",
          "height": 38
        },
        "id": "OemHm-EzNA_Y",
        "outputId": "d5a8e21b-d185-43d8-bca6-95977b14170a"
      },
      "execution_count": 58,
      "outputs": [
        {
          "output_type": "execute_result",
          "data": {
            "text/plain": [
              "':'"
            ],
            "application/vnd.google.colaboratory.intrinsic+json": {
              "type": "string"
            }
          },
          "metadata": {},
          "execution_count": 58
        }
      ]
    },
    {
      "cell_type": "code",
      "source": [
        "# imprimindo um range de elementos da string\n",
        "manchete[0:10]"
      ],
      "metadata": {
        "colab": {
          "base_uri": "https://localhost:8080/",
          "height": 38
        },
        "id": "R0m9ca0SNA8p",
        "outputId": "62430484-cc10-4baa-cb03-0dddc6ef9c93"
      },
      "execution_count": 60,
      "outputs": [
        {
          "output_type": "execute_result",
          "data": {
            "text/plain": [
              "'VALE3: A a'"
            ],
            "application/vnd.google.colaboratory.intrinsic+json": {
              "type": "string"
            }
          },
          "metadata": {},
          "execution_count": 60
        }
      ]
    },
    {
      "cell_type": "code",
      "source": [
        "# criando nova variavel/string a partir da manipulação da variavel anterior\n",
        "acao_do_momento = manchete[0:5]"
      ],
      "metadata": {
        "id": "LFrF2orUNA6O"
      },
      "execution_count": 62,
      "outputs": []
    },
    {
      "cell_type": "code",
      "source": [
        "print(acao_do_momento)"
      ],
      "metadata": {
        "colab": {
          "base_uri": "https://localhost:8080/"
        },
        "id": "RGEZuSMwNA3L",
        "outputId": "9f3fbbae-bf0d-4158-9752-044560cc8c9e"
      },
      "execution_count": 63,
      "outputs": [
        {
          "output_type": "stream",
          "name": "stdout",
          "text": [
            "VALE3\n"
          ]
        }
      ]
    },
    {
      "cell_type": "markdown",
      "source": [
        "As Strings tem por propriedades sua:\n",
        "* Imutabilidade\n",
        "* Adição - Concatenação\n",
        "* Modificação de upper e lower case"
      ],
      "metadata": {
        "id": "gkiaWXj_QOgG"
      }
    },
    {
      "cell_type": "code",
      "source": [
        "# exemplo de imutabilidade da string\n",
        "manchete[0:5]"
      ],
      "metadata": {
        "colab": {
          "base_uri": "https://localhost:8080/",
          "height": 38
        },
        "id": "kBz8qe2EQZbS",
        "outputId": "efd1794f-9d67-4be9-d94b-a1165cf88f6e"
      },
      "execution_count": 73,
      "outputs": [
        {
          "output_type": "execute_result",
          "data": {
            "text/plain": [
              "'VALE3'"
            ],
            "application/vnd.google.colaboratory.intrinsic+json": {
              "type": "string"
            }
          },
          "metadata": {},
          "execution_count": 73
        }
      ]
    },
    {
      "cell_type": "code",
      "source": [
        "manchete[0:5] = 'PETR4'"
      ],
      "metadata": {
        "colab": {
          "base_uri": "https://localhost:8080/",
          "height": 166
        },
        "id": "SEihbcAeQizT",
        "outputId": "b0797705-b4b5-43be-d82d-b2ec6762fb7f"
      },
      "execution_count": 74,
      "outputs": [
        {
          "output_type": "error",
          "ename": "TypeError",
          "evalue": "ignored",
          "traceback": [
            "\u001b[0;31m---------------------------------------------------------------------------\u001b[0m",
            "\u001b[0;31mTypeError\u001b[0m                                 Traceback (most recent call last)",
            "\u001b[0;32m<ipython-input-74-c4aa45916154>\u001b[0m in \u001b[0;36m<module>\u001b[0;34m()\u001b[0m\n\u001b[0;32m----> 1\u001b[0;31m \u001b[0mmanchete\u001b[0m\u001b[0;34m[\u001b[0m\u001b[0;36m0\u001b[0m\u001b[0;34m:\u001b[0m\u001b[0;36m5\u001b[0m\u001b[0;34m]\u001b[0m \u001b[0;34m=\u001b[0m \u001b[0;34m'PETR4'\u001b[0m\u001b[0;34m\u001b[0m\u001b[0;34m\u001b[0m\u001b[0m\n\u001b[0m",
            "\u001b[0;31mTypeError\u001b[0m: 'str' object does not support item assignment"
          ]
        }
      ]
    },
    {
      "cell_type": "markdown",
      "source": [
        "Como a string é imutável, não é possível alterá-la, por isso o erro acima.\n",
        "\n",
        "O que pode ser feito com a string é adcionar um novo elemento à ela, confira abaixo:"
      ],
      "metadata": {
        "id": "HP0hnojlQor2"
      }
    },
    {
      "cell_type": "code",
      "source": [
        "# manipulando string, adcionando complemento\n",
        "manchete + 'graças à alta do minério de ferro.'"
      ],
      "metadata": {
        "colab": {
          "base_uri": "https://localhost:8080/",
          "height": 38
        },
        "id": "Sc-HoxVGNA05",
        "outputId": "efb6b5af-4272-453a-b218-9da4cbcaeac0"
      },
      "execution_count": 75,
      "outputs": [
        {
          "output_type": "execute_result",
          "data": {
            "text/plain": [
              "'VALE3: A ação preferida do momentograças à alta do minério de ferro.'"
            ],
            "application/vnd.google.colaboratory.intrinsic+json": {
              "type": "string"
            }
          },
          "metadata": {},
          "execution_count": 75
        }
      ]
    },
    {
      "cell_type": "code",
      "source": [
        "# string permanece igual uma vez que a alteração não foi armazenada em uma variável\n",
        "manchete"
      ],
      "metadata": {
        "colab": {
          "base_uri": "https://localhost:8080/",
          "height": 38
        },
        "id": "wphdgWJANAys",
        "outputId": "ce48a27d-ee6f-4c11-8d2a-7261809293cc"
      },
      "execution_count": 76,
      "outputs": [
        {
          "output_type": "execute_result",
          "data": {
            "text/plain": [
              "'VALE3: A ação preferida do momento'"
            ],
            "application/vnd.google.colaboratory.intrinsic+json": {
              "type": "string"
            }
          },
          "metadata": {},
          "execution_count": 76
        }
      ]
    },
    {
      "cell_type": "code",
      "source": [
        "# criando nova variável/string\n",
        "razao = ' graças à alta do minério de ferro'"
      ],
      "metadata": {
        "id": "N0rjEZbwNAv9"
      },
      "execution_count": 77,
      "outputs": []
    },
    {
      "cell_type": "code",
      "source": [
        "# concatenando strings\n",
        "frase_completa = manchete + razao\n",
        "frase_completa"
      ],
      "metadata": {
        "colab": {
          "base_uri": "https://localhost:8080/",
          "height": 38
        },
        "id": "iam7pitBNAt2",
        "outputId": "72d6a515-02a8-4010-fa13-5f9d4b8ed057"
      },
      "execution_count": 78,
      "outputs": [
        {
          "output_type": "execute_result",
          "data": {
            "text/plain": [
              "'VALE3: A ação preferida do momento graças à alta do minério de ferro'"
            ],
            "application/vnd.google.colaboratory.intrinsic+json": {
              "type": "string"
            }
          },
          "metadata": {},
          "execution_count": 78
        }
      ]
    },
    {
      "cell_type": "markdown",
      "source": [
        "Outros métodos de manipulação de strings são:\n",
        "* upper( ) - Transforma todos os elementos da string em maíusculo\n",
        "* lower( ) - Transforma todos os elementos da string em minúsculo\n",
        "* split( ) - Separa todos os elementos da string, transformando-os em uma lista"
      ],
      "metadata": {
        "id": "aU1YQMDfSAXP"
      }
    },
    {
      "cell_type": "code",
      "source": [
        "maiusculo = frase_completa.upper()\n",
        "minusculo = frase_completa.lower()\n",
        "frase_separada = frase_completa.split()\n",
        "\n",
        "print(maiusculo)\n",
        "print(\"\")\n",
        "print(minusculo)\n",
        "print(\"\")\n",
        "print(frase_separada)"
      ],
      "metadata": {
        "colab": {
          "base_uri": "https://localhost:8080/"
        },
        "id": "9HW7Ai0xNArm",
        "outputId": "9b937b4c-f36e-459a-9849-1a2edaa6f264"
      },
      "execution_count": 82,
      "outputs": [
        {
          "output_type": "stream",
          "name": "stdout",
          "text": [
            "VALE3: A AÇÃO PREFERIDA DO MOMENTO GRAÇAS À ALTA DO MINÉRIO DE FERRO\n",
            "\n",
            "vale3: a ação preferida do momento graças à alta do minério de ferro\n",
            "\n",
            "['VALE3:', 'A', 'ação', 'preferida', 'do', 'momento', 'graças', 'à', 'alta', 'do', 'minério', 'de', 'ferro']\n"
          ]
        }
      ]
    },
    {
      "cell_type": "code",
      "source": [
        "type(frase_separada)"
      ],
      "metadata": {
        "colab": {
          "base_uri": "https://localhost:8080/"
        },
        "id": "tmBgSmZITBOF",
        "outputId": "7c89b9ff-5811-42b7-f2b1-c06e5fcc68ef"
      },
      "execution_count": 83,
      "outputs": [
        {
          "output_type": "execute_result",
          "data": {
            "text/plain": [
              "list"
            ]
          },
          "metadata": {},
          "execution_count": 83
        }
      ]
    },
    {
      "cell_type": "markdown",
      "source": [
        "# Listas\n",
        "\n",
        "O primeiro passo para o armazenamento de dados.\n"
      ],
      "metadata": {
        "id": "bjoq-BimTOE4"
      }
    },
    {
      "cell_type": "code",
      "source": [
        "# criando lista com nomes\n",
        "nomes = ['André', 'João', 'José']\n",
        "nomes"
      ],
      "metadata": {
        "colab": {
          "base_uri": "https://localhost:8080/"
        },
        "id": "_2yonKrbTYMr",
        "outputId": "67b94f2e-90c1-4fb7-bb41-ac113791f1f0"
      },
      "execution_count": 132,
      "outputs": [
        {
          "output_type": "execute_result",
          "data": {
            "text/plain": [
              "['André', 'João', 'José']"
            ]
          },
          "metadata": {},
          "execution_count": 132
        }
      ]
    },
    {
      "cell_type": "code",
      "source": [
        "type(nomes)"
      ],
      "metadata": {
        "colab": {
          "base_uri": "https://localhost:8080/"
        },
        "id": "cRogRDABTYId",
        "outputId": "4739cc45-4152-4392-92bf-cf1f61906102"
      },
      "execution_count": 133,
      "outputs": [
        {
          "output_type": "execute_result",
          "data": {
            "text/plain": [
              "list"
            ]
          },
          "metadata": {},
          "execution_count": 133
        }
      ]
    },
    {
      "cell_type": "code",
      "source": [
        "# adicionando itens  à lista\n",
        "nomes.append(\"Marco\")\n",
        "nomes"
      ],
      "metadata": {
        "colab": {
          "base_uri": "https://localhost:8080/"
        },
        "id": "uwqtV57ITYFE",
        "outputId": "44cd4a04-71a0-4f33-bc71-c42ed526bf01"
      },
      "execution_count": 134,
      "outputs": [
        {
          "output_type": "execute_result",
          "data": {
            "text/plain": [
              "['André', 'João', 'José', 'Marco']"
            ]
          },
          "metadata": {},
          "execution_count": 134
        }
      ]
    },
    {
      "cell_type": "code",
      "source": [
        "# conferindo o tipo do dado inserido na lista\n",
        "type(nomes[0])"
      ],
      "metadata": {
        "colab": {
          "base_uri": "https://localhost:8080/"
        },
        "id": "P2ztRghVTYAh",
        "outputId": "73e45588-e769-4425-c58d-d12588db70ae"
      },
      "execution_count": 135,
      "outputs": [
        {
          "output_type": "execute_result",
          "data": {
            "text/plain": [
              "str"
            ]
          },
          "metadata": {},
          "execution_count": 135
        }
      ]
    },
    {
      "cell_type": "code",
      "source": [
        "# criando nova lista a partir da lista antiga mais uma nova lista pre definida\n",
        "lista_misturada = nomes + ['30','25', '35','27']\n",
        "lista_misturada"
      ],
      "metadata": {
        "colab": {
          "base_uri": "https://localhost:8080/"
        },
        "id": "0hKRtQ2LTX8X",
        "outputId": "80498ea9-d4b5-4fdf-c3bb-fb3a0f197b12"
      },
      "execution_count": 139,
      "outputs": [
        {
          "output_type": "execute_result",
          "data": {
            "text/plain": [
              "['André', 'João', 'José', 'Marco', '30', '25', '35', '27']"
            ]
          },
          "metadata": {},
          "execution_count": 139
        }
      ]
    },
    {
      "cell_type": "code",
      "source": [
        "lista_misturada[5]"
      ],
      "metadata": {
        "colab": {
          "base_uri": "https://localhost:8080/",
          "height": 38
        },
        "id": "Y0FumLMOTX3Y",
        "outputId": "7cee2081-9f59-424b-8ae1-576912dc7339"
      },
      "execution_count": 140,
      "outputs": [
        {
          "output_type": "execute_result",
          "data": {
            "text/plain": [
              "'25'"
            ],
            "application/vnd.google.colaboratory.intrinsic+json": {
              "type": "string"
            }
          },
          "metadata": {},
          "execution_count": 140
        }
      ]
    },
    {
      "cell_type": "code",
      "source": [
        "'Os Aprovados foram ' + nomes[0] + ' e ' + nomes[3]"
      ],
      "metadata": {
        "colab": {
          "base_uri": "https://localhost:8080/",
          "height": 38
        },
        "id": "tXk8j4bzTXzc",
        "outputId": "01ecc0c6-7eab-416e-a7a4-fddf856cdcaf"
      },
      "execution_count": 142,
      "outputs": [
        {
          "output_type": "execute_result",
          "data": {
            "text/plain": [
              "'Os Aprovados foram André e Marco'"
            ],
            "application/vnd.google.colaboratory.intrinsic+json": {
              "type": "string"
            }
          },
          "metadata": {},
          "execution_count": 142
        }
      ]
    },
    {
      "cell_type": "code",
      "source": [
        "# criando nova lista com os números adcionados anteriormente\n",
        "nova_lista = lista_misturada[4:]\n",
        "nova_lista\n"
      ],
      "metadata": {
        "colab": {
          "base_uri": "https://localhost:8080/"
        },
        "id": "ajhFLjvBTXvZ",
        "outputId": "c240ec78-a7c2-435a-a169-911b1995769b"
      },
      "execution_count": 146,
      "outputs": [
        {
          "output_type": "execute_result",
          "data": {
            "text/plain": [
              "['30', '25', '35', '27']"
            ]
          },
          "metadata": {},
          "execution_count": 146
        }
      ]
    },
    {
      "cell_type": "markdown",
      "source": [
        "# Dicionários\n",
        "Um dicionário é representado por `{Chaves}`, e para cada `Chave - Key` há um `Valor - Value`."
      ],
      "metadata": {
        "id": "-YVCjDEuXAYD"
      }
    },
    {
      "cell_type": "code",
      "source": [
        "# criando dicionário com o preço dos ativos\n",
        "precos = {'PETR4': 30,\n",
        "          'VALE3': 102,\n",
        "          'WEGE3': 34}\n",
        "precos"
      ],
      "metadata": {
        "colab": {
          "base_uri": "https://localhost:8080/"
        },
        "id": "giuU3zhJXFXP",
        "outputId": "52c814a7-4b9d-4319-cc2e-2ffabf70a00e"
      },
      "execution_count": 148,
      "outputs": [
        {
          "output_type": "execute_result",
          "data": {
            "text/plain": [
              "{'PETR4': 30, 'VALE3': 102, 'WEGE3': 34}"
            ]
          },
          "metadata": {},
          "execution_count": 148
        }
      ]
    },
    {
      "cell_type": "code",
      "source": [
        "type(precos)"
      ],
      "metadata": {
        "colab": {
          "base_uri": "https://localhost:8080/"
        },
        "id": "DqfdNDxwXFTw",
        "outputId": "69bea10f-7f2f-4fd9-e35b-a61b444ad4cc"
      },
      "execution_count": 149,
      "outputs": [
        {
          "output_type": "execute_result",
          "data": {
            "text/plain": [
              "dict"
            ]
          },
          "metadata": {},
          "execution_count": 149
        }
      ]
    },
    {
      "cell_type": "code",
      "source": [
        "# conferindo as chaves\n",
        "precos.keys()"
      ],
      "metadata": {
        "colab": {
          "base_uri": "https://localhost:8080/"
        },
        "id": "mvLrEhrvXFQg",
        "outputId": "3f74030b-da74-404f-d4d2-faef0257ef7f"
      },
      "execution_count": 150,
      "outputs": [
        {
          "output_type": "execute_result",
          "data": {
            "text/plain": [
              "dict_keys(['PETR4', 'VALE3', 'WEGE3'])"
            ]
          },
          "metadata": {},
          "execution_count": 150
        }
      ]
    },
    {
      "cell_type": "code",
      "source": [
        "# conferindo valores\n",
        "precos.values()"
      ],
      "metadata": {
        "colab": {
          "base_uri": "https://localhost:8080/"
        },
        "id": "NJxDQfyNXFKs",
        "outputId": "a1d693f0-ffb1-4e48-b029-22a709ccf3c0"
      },
      "execution_count": 151,
      "outputs": [
        {
          "output_type": "execute_result",
          "data": {
            "text/plain": [
              "dict_values([30, 102, 34])"
            ]
          },
          "metadata": {},
          "execution_count": 151
        }
      ]
    },
    {
      "cell_type": "code",
      "source": [
        "# conferindo todo o dicionário\n",
        "precos.items()"
      ],
      "metadata": {
        "colab": {
          "base_uri": "https://localhost:8080/"
        },
        "id": "bYDeq7wQXFDV",
        "outputId": "57214120-f1d2-4e30-ad10-28dcb3c6261a"
      },
      "execution_count": 152,
      "outputs": [
        {
          "output_type": "execute_result",
          "data": {
            "text/plain": [
              "dict_items([('PETR4', 30), ('VALE3', 102), ('WEGE3', 34)])"
            ]
          },
          "metadata": {},
          "execution_count": 152
        }
      ]
    },
    {
      "cell_type": "code",
      "source": [
        "# conferindo valor de uma chave específica\n",
        "precos['PETR4']"
      ],
      "metadata": {
        "colab": {
          "base_uri": "https://localhost:8080/"
        },
        "id": "kz4ugUHPXE7A",
        "outputId": "302b15b3-7ad8-4e86-ee66-cf663ecf94e6"
      },
      "execution_count": 153,
      "outputs": [
        {
          "output_type": "execute_result",
          "data": {
            "text/plain": [
              "30"
            ]
          },
          "metadata": {},
          "execution_count": 153
        }
      ]
    },
    {
      "cell_type": "code",
      "source": [
        "# alterando valor da chave específica\n",
        "precos['PETR4'] = 35"
      ],
      "metadata": {
        "id": "c-bwH7XEXExc"
      },
      "execution_count": 154,
      "outputs": []
    },
    {
      "cell_type": "code",
      "source": [
        "precos"
      ],
      "metadata": {
        "colab": {
          "base_uri": "https://localhost:8080/"
        },
        "id": "oRs1Y49WXEtM",
        "outputId": "e7af662d-c220-456a-b24f-848316cabc32"
      },
      "execution_count": 155,
      "outputs": [
        {
          "output_type": "execute_result",
          "data": {
            "text/plain": [
              "{'PETR4': 35, 'VALE3': 102, 'WEGE3': 34}"
            ]
          },
          "metadata": {},
          "execution_count": 155
        }
      ]
    },
    {
      "cell_type": "code",
      "source": [
        "# adcionando novos itens \n",
        "precos['GOAU4'] = 20\n",
        "precos"
      ],
      "metadata": {
        "colab": {
          "base_uri": "https://localhost:8080/"
        },
        "id": "nuboOcO0XEpj",
        "outputId": "6ae76b85-7505-4649-84d7-dd13608ee904"
      },
      "execution_count": 157,
      "outputs": [
        {
          "output_type": "execute_result",
          "data": {
            "text/plain": [
              "{'GOAU4': 20, 'PETR4': 35, 'VALE3': 102, 'WEGE3': 34}"
            ]
          },
          "metadata": {},
          "execution_count": 157
        }
      ]
    },
    {
      "cell_type": "markdown",
      "source": [
        "# Declarações Condicionais \n"
      ],
      "metadata": {
        "id": "zxpkirOqZGfd"
      }
    },
    {
      "cell_type": "code",
      "source": [
        "preco_azul = 35.28\n",
        "preco_alvo = 30\n",
        "\n",
        "preco_azul = float(input(\"Qual o preço do ativo?\"))\n",
        "if preco_azul < 30:\n",
        "  print(\"Compre, preço muito descontado\")\n",
        "elif preco_azul < 33:\n",
        "  print(\"Ainda em tendência de queda, espere um pouco!\")\n",
        "elif preco_azul <= 36: \n",
        "  print(\"Preço iniciou a tendência de queda, espere cair mais!\")\n",
        "else:\n",
        "  print(\"espere!\")"
      ],
      "metadata": {
        "colab": {
          "base_uri": "https://localhost:8080/"
        },
        "id": "xPxLR1O5XEk9",
        "outputId": "d73118b9-eedb-4aed-bac0-2f59479c3898"
      },
      "execution_count": 166,
      "outputs": [
        {
          "output_type": "stream",
          "name": "stdout",
          "text": [
            "Qual o preço do ativo?30\n",
            "Ainda em tendência de queda, espere um pouco!\n"
          ]
        }
      ]
    },
    {
      "cell_type": "code",
      "source": [
        "preco_weg = 19\n",
        "\n",
        "if preco_weg > preco_alvo:\n",
        "  print(\"Espere\")\n",
        "else:\n",
        "  print(\"Compre\")"
      ],
      "metadata": {
        "colab": {
          "base_uri": "https://localhost:8080/"
        },
        "id": "D-JGyjgzXEhb",
        "outputId": "16cd91ab-d576-4c61-e702-39fbc46bb3d4"
      },
      "execution_count": 167,
      "outputs": [
        {
          "output_type": "stream",
          "name": "stdout",
          "text": [
            "Compre\n"
          ]
        }
      ]
    },
    {
      "cell_type": "markdown",
      "source": [
        "#Estruturas de Repetição\n"
      ],
      "metadata": {
        "id": "glRH-3HLBSxM"
      }
    },
    {
      "cell_type": "markdown",
      "source": [
        "# For"
      ],
      "metadata": {
        "id": "blVlTUUAbC7H"
      }
    },
    {
      "cell_type": "code",
      "execution_count": 1,
      "metadata": {
        "id": "GXqeYxF5BMmd"
      },
      "outputs": [],
      "source": [
        "lista = ['João','José','André','Marcos']"
      ]
    },
    {
      "cell_type": "code",
      "source": [
        "for proprietario_automovel in lista:\n",
        "  print(proprietario_automovel)"
      ],
      "metadata": {
        "colab": {
          "base_uri": "https://localhost:8080/"
        },
        "id": "K6QjP6HQChpW",
        "outputId": "b1f94fa2-49ba-45f3-f9af-5601bf607f65"
      },
      "execution_count": 2,
      "outputs": [
        {
          "output_type": "stream",
          "name": "stdout",
          "text": [
            "João\n",
            "José\n",
            "André\n",
            "Marcos\n"
          ]
        }
      ]
    },
    {
      "cell_type": "code",
      "source": [
        "lista_ativos = ['PETR4.SA','WEGE3.SA','MGLU3.SA','LREN3.SA','RENT3.SA','VALE3.SA']"
      ],
      "metadata": {
        "id": "qDKI9POZCnuf"
      },
      "execution_count": 14,
      "outputs": []
    },
    {
      "cell_type": "code",
      "source": [
        "lista_ativos"
      ],
      "metadata": {
        "colab": {
          "base_uri": "https://localhost:8080/"
        },
        "id": "oPuCOOjsDx3D",
        "outputId": "b5090b92-19dc-407e-a609-af1210589747"
      },
      "execution_count": 15,
      "outputs": [
        {
          "output_type": "execute_result",
          "data": {
            "text/plain": [
              "['PETR4.SA', 'WEGE3.SA', 'MGLU3.SA', 'LREN3.SA', 'RENT3.SA', 'VALE3.SA']"
            ]
          },
          "metadata": {},
          "execution_count": 15
        }
      ]
    },
    {
      "cell_type": "code",
      "source": [
        "for acoes in lista_ativos:\n",
        "  print(acoes)"
      ],
      "metadata": {
        "colab": {
          "base_uri": "https://localhost:8080/"
        },
        "id": "Wk1CLK0tDy1g",
        "outputId": "dfaf36a5-05c9-4ffc-8649-657aa47c597a"
      },
      "execution_count": 16,
      "outputs": [
        {
          "output_type": "stream",
          "name": "stdout",
          "text": [
            "PETR4.SA\n",
            "WEGE3.SA\n",
            "MGLU3.SA\n",
            "LREN3.SA\n",
            "RENT3.SA\n",
            "VALE3.SA\n"
          ]
        }
      ]
    },
    {
      "cell_type": "markdown",
      "source": [
        "Utilizando para o mercado financeiro, primeiro vamos intalar a biblioteca YFinance."
      ],
      "metadata": {
        "id": "e1F2phhvD_iO"
      }
    },
    {
      "cell_type": "code",
      "source": [
        "!pip install yfinance"
      ],
      "metadata": {
        "colab": {
          "base_uri": "https://localhost:8080/"
        },
        "id": "qnoj_QGND6Rx",
        "outputId": "0f04de86-f297-4c17-8bc0-a1755c317950"
      },
      "execution_count": 17,
      "outputs": [
        {
          "output_type": "stream",
          "name": "stdout",
          "text": [
            "Looking in indexes: https://pypi.org/simple, https://us-python.pkg.dev/colab-wheels/public/simple/\n",
            "Requirement already satisfied: yfinance in /usr/local/lib/python3.7/dist-packages (0.1.72)\n",
            "Requirement already satisfied: lxml>=4.5.1 in /usr/local/lib/python3.7/dist-packages (from yfinance) (4.9.1)\n",
            "Requirement already satisfied: pandas>=0.24.0 in /usr/local/lib/python3.7/dist-packages (from yfinance) (1.3.5)\n",
            "Requirement already satisfied: numpy>=1.15 in /usr/local/lib/python3.7/dist-packages (from yfinance) (1.21.6)\n",
            "Requirement already satisfied: multitasking>=0.0.7 in /usr/local/lib/python3.7/dist-packages (from yfinance) (0.0.10)\n",
            "Requirement already satisfied: requests>=2.26 in /usr/local/lib/python3.7/dist-packages (from yfinance) (2.28.1)\n",
            "Requirement already satisfied: python-dateutil>=2.7.3 in /usr/local/lib/python3.7/dist-packages (from pandas>=0.24.0->yfinance) (2.8.2)\n",
            "Requirement already satisfied: pytz>=2017.3 in /usr/local/lib/python3.7/dist-packages (from pandas>=0.24.0->yfinance) (2022.1)\n",
            "Requirement already satisfied: six>=1.5 in /usr/local/lib/python3.7/dist-packages (from python-dateutil>=2.7.3->pandas>=0.24.0->yfinance) (1.15.0)\n",
            "Requirement already satisfied: urllib3<1.27,>=1.21.1 in /usr/local/lib/python3.7/dist-packages (from requests>=2.26->yfinance) (1.24.3)\n",
            "Requirement already satisfied: charset-normalizer<3,>=2 in /usr/local/lib/python3.7/dist-packages (from requests>=2.26->yfinance) (2.1.0)\n",
            "Requirement already satisfied: certifi>=2017.4.17 in /usr/local/lib/python3.7/dist-packages (from requests>=2.26->yfinance) (2022.6.15)\n",
            "Requirement already satisfied: idna<4,>=2.5 in /usr/local/lib/python3.7/dist-packages (from requests>=2.26->yfinance) (2.10)\n"
          ]
        }
      ]
    },
    {
      "cell_type": "code",
      "source": [
        "#importando bibliotecas\n",
        "import yfinance as yf\n",
        "import pandas as pd"
      ],
      "metadata": {
        "id": "n-19SpyOEG0K"
      },
      "execution_count": 18,
      "outputs": []
    },
    {
      "cell_type": "code",
      "source": [
        "# extraindo dados\n",
        "dados = yf.download(\"MGLU3.SA\", start='2020-01-01', end='2021-07-01')['Adj Close']"
      ],
      "metadata": {
        "colab": {
          "base_uri": "https://localhost:8080/"
        },
        "id": "9TGdbl-fEKC3",
        "outputId": "bb3c7b63-58fb-4bbd-e04e-71c90cc74368"
      },
      "execution_count": 41,
      "outputs": [
        {
          "output_type": "stream",
          "name": "stdout",
          "text": [
            "\r[*********************100%***********************]  1 of 1 completed\n"
          ]
        }
      ]
    },
    {
      "cell_type": "code",
      "source": [
        "dados.head()"
      ],
      "metadata": {
        "colab": {
          "base_uri": "https://localhost:8080/"
        },
        "id": "ySw0zsm0EdY7",
        "outputId": "7d96ccb5-f923-400d-be8c-6e58f0da5d7b"
      },
      "execution_count": 42,
      "outputs": [
        {
          "output_type": "execute_result",
          "data": {
            "text/plain": [
              "Date\n",
              "2020-01-02    12.029736\n",
              "2020-01-03    11.922436\n",
              "2020-01-06    11.932190\n",
              "2020-01-07    11.898049\n",
              "2020-01-08    12.263844\n",
              "Name: Adj Close, dtype: float64"
            ]
          },
          "metadata": {},
          "execution_count": 42
        }
      ]
    },
    {
      "cell_type": "code",
      "source": [
        "#criando dataframe vazio\n",
        "df = pd.DataFrame()"
      ],
      "metadata": {
        "id": "lewlRY7nEe8W"
      },
      "execution_count": 21,
      "outputs": []
    },
    {
      "cell_type": "code",
      "source": [
        "# criando estrutura de repetição\n",
        "for acoes in lista_ativos:\n",
        "  df[acoes] = yf.download(acoes, start='2020-01-01', end='2021-07-01')['Adj Close']"
      ],
      "metadata": {
        "colab": {
          "base_uri": "https://localhost:8080/"
        },
        "id": "Irn-LRjLEpHH",
        "outputId": "09f39c5c-cb62-4c25-8d63-f4366cda8f7d"
      },
      "execution_count": 22,
      "outputs": [
        {
          "output_type": "stream",
          "name": "stdout",
          "text": [
            "[*********************100%***********************]  1 of 1 completed\n",
            "[*********************100%***********************]  1 of 1 completed\n",
            "[*********************100%***********************]  1 of 1 completed\n",
            "[*********************100%***********************]  1 of 1 completed\n",
            "[*********************100%***********************]  1 of 1 completed\n",
            "[*********************100%***********************]  1 of 1 completed\n"
          ]
        }
      ]
    },
    {
      "cell_type": "code",
      "source": [
        "df.head()"
      ],
      "metadata": {
        "colab": {
          "base_uri": "https://localhost:8080/",
          "height": 238
        },
        "id": "NlgSHAlmE6t_",
        "outputId": "ba7ed2c2-ff60-46a7-e56d-cd60f1c6f01c"
      },
      "execution_count": 23,
      "outputs": [
        {
          "output_type": "execute_result",
          "data": {
            "text/plain": [
              "             PETR4.SA   WEGE3.SA   MGLU3.SA   LREN3.SA   RENT3.SA   VALE3.SA\n",
              "Date                                                                        \n",
              "2020-01-02  20.466223  17.114555  12.029735  54.501568  48.343922  42.689388\n",
              "2020-01-03  20.299557  16.896011  11.922435  54.122425  47.642441  42.375092\n",
              "2020-01-06  20.539551  16.939714  11.932190  54.075027  47.087109  42.123650\n",
              "2020-01-07  20.459555  17.070847  11.898048  54.046600  47.545017  42.430092\n",
              "2020-01-08  20.332891  16.424921  12.263843  54.397305  47.311188  42.437946"
            ],
            "text/html": [
              "\n",
              "  <div id=\"df-dccaae08-3047-415c-bb0d-97c34a701829\">\n",
              "    <div class=\"colab-df-container\">\n",
              "      <div>\n",
              "<style scoped>\n",
              "    .dataframe tbody tr th:only-of-type {\n",
              "        vertical-align: middle;\n",
              "    }\n",
              "\n",
              "    .dataframe tbody tr th {\n",
              "        vertical-align: top;\n",
              "    }\n",
              "\n",
              "    .dataframe thead th {\n",
              "        text-align: right;\n",
              "    }\n",
              "</style>\n",
              "<table border=\"1\" class=\"dataframe\">\n",
              "  <thead>\n",
              "    <tr style=\"text-align: right;\">\n",
              "      <th></th>\n",
              "      <th>PETR4.SA</th>\n",
              "      <th>WEGE3.SA</th>\n",
              "      <th>MGLU3.SA</th>\n",
              "      <th>LREN3.SA</th>\n",
              "      <th>RENT3.SA</th>\n",
              "      <th>VALE3.SA</th>\n",
              "    </tr>\n",
              "    <tr>\n",
              "      <th>Date</th>\n",
              "      <th></th>\n",
              "      <th></th>\n",
              "      <th></th>\n",
              "      <th></th>\n",
              "      <th></th>\n",
              "      <th></th>\n",
              "    </tr>\n",
              "  </thead>\n",
              "  <tbody>\n",
              "    <tr>\n",
              "      <th>2020-01-02</th>\n",
              "      <td>20.466223</td>\n",
              "      <td>17.114555</td>\n",
              "      <td>12.029735</td>\n",
              "      <td>54.501568</td>\n",
              "      <td>48.343922</td>\n",
              "      <td>42.689388</td>\n",
              "    </tr>\n",
              "    <tr>\n",
              "      <th>2020-01-03</th>\n",
              "      <td>20.299557</td>\n",
              "      <td>16.896011</td>\n",
              "      <td>11.922435</td>\n",
              "      <td>54.122425</td>\n",
              "      <td>47.642441</td>\n",
              "      <td>42.375092</td>\n",
              "    </tr>\n",
              "    <tr>\n",
              "      <th>2020-01-06</th>\n",
              "      <td>20.539551</td>\n",
              "      <td>16.939714</td>\n",
              "      <td>11.932190</td>\n",
              "      <td>54.075027</td>\n",
              "      <td>47.087109</td>\n",
              "      <td>42.123650</td>\n",
              "    </tr>\n",
              "    <tr>\n",
              "      <th>2020-01-07</th>\n",
              "      <td>20.459555</td>\n",
              "      <td>17.070847</td>\n",
              "      <td>11.898048</td>\n",
              "      <td>54.046600</td>\n",
              "      <td>47.545017</td>\n",
              "      <td>42.430092</td>\n",
              "    </tr>\n",
              "    <tr>\n",
              "      <th>2020-01-08</th>\n",
              "      <td>20.332891</td>\n",
              "      <td>16.424921</td>\n",
              "      <td>12.263843</td>\n",
              "      <td>54.397305</td>\n",
              "      <td>47.311188</td>\n",
              "      <td>42.437946</td>\n",
              "    </tr>\n",
              "  </tbody>\n",
              "</table>\n",
              "</div>\n",
              "      <button class=\"colab-df-convert\" onclick=\"convertToInteractive('df-dccaae08-3047-415c-bb0d-97c34a701829')\"\n",
              "              title=\"Convert this dataframe to an interactive table.\"\n",
              "              style=\"display:none;\">\n",
              "        \n",
              "  <svg xmlns=\"http://www.w3.org/2000/svg\" height=\"24px\"viewBox=\"0 0 24 24\"\n",
              "       width=\"24px\">\n",
              "    <path d=\"M0 0h24v24H0V0z\" fill=\"none\"/>\n",
              "    <path d=\"M18.56 5.44l.94 2.06.94-2.06 2.06-.94-2.06-.94-.94-2.06-.94 2.06-2.06.94zm-11 1L8.5 8.5l.94-2.06 2.06-.94-2.06-.94L8.5 2.5l-.94 2.06-2.06.94zm10 10l.94 2.06.94-2.06 2.06-.94-2.06-.94-.94-2.06-.94 2.06-2.06.94z\"/><path d=\"M17.41 7.96l-1.37-1.37c-.4-.4-.92-.59-1.43-.59-.52 0-1.04.2-1.43.59L10.3 9.45l-7.72 7.72c-.78.78-.78 2.05 0 2.83L4 21.41c.39.39.9.59 1.41.59.51 0 1.02-.2 1.41-.59l7.78-7.78 2.81-2.81c.8-.78.8-2.07 0-2.86zM5.41 20L4 18.59l7.72-7.72 1.47 1.35L5.41 20z\"/>\n",
              "  </svg>\n",
              "      </button>\n",
              "      \n",
              "  <style>\n",
              "    .colab-df-container {\n",
              "      display:flex;\n",
              "      flex-wrap:wrap;\n",
              "      gap: 12px;\n",
              "    }\n",
              "\n",
              "    .colab-df-convert {\n",
              "      background-color: #E8F0FE;\n",
              "      border: none;\n",
              "      border-radius: 50%;\n",
              "      cursor: pointer;\n",
              "      display: none;\n",
              "      fill: #1967D2;\n",
              "      height: 32px;\n",
              "      padding: 0 0 0 0;\n",
              "      width: 32px;\n",
              "    }\n",
              "\n",
              "    .colab-df-convert:hover {\n",
              "      background-color: #E2EBFA;\n",
              "      box-shadow: 0px 1px 2px rgba(60, 64, 67, 0.3), 0px 1px 3px 1px rgba(60, 64, 67, 0.15);\n",
              "      fill: #174EA6;\n",
              "    }\n",
              "\n",
              "    [theme=dark] .colab-df-convert {\n",
              "      background-color: #3B4455;\n",
              "      fill: #D2E3FC;\n",
              "    }\n",
              "\n",
              "    [theme=dark] .colab-df-convert:hover {\n",
              "      background-color: #434B5C;\n",
              "      box-shadow: 0px 1px 3px 1px rgba(0, 0, 0, 0.15);\n",
              "      filter: drop-shadow(0px 1px 2px rgba(0, 0, 0, 0.3));\n",
              "      fill: #FFFFFF;\n",
              "    }\n",
              "  </style>\n",
              "\n",
              "      <script>\n",
              "        const buttonEl =\n",
              "          document.querySelector('#df-dccaae08-3047-415c-bb0d-97c34a701829 button.colab-df-convert');\n",
              "        buttonEl.style.display =\n",
              "          google.colab.kernel.accessAllowed ? 'block' : 'none';\n",
              "\n",
              "        async function convertToInteractive(key) {\n",
              "          const element = document.querySelector('#df-dccaae08-3047-415c-bb0d-97c34a701829');\n",
              "          const dataTable =\n",
              "            await google.colab.kernel.invokeFunction('convertToInteractive',\n",
              "                                                     [key], {});\n",
              "          if (!dataTable) return;\n",
              "\n",
              "          const docLinkHtml = 'Like what you see? Visit the ' +\n",
              "            '<a target=\"_blank\" href=https://colab.research.google.com/notebooks/data_table.ipynb>data table notebook</a>'\n",
              "            + ' to learn more about interactive tables.';\n",
              "          element.innerHTML = '';\n",
              "          dataTable['output_type'] = 'display_data';\n",
              "          await google.colab.output.renderOutput(dataTable, element);\n",
              "          const docLink = document.createElement('div');\n",
              "          docLink.innerHTML = docLinkHtml;\n",
              "          element.appendChild(docLink);\n",
              "        }\n",
              "      </script>\n",
              "    </div>\n",
              "  </div>\n",
              "  "
            ]
          },
          "metadata": {},
          "execution_count": 23
        }
      ]
    },
    {
      "cell_type": "code",
      "source": [
        "df.plot()"
      ],
      "metadata": {
        "colab": {
          "base_uri": "https://localhost:8080/",
          "height": 294
        },
        "id": "oSa4YdzmE8oA",
        "outputId": "87245044-2882-4953-881b-e35936e9d995"
      },
      "execution_count": 31,
      "outputs": [
        {
          "output_type": "execute_result",
          "data": {
            "text/plain": [
              "<matplotlib.axes._subplots.AxesSubplot at 0x7f28ae666450>"
            ]
          },
          "metadata": {},
          "execution_count": 31
        },
        {
          "output_type": "display_data",
          "data": {
            "text/plain": [
              "<Figure size 432x288 with 1 Axes>"
            ],
            "image/png": "[encoded data removed]"
          },
          "metadata": {
            "needs_background": "light"
          }
        }
      ]
    },
    {
      "cell_type": "markdown",
      "source": [
        "#While"
      ],
      "metadata": {
        "id": "369MBU5HFsPW"
      }
    },
    {
      "cell_type": "code",
      "source": [
        "preco_weg=30"
      ],
      "metadata": {
        "id": "jbVJLMKBFG_f"
      },
      "execution_count": 47,
      "outputs": []
    },
    {
      "cell_type": "code",
      "source": [
        "while preco_weg < 39:\n",
        "  print(\"Ainda não atingiu o preço alvo, espere. O preço atual é: \",preco_weg)\n",
        "  preco_weg = preco_weg*1.01\n",
        "\n",
        "else: \n",
        "  print('Preço alvo atingido, hora de vender! Preço da venda: ', preco_weg)"
      ],
      "metadata": {
        "colab": {
          "base_uri": "https://localhost:8080/"
        },
        "id": "73ZtO1KKFIlS",
        "outputId": "36af6e74-449d-458c-96e3-c8c7ca82c819"
      },
      "execution_count": 48,
      "outputs": [
        {
          "output_type": "stream",
          "name": "stdout",
          "text": [
            "Ainda não atingiu o preço alvo, espere. O preço atual é:  30\n",
            "Ainda não atingiu o preço alvo, espere. O preço atual é:  30.3\n",
            "Ainda não atingiu o preço alvo, espere. O preço atual é:  30.603\n",
            "Ainda não atingiu o preço alvo, espere. O preço atual é:  30.90903\n",
            "Ainda não atingiu o preço alvo, espere. O preço atual é:  31.218120300000002\n",
            "Ainda não atingiu o preço alvo, espere. O preço atual é:  31.530301503000004\n",
            "Ainda não atingiu o preço alvo, espere. O preço atual é:  31.845604518030004\n",
            "Ainda não atingiu o preço alvo, espere. O preço atual é:  32.164060563210306\n",
            "Ainda não atingiu o preço alvo, espere. O preço atual é:  32.48570116884241\n",
            "Ainda não atingiu o preço alvo, espere. O preço atual é:  32.81055818053083\n",
            "Ainda não atingiu o preço alvo, espere. O preço atual é:  33.138663762336144\n",
            "Ainda não atingiu o preço alvo, espere. O preço atual é:  33.470050399959504\n",
            "Ainda não atingiu o preço alvo, espere. O preço atual é:  33.804750903959096\n",
            "Ainda não atingiu o preço alvo, espere. O preço atual é:  34.14279841299869\n",
            "Ainda não atingiu o preço alvo, espere. O preço atual é:  34.48422639712867\n",
            "Ainda não atingiu o preço alvo, espere. O preço atual é:  34.82906866109996\n",
            "Ainda não atingiu o preço alvo, espere. O preço atual é:  35.17735934771096\n",
            "Ainda não atingiu o preço alvo, espere. O preço atual é:  35.529132941188074\n",
            "Ainda não atingiu o preço alvo, espere. O preço atual é:  35.88442427059996\n",
            "Ainda não atingiu o preço alvo, espere. O preço atual é:  36.243268513305956\n",
            "Ainda não atingiu o preço alvo, espere. O preço atual é:  36.605701198439014\n",
            "Ainda não atingiu o preço alvo, espere. O preço atual é:  36.9717582104234\n",
            "Ainda não atingiu o preço alvo, espere. O preço atual é:  37.34147579252764\n",
            "Ainda não atingiu o preço alvo, espere. O preço atual é:  37.714890550452914\n",
            "Ainda não atingiu o preço alvo, espere. O preço atual é:  38.09203945595744\n",
            "Ainda não atingiu o preço alvo, espere. O preço atual é:  38.472959850517015\n",
            "Ainda não atingiu o preço alvo, espere. O preço atual é:  38.85768944902218\n",
            "Preço alvo atingido, hora de vender! Preço da venda:  39.2462663435124\n"
          ]
        }
      ]
    },
    {
      "cell_type": "code",
      "source": [
        "investimento_unitario = 0\n",
        "investimento_total = 0"
      ],
      "metadata": {
        "id": "EOidVxBDG9_M"
      },
      "execution_count": 49,
      "outputs": []
    },
    {
      "cell_type": "code",
      "source": [
        "while investimento_total < 10000:\n",
        "  investimento_unitario = int(input(\"Digite o Valor investido na operação: \"))\n",
        "  investimento_total = investimento_total + investimento_unitario\n",
        "\n",
        "else:\n",
        "  print(\"Limite total previsto para investimento foi atingido\")\n",
        "  print(\"Você excedeu \", investimento_total-10000, ' do valor investido')\n",
        "\n",
        "print(\"Voce investiu o total de R$\", investimento_total)"
      ],
      "metadata": {
        "colab": {
          "base_uri": "https://localhost:8080/"
        },
        "id": "AJZRx37nIzHN",
        "outputId": "6f4017d7-6cd1-44d1-b124-19da0bd9c878"
      },
      "execution_count": 50,
      "outputs": [
        {
          "output_type": "stream",
          "name": "stdout",
          "text": [
            "Digite o Valor investido na operação: 3500\n",
            "Digite o Valor investido na operação: 5000\n",
            "Digite o Valor investido na operação: 7000\n",
            "Limite total previsto para investimento foi atingido\n",
            "Você excedeu  5500  do valor investido\n",
            "Voce investiu o total de R$ 15500\n"
          ]
        }
      ]
    },
    {
      "cell_type": "markdown",
      "source": [
        "# Operadores"
      ],
      "metadata": {
        "id": "v2mGdE0QbQrr"
      }
    },
    {
      "cell_type": "markdown",
      "source": [
        "# Range"
      ],
      "metadata": {
        "id": "RUuZTC7bbS07"
      }
    },
    {
      "cell_type": "code",
      "source": [
        "range(0,12)"
      ],
      "metadata": {
        "colab": {
          "base_uri": "https://localhost:8080/"
        },
        "id": "31J3VnHhJXnf",
        "outputId": "9504f323-84ad-4158-f884-f5ba2c2a3166"
      },
      "execution_count": 173,
      "outputs": [
        {
          "output_type": "execute_result",
          "data": {
            "text/plain": [
              "range(0, 12)"
            ]
          },
          "metadata": {},
          "execution_count": 173
        }
      ]
    },
    {
      "cell_type": "code",
      "source": [
        "list(range(0,12))"
      ],
      "metadata": {
        "colab": {
          "base_uri": "https://localhost:8080/"
        },
        "id": "qf4j2ML4bXcX",
        "outputId": "3ea0aa52-af3c-41c1-e192-87dc12cd78a9"
      },
      "execution_count": 174,
      "outputs": [
        {
          "output_type": "execute_result",
          "data": {
            "text/plain": [
              "[0, 1, 2, 3, 4, 5, 6, 7, 8, 9, 10, 11]"
            ]
          },
          "metadata": {},
          "execution_count": 174
        }
      ]
    },
    {
      "cell_type": "code",
      "source": [
        "for i in range(0,11):\n",
        "  print(i)"
      ],
      "metadata": {
        "colab": {
          "base_uri": "https://localhost:8080/"
        },
        "id": "UOL5NtirbcAu",
        "outputId": "66fb19aa-8db5-4f73-e54e-bfa9d90af02d"
      },
      "execution_count": 175,
      "outputs": [
        {
          "output_type": "stream",
          "name": "stdout",
          "text": [
            "0\n",
            "1\n",
            "2\n",
            "3\n",
            "4\n",
            "5\n",
            "6\n",
            "7\n",
            "8\n",
            "9\n",
            "10\n"
          ]
        }
      ]
    },
    {
      "cell_type": "markdown",
      "source": [
        "# Enumerate"
      ],
      "metadata": {
        "id": "df8s51fCbuup"
      }
    },
    {
      "cell_type": "code",
      "source": [
        "acao = 'PETR4'"
      ],
      "metadata": {
        "id": "gicWLGWrbqFB"
      },
      "execution_count": 178,
      "outputs": []
    },
    {
      "cell_type": "code",
      "source": [
        "index_count = 0\n",
        "\n",
        "for letra in acao:\n",
        "  '''\n",
        "  Para cada letra na variável ação,\n",
        "  Imprime o indice daquela letra,\n",
        "  ao final adcione 1 ao contador\n",
        "  '''\n",
        "  print(\"No índice\", index_count, 'o caractere é', letra)\n",
        "  index_count += 1"
      ],
      "metadata": {
        "colab": {
          "base_uri": "https://localhost:8080/"
        },
        "id": "3dEtIqe0bxVj",
        "outputId": "93ea5486-dd1f-4d95-a9d9-862736200236"
      },
      "execution_count": 182,
      "outputs": [
        {
          "output_type": "stream",
          "name": "stdout",
          "text": [
            "No índice 0 o caractere é P\n",
            "No índice 1 o caractere é E\n",
            "No índice 2 o caractere é T\n",
            "No índice 3 o caractere é R\n",
            "No índice 4 o caractere é 4\n"
          ]
        }
      ]
    },
    {
      "cell_type": "code",
      "source": [
        "list(enumerate(acao))"
      ],
      "metadata": {
        "colab": {
          "base_uri": "https://localhost:8080/"
        },
        "id": "pjmSOmLsb2jT",
        "outputId": "c576cc3c-7aa3-46f3-c289-c2c8277065a2"
      },
      "execution_count": 188,
      "outputs": [
        {
          "output_type": "execute_result",
          "data": {
            "text/plain": [
              "[(0, 'P'), (1, 'E'), (2, 'T'), (3, 'R'), (4, '4')]"
            ]
          },
          "metadata": {},
          "execution_count": 188
        }
      ]
    },
    {
      "cell_type": "markdown",
      "source": [
        "Veja como ele retorna uma lista onde cada valor é um par, sendo i = indice e j = letra"
      ],
      "metadata": {
        "id": "MSrtvQFSc8Pz"
      }
    },
    {
      "cell_type": "code",
      "source": [
        "for i, letra in enumerate(acao):\n",
        "  print(\"No índice\",i,'o caractere é', letra)"
      ],
      "metadata": {
        "colab": {
          "base_uri": "https://localhost:8080/"
        },
        "id": "jAvOVEQYcabO",
        "outputId": "6ce1cb2d-2eb8-4a14-a1fc-a4a6cced34fd"
      },
      "execution_count": 191,
      "outputs": [
        {
          "output_type": "stream",
          "name": "stdout",
          "text": [
            "No índice 0 o caractere é P\n",
            "No índice 1 o caractere é E\n",
            "No índice 2 o caractere é T\n",
            "No índice 3 o caractere é R\n",
            "No índice 4 o caractere é 4\n"
          ]
        }
      ]
    },
    {
      "cell_type": "markdown",
      "source": [
        "# Zip & In\n",
        "\n",
        "Cria relações entre listas."
      ],
      "metadata": {
        "id": "4nXuv0INdraP"
      }
    },
    {
      "cell_type": "code",
      "source": [
        "ativos = ['PETR4.SA','WEGE3.SA','MGLU3.SA','JHSF3.SA','GOUA4.SA']\n",
        "setores = ['Petróleo', 'Motores', 'Varejo', 'Construção', 'Metalurgia']"
      ],
      "metadata": {
        "id": "ec9UDHU8cavY"
      },
      "execution_count": 224,
      "outputs": []
    },
    {
      "cell_type": "code",
      "source": [
        "list(zip(ativos,setores))"
      ],
      "metadata": {
        "colab": {
          "base_uri": "https://localhost:8080/"
        },
        "id": "kDjh4UDxeK9f",
        "outputId": "9fc23fed-843d-4bd7-a3cb-d3a7b3ad4ac8"
      },
      "execution_count": 225,
      "outputs": [
        {
          "output_type": "execute_result",
          "data": {
            "text/plain": [
              "[('PETR4.SA', 'Petróleo'),\n",
              " ('WEGE3.SA', 'Motores'),\n",
              " ('MGLU3.SA', 'Varejo'),\n",
              " ('JHSF3.SA', 'Construção'),\n",
              " ('GOUA4.SA', 'Metalurgia')]"
            ]
          },
          "metadata": {},
          "execution_count": 225
        }
      ]
    },
    {
      "cell_type": "code",
      "source": [
        "for ativos, setores in list(zip(ativos,setores)):\n",
        "  print(f'O papel {ativos} pertence ao setor {setores}')"
      ],
      "metadata": {
        "colab": {
          "base_uri": "https://localhost:8080/"
        },
        "id": "PKa78WTVeeXs",
        "outputId": "427e39ed-bf4c-46dd-d3e4-012eb20f866e"
      },
      "execution_count": 226,
      "outputs": [
        {
          "output_type": "stream",
          "name": "stdout",
          "text": [
            "O papel PETR4.SA pertence ao setor Petróleo\n",
            "O papel WEGE3.SA pertence ao setor Motores\n",
            "O papel MGLU3.SA pertence ao setor Varejo\n",
            "O papel JHSF3.SA pertence ao setor Construção\n",
            "O papel GOUA4.SA pertence ao setor Metalurgia\n"
          ]
        }
      ]
    },
    {
      "cell_type": "code",
      "source": [
        "'VIVR3' in ativos"
      ],
      "metadata": {
        "colab": {
          "base_uri": "https://localhost:8080/"
        },
        "id": "q-LmTyacf3o2",
        "outputId": "d654573c-e36c-4b4b-fab2-2c41811cefe0"
      },
      "execution_count": 227,
      "outputs": [
        {
          "output_type": "execute_result",
          "data": {
            "text/plain": [
              "False"
            ]
          },
          "metadata": {},
          "execution_count": 227
        }
      ]
    },
    {
      "cell_type": "markdown",
      "source": [
        "# Random\n",
        "Criando valores aleatorios"
      ],
      "metadata": {
        "id": "z--Icylshaf4"
      }
    },
    {
      "cell_type": "code",
      "source": [
        "from random import randint, shuffle"
      ],
      "metadata": {
        "id": "bXCOvTqpgpqL"
      },
      "execution_count": 231,
      "outputs": []
    },
    {
      "cell_type": "code",
      "source": [
        "# imprimindo um  numero aleatorio entre 0 e 100 \n",
        "randint(0,100)"
      ],
      "metadata": {
        "colab": {
          "base_uri": "https://localhost:8080/"
        },
        "id": "YER3Oh9Ygz5o",
        "outputId": "1e7dce34-2e79-4ef9-9438-a468b3c60fb2"
      },
      "execution_count": 245,
      "outputs": [
        {
          "output_type": "execute_result",
          "data": {
            "text/plain": [
              "36"
            ]
          },
          "metadata": {},
          "execution_count": 245
        }
      ]
    },
    {
      "cell_type": "code",
      "source": [
        "# criando uma lista de 10 numeros aleatorios crescentes entre 0 e 100\n",
        "\n",
        "# criando a lista vazia\n",
        "lista_rand = [ ]\n",
        "\n",
        "#criando estrutura de repetição\n",
        "for i in range(0,10):\n",
        "  '''\n",
        "  Para cada elemento em um range de 0 a 10,\n",
        "  adcione à lista um número aleatório entre 0 e 100\n",
        "  '''\n",
        "  lista_rand.append(randint(0,100))\n",
        "\n",
        "#imprimindo resultado\n",
        "lista_rand"
      ],
      "metadata": {
        "colab": {
          "base_uri": "https://localhost:8080/"
        },
        "id": "Tm9fXVv5hrO6",
        "outputId": "0993657f-ad76-48f0-c86e-1105436fbb81"
      },
      "execution_count": 236,
      "outputs": [
        {
          "output_type": "execute_result",
          "data": {
            "text/plain": [
              "[78, 83, 48, 43, 19, 29, 91, 3, 61, 64]"
            ]
          },
          "metadata": {},
          "execution_count": 236
        }
      ]
    },
    {
      "cell_type": "code",
      "source": [
        "# embaralhando elementos\n",
        "shuffle(lista_rand)\n",
        "\n",
        "#imprimindo resultado\n",
        "lista_rand"
      ],
      "metadata": {
        "colab": {
          "base_uri": "https://localhost:8080/"
        },
        "id": "HIYCFpiiiWcb",
        "outputId": "a3dd4111-9e8a-4b5f-9870-1483a427defd"
      },
      "execution_count": 240,
      "outputs": [
        {
          "output_type": "execute_result",
          "data": {
            "text/plain": [
              "[91, 19, 3, 61, 78, 48, 29, 43, 83, 64]"
            ]
          },
          "metadata": {},
          "execution_count": 240
        }
      ]
    },
    {
      "cell_type": "markdown",
      "source": [
        "# List Comprehension"
      ],
      "metadata": {
        "id": "yXHYqqBSjeOf"
      }
    },
    {
      "cell_type": "code",
      "source": [
        "acao = 'MGLU3'"
      ],
      "metadata": {
        "id": "Iixmyz2biyud"
      },
      "execution_count": 254,
      "outputs": []
    },
    {
      "cell_type": "code",
      "source": [
        "for caractere in acao:\n",
        "  print(caractere)"
      ],
      "metadata": {
        "colab": {
          "base_uri": "https://localhost:8080/"
        },
        "id": "sm1i7Liljjc5",
        "outputId": "1c60d0ec-21c1-4bea-cbc2-d7987263ac79"
      },
      "execution_count": 255,
      "outputs": [
        {
          "output_type": "stream",
          "name": "stdout",
          "text": [
            "M\n",
            "G\n",
            "L\n",
            "U\n",
            "3\n"
          ]
        }
      ]
    },
    {
      "cell_type": "code",
      "source": [
        "lista_caracteres = []\n",
        "\n",
        "for caractere in acao:\n",
        "  lista_caracteres.append(caractere)\n",
        "\n",
        "lista_caracteres"
      ],
      "metadata": {
        "colab": {
          "base_uri": "https://localhost:8080/"
        },
        "id": "wthKoDPZjt5P",
        "outputId": "85afc152-f68f-40df-dc05-e8e35a8d2882"
      },
      "execution_count": 256,
      "outputs": [
        {
          "output_type": "execute_result",
          "data": {
            "text/plain": [
              "['M', 'G', 'L', 'U', '3']"
            ]
          },
          "metadata": {},
          "execution_count": 256
        }
      ]
    },
    {
      "cell_type": "code",
      "source": [
        "# utilizando compreesao de lista\n",
        "[caractere for caractere in acao]"
      ],
      "metadata": {
        "colab": {
          "base_uri": "https://localhost:8080/"
        },
        "id": "r-FQrukyj03P",
        "outputId": "db9a1c67-0dd0-400b-deb2-8c61a3273a27"
      },
      "execution_count": 266,
      "outputs": [
        {
          "output_type": "execute_result",
          "data": {
            "text/plain": [
              "['M', 'G', 'L', 'U', '3']"
            ]
          },
          "metadata": {},
          "execution_count": 266
        }
      ]
    },
    {
      "cell_type": "code",
      "source": [
        "lista_num = []\n",
        "\n",
        "for num in range(0,11):\n",
        "  lista_num.append(num**2)\n",
        "\n",
        "lista_num"
      ],
      "metadata": {
        "colab": {
          "base_uri": "https://localhost:8080/"
        },
        "id": "-QZk3H2UkHUI",
        "outputId": "4300eeea-298a-48d1-da35-f9298a36a36d"
      },
      "execution_count": 270,
      "outputs": [
        {
          "output_type": "execute_result",
          "data": {
            "text/plain": [
              "[0, 1, 4, 9, 16, 25, 36, 49, 64, 81, 100]"
            ]
          },
          "metadata": {},
          "execution_count": 270
        }
      ]
    },
    {
      "cell_type": "code",
      "source": [
        "[num**2 for num in range(0,11)]"
      ],
      "metadata": {
        "colab": {
          "base_uri": "https://localhost:8080/"
        },
        "id": "7irNwvQ2ltof",
        "outputId": "2db2f70c-bed5-4baf-ff1e-7aad7a3050a9"
      },
      "execution_count": 271,
      "outputs": [
        {
          "output_type": "execute_result",
          "data": {
            "text/plain": [
              "[0, 1, 4, 9, 16, 25, 36, 49, 64, 81, 100]"
            ]
          },
          "metadata": {},
          "execution_count": 271
        }
      ]
    },
    {
      "cell_type": "markdown",
      "source": [
        "# Métodos e Funções\n",
        "\n",
        "Um `Método` é essêncialmente uma `Função`, mas nem toda `Função` é um `Método`.\n"
      ],
      "metadata": {
        "id": "yusI1sy4m0GO"
      }
    },
    {
      "cell_type": "code",
      "source": [
        "def fala_nome():\n",
        "  print(\"Meu Nome é Marco\")\n",
        "\n",
        "fala_nome()"
      ],
      "metadata": {
        "colab": {
          "base_uri": "https://localhost:8080/"
        },
        "id": "BKKawazemtdo",
        "outputId": "c3d5117a-d27b-48f2-bf35-4b9c532c3fa0"
      },
      "execution_count": 273,
      "outputs": [
        {
          "output_type": "stream",
          "name": "stdout",
          "text": [
            "Meu Nome é Marco\n"
          ]
        }
      ]
    },
    {
      "cell_type": "code",
      "source": [
        "def fala_nome(Nome, Sobrenome):\n",
        "  print(f'Meu Nome é {Nome} {Sobrenome}')\n",
        "\n",
        "fala_nome(\"Marco\", \"Silva\")"
      ],
      "metadata": {
        "colab": {
          "base_uri": "https://localhost:8080/"
        },
        "id": "tcw2XoMMnXSs",
        "outputId": "04da711f-cc15-4c0c-8e7d-9fbe79ca4746"
      },
      "execution_count": 277,
      "outputs": [
        {
          "output_type": "stream",
          "name": "stdout",
          "text": [
            "Meu Nome é Marco Silva\n"
          ]
        }
      ]
    },
    {
      "cell_type": "code",
      "source": [
        "def soma_numeros(num1, num2):\n",
        "  soma = num1 + num2\n",
        "  return soma\n",
        "\n",
        "soma_numeros(2,5)"
      ],
      "metadata": {
        "colab": {
          "base_uri": "https://localhost:8080/"
        },
        "id": "guEigGPTnlms",
        "outputId": "5d0e2f2f-914d-4c0e-9501-95e2bf462c59"
      },
      "execution_count": 279,
      "outputs": [
        {
          "output_type": "execute_result",
          "data": {
            "text/plain": [
              "7"
            ]
          },
          "metadata": {},
          "execution_count": 279
        }
      ]
    },
    {
      "cell_type": "markdown",
      "source": [
        "# Docstring da função\n",
        "\n",
        "É a descrição da função, que deve ser feita dentro da mesma, utilizando aspas triplas."
      ],
      "metadata": {
        "id": "q_K0UVUtpBVm"
      }
    },
    {
      "cell_type": "code",
      "source": [
        "def preco(acao):\n",
        "\n",
        "  # Criando docstring para a função   \n",
        "  ''' Essa função retorna o valor do ativo ''' \n",
        "\n",
        "  if(acao == 'PETR4'):\n",
        "    print('O preço agora é R$35,50')\n",
        "  elif (acao == \"VALE3\"):\n",
        "    print(\"O preço agora é R$ 112,00\")\n",
        "  else:\n",
        "    print('Não existe')"
      ],
      "metadata": {
        "id": "WfcKLrvMoEiq"
      },
      "execution_count": 286,
      "outputs": []
    },
    {
      "cell_type": "code",
      "source": [
        "preco(\"PETR4\")"
      ],
      "metadata": {
        "colab": {
          "base_uri": "https://localhost:8080/"
        },
        "id": "5PcWCgGXowLc",
        "outputId": "93026da9-b68c-4ad9-b79f-731dbfba24c6"
      },
      "execution_count": 287,
      "outputs": [
        {
          "output_type": "stream",
          "name": "stdout",
          "text": [
            "O preço agora é R$35,50\n"
          ]
        }
      ]
    },
    {
      "cell_type": "code",
      "source": [
        "preco(\"VIVR3\")"
      ],
      "metadata": {
        "colab": {
          "base_uri": "https://localhost:8080/"
        },
        "id": "O0nCXDnjoyqj",
        "outputId": "ab97fff0-344a-4bb8-fdd3-873e85208f3c"
      },
      "execution_count": 288,
      "outputs": [
        {
          "output_type": "stream",
          "name": "stdout",
          "text": [
            "Não existe\n"
          ]
        }
      ]
    },
    {
      "cell_type": "markdown",
      "source": [
        "# Métodos\n",
        "São funções para determinados tipos de objetos."
      ],
      "metadata": {
        "id": "uH77TBgMph8A"
      }
    },
    {
      "cell_type": "code",
      "source": [
        "numeros = [1,2,6,8,4]"
      ],
      "metadata": {
        "id": "RZZ-TMoQo1fW"
      },
      "execution_count": 306,
      "outputs": []
    },
    {
      "cell_type": "code",
      "source": [
        "numeros.insert(1,5)"
      ],
      "metadata": {
        "id": "ELPUpECup3qI"
      },
      "execution_count": 308,
      "outputs": []
    },
    {
      "cell_type": "code",
      "source": [
        "numeros"
      ],
      "metadata": {
        "colab": {
          "base_uri": "https://localhost:8080/"
        },
        "id": "CGJ_jLC5p9SA",
        "outputId": "17c9e630-6f4a-4dd7-ca89-9aacf155dd42"
      },
      "execution_count": 309,
      "outputs": [
        {
          "output_type": "execute_result",
          "data": {
            "text/plain": [
              "[1, 5, 2, 6, 8, 4]"
            ]
          },
          "metadata": {},
          "execution_count": 309
        }
      ]
    },
    {
      "cell_type": "markdown",
      "source": [
        "para acessar os métodos basta colocar um ponto após a variável, e conferir os métodos disponíveis.\n",
        "\n",
        "No caso acima, o método `insert()` exige a entrada de dois argumentos, sendo o primeiro o índice, e o segundo o valor a ser inserido. \n",
        "\n",
        "Repare que o segundo elemento da lista numeros é o '2' e após a realização do método, passou a ser '5'."
      ],
      "metadata": {
        "id": "nCEVQMH0qpaE"
      }
    },
    {
      "cell_type": "code",
      "source": [
        "dir(numeros)"
      ],
      "metadata": {
        "colab": {
          "base_uri": "https://localhost:8080/"
        },
        "id": "kj8l_KlwqMIo",
        "outputId": "cf0247a7-a11e-4aae-ef73-b1d302cea301"
      },
      "execution_count": 314,
      "outputs": [
        {
          "output_type": "execute_result",
          "data": {
            "text/plain": [
              "['__add__',\n",
              " '__class__',\n",
              " '__contains__',\n",
              " '__delattr__',\n",
              " '__delitem__',\n",
              " '__dir__',\n",
              " '__doc__',\n",
              " '__eq__',\n",
              " '__format__',\n",
              " '__ge__',\n",
              " '__getattribute__',\n",
              " '__getitem__',\n",
              " '__gt__',\n",
              " '__hash__',\n",
              " '__iadd__',\n",
              " '__imul__',\n",
              " '__init__',\n",
              " '__init_subclass__',\n",
              " '__iter__',\n",
              " '__le__',\n",
              " '__len__',\n",
              " '__lt__',\n",
              " '__mul__',\n",
              " '__ne__',\n",
              " '__new__',\n",
              " '__reduce__',\n",
              " '__reduce_ex__',\n",
              " '__repr__',\n",
              " '__reversed__',\n",
              " '__rmul__',\n",
              " '__setattr__',\n",
              " '__setitem__',\n",
              " '__sizeof__',\n",
              " '__str__',\n",
              " '__subclasshook__',\n",
              " 'append',\n",
              " 'clear',\n",
              " 'copy',\n",
              " 'count',\n",
              " 'extend',\n",
              " 'index',\n",
              " 'insert',\n",
              " 'pop',\n",
              " 'remove',\n",
              " 'reverse',\n",
              " 'sort']"
            ]
          },
          "metadata": {},
          "execution_count": 314
        }
      ]
    },
    {
      "cell_type": "markdown",
      "source": [
        "a função `dir` nos retorna os atributos e os métodos de uma determinada variável, sendo os atributos no seguinte formato: `__atributo__`, já os métodos encontram-se ao final da lista."
      ],
      "metadata": {
        "id": "lZI6ORY0raH6"
      }
    },
    {
      "cell_type": "markdown",
      "source": [
        "# Funções embutidas\n",
        "\n",
        "O ato de passar uma função dentro de outra função, para que essa função seja executada em mais de um objeto ao mesmo tempo."
      ],
      "metadata": {
        "id": "euI5qFK6r5Te"
      }
    },
    {
      "cell_type": "markdown",
      "source": [
        "# Map\n",
        "\n",
        "Mapeia objetos iteraveis para que seja possível executar uma função em cima de todos os objetos iteraveis.\n",
        "\n",
        "Se temos uma lista, é possível aplicar uma função para todos os objetos da lista sem ter que executar a função diversas vezes."
      ],
      "metadata": {
        "id": "YBuj_Mq2sP_W"
      }
    },
    {
      "cell_type": "code",
      "source": [
        "def potencia(num, pot = 2):\n",
        "  ''' função que calcula o número elevado à potência X\n",
        "      Caso não seja inserido um valor X, X == 2\n",
        "  '''\n",
        "  return num**pot"
      ],
      "metadata": {
        "id": "JXqUCC97sPyn"
      },
      "execution_count": 317,
      "outputs": []
    },
    {
      "cell_type": "code",
      "source": [
        "potencia(5)"
      ],
      "metadata": {
        "colab": {
          "base_uri": "https://localhost:8080/"
        },
        "id": "yHjFYkJ2rWGo",
        "outputId": "406d3420-118d-4633-dafc-0be5b2921dfd"
      },
      "execution_count": 318,
      "outputs": [
        {
          "output_type": "execute_result",
          "data": {
            "text/plain": [
              "25"
            ]
          },
          "metadata": {},
          "execution_count": 318
        }
      ]
    },
    {
      "cell_type": "code",
      "source": [
        "potencia(5,3)"
      ],
      "metadata": {
        "colab": {
          "base_uri": "https://localhost:8080/"
        },
        "id": "XSS_2AHXsOV1",
        "outputId": "15947657-865d-4ab2-e716-e2961ca479e6"
      },
      "execution_count": 319,
      "outputs": [
        {
          "output_type": "execute_result",
          "data": {
            "text/plain": [
              "125"
            ]
          },
          "metadata": {},
          "execution_count": 319
        }
      ]
    },
    {
      "cell_type": "code",
      "source": [
        "potencia(5,5)"
      ],
      "metadata": {
        "colab": {
          "base_uri": "https://localhost:8080/"
        },
        "id": "Wo0fWpx4tMGA",
        "outputId": "90657698-e9d6-46e0-fe8f-12f18b8ae23c"
      },
      "execution_count": 320,
      "outputs": [
        {
          "output_type": "execute_result",
          "data": {
            "text/plain": [
              "3125"
            ]
          },
          "metadata": {},
          "execution_count": 320
        }
      ]
    },
    {
      "cell_type": "code",
      "source": [
        "# utilizando o MAP \n",
        "lista_numeros = [1,2,3,4,5]\n",
        "\n",
        "list(map(potencia, lista_numeros))"
      ],
      "metadata": {
        "colab": {
          "base_uri": "https://localhost:8080/"
        },
        "id": "HFBN4QWdtSTR",
        "outputId": "850bd827-3fbf-41ce-b18d-efd94c54a56b"
      },
      "execution_count": 327,
      "outputs": [
        {
          "output_type": "execute_result",
          "data": {
            "text/plain": [
              "[1, 4, 9, 16, 25]"
            ]
          },
          "metadata": {},
          "execution_count": 327
        }
      ]
    },
    {
      "cell_type": "markdown",
      "source": [
        "# Filter\n",
        "Similar à `Map` porém ao invés de aplicar a função em vários objetos, o `Filter` vai filtrar os objetos de acordo com as condições pré determinadas\n"
      ],
      "metadata": {
        "id": "l6RbZOSUt3Dh"
      }
    },
    {
      "cell_type": "code",
      "source": [
        "def checar_par(num):\n",
        "  return num%2 == 0"
      ],
      "metadata": {
        "id": "bkcZJSF5tW5t"
      },
      "execution_count": 328,
      "outputs": []
    },
    {
      "cell_type": "code",
      "source": [
        "checar_par(2)"
      ],
      "metadata": {
        "colab": {
          "base_uri": "https://localhost:8080/"
        },
        "id": "lTqK_bPRuPv7",
        "outputId": "625213d7-1fe6-475b-de22-ec2390d87b16"
      },
      "execution_count": 329,
      "outputs": [
        {
          "output_type": "execute_result",
          "data": {
            "text/plain": [
              "True"
            ]
          },
          "metadata": {},
          "execution_count": 329
        }
      ]
    },
    {
      "cell_type": "code",
      "source": [
        "checar_par(5)"
      ],
      "metadata": {
        "colab": {
          "base_uri": "https://localhost:8080/"
        },
        "id": "FtAzVQPEuRDz",
        "outputId": "d6ceb6a6-e02b-41f3-fc78-8d34cbc525cf"
      },
      "execution_count": 330,
      "outputs": [
        {
          "output_type": "execute_result",
          "data": {
            "text/plain": [
              "False"
            ]
          },
          "metadata": {},
          "execution_count": 330
        }
      ]
    },
    {
      "cell_type": "code",
      "source": [
        "list(filter(checar_par, lista_numeros))"
      ],
      "metadata": {
        "colab": {
          "base_uri": "https://localhost:8080/"
        },
        "id": "whlZ1R1QuSJL",
        "outputId": "36cbb440-4391-4bc7-f86f-3ae6a2693bf7"
      },
      "execution_count": 331,
      "outputs": [
        {
          "output_type": "execute_result",
          "data": {
            "text/plain": [
              "[2, 4]"
            ]
          },
          "metadata": {},
          "execution_count": 331
        }
      ]
    },
    {
      "cell_type": "markdown",
      "source": [
        "# Lambda - Funções Anônimas\n",
        "\n",
        "Faz o mesmo que uma função comum, porém não precisa ser definida, e especificada em apenas uma linha de código.\n"
      ],
      "metadata": {
        "id": "Q2zmURNuugGw"
      }
    },
    {
      "cell_type": "code",
      "source": [
        "def quadrado(num):\n",
        "  return num**2"
      ],
      "metadata": {
        "id": "iehiHPE5uYI7"
      },
      "execution_count": 332,
      "outputs": []
    },
    {
      "cell_type": "code",
      "source": [
        "quadrado(5)"
      ],
      "metadata": {
        "colab": {
          "base_uri": "https://localhost:8080/"
        },
        "id": "K--n9kuLu0J-",
        "outputId": "db6f7a52-fb8e-43b2-a86f-1cd6a2a60cc0"
      },
      "execution_count": 333,
      "outputs": [
        {
          "output_type": "execute_result",
          "data": {
            "text/plain": [
              "25"
            ]
          },
          "metadata": {},
          "execution_count": 333
        }
      ]
    },
    {
      "cell_type": "code",
      "source": [
        "lambda num: num**2"
      ],
      "metadata": {
        "colab": {
          "base_uri": "https://localhost:8080/"
        },
        "id": "1mXfq9_6u1jo",
        "outputId": "5d0af2be-6e26-45af-a927-67734ed56bfd"
      },
      "execution_count": 334,
      "outputs": [
        {
          "output_type": "execute_result",
          "data": {
            "text/plain": [
              "<function __main__.<lambda>>"
            ]
          },
          "metadata": {},
          "execution_count": 334
        }
      ]
    },
    {
      "cell_type": "code",
      "source": [
        "quadrado_lambda = lambda num: num**2"
      ],
      "metadata": {
        "id": "O43I0lLQu5bU"
      },
      "execution_count": 335,
      "outputs": []
    },
    {
      "cell_type": "code",
      "source": [
        "quadrado_lambda(5)"
      ],
      "metadata": {
        "colab": {
          "base_uri": "https://localhost:8080/"
        },
        "id": "Tt16BOeMu-IG",
        "outputId": "7078c1b2-c512-4f90-e526-7df3695a4251"
      },
      "execution_count": 336,
      "outputs": [
        {
          "output_type": "execute_result",
          "data": {
            "text/plain": [
              "25"
            ]
          },
          "metadata": {},
          "execution_count": 336
        }
      ]
    },
    {
      "cell_type": "code",
      "source": [
        "list(map(quadrado_lambda, lista_numeros))"
      ],
      "metadata": {
        "colab": {
          "base_uri": "https://localhost:8080/"
        },
        "id": "wSf75QUEvAgJ",
        "outputId": "af64f3cd-c540-45a4-8c0b-bd822494a3f0"
      },
      "execution_count": 337,
      "outputs": [
        {
          "output_type": "execute_result",
          "data": {
            "text/plain": [
              "[1, 4, 9, 16, 25]"
            ]
          },
          "metadata": {},
          "execution_count": 337
        }
      ]
    },
    {
      "cell_type": "code",
      "source": [
        "list(filter(lambda num: num%2==0, lista_numeros))"
      ],
      "metadata": {
        "colab": {
          "base_uri": "https://localhost:8080/"
        },
        "id": "ZKNY90ilvFf3",
        "outputId": "b8fcc935-0db9-4ca9-fb5d-4eb75fd33a87"
      },
      "execution_count": 339,
      "outputs": [
        {
          "output_type": "execute_result",
          "data": {
            "text/plain": [
              "[2, 4]"
            ]
          },
          "metadata": {},
          "execution_count": 339
        }
      ]
    },
    {
      "cell_type": "code",
      "source": [
        ""
      ],
      "metadata": {
        "id": "XtwqIDkhvKr5"
      },
      "execution_count": null,
      "outputs": []
    }
  ]
}